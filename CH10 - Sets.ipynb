{
 "cells": [
  {
   "cell_type": "code",
   "execution_count": null,
   "metadata": {},
   "outputs": [],
   "source": [
    "# In this chapter, we cover the last object for data collection and that is set. \n",
    "# Perhaps the best use for sets is that they cannot contain duplicate values so can be useful for storing unique values. \n",
    "# They are also unordered and cannot be changed.\n",
    "\n",
    "names = {'Tony','Peter','Natasha','Wanda',1,2,3}\n",
    "names\n",
    "\n",
    "# Here, we use the curly brackets as we did with a dictionary. \n",
    "# However now we have no key value pairs and the content resembles that of a list of tuple. \n",
    "# We are not constrained by having strings in it, let’s add some integers to our set."
   ]
  },
  {
   "cell_type": "code",
   "execution_count": null,
   "metadata": {},
   "outputs": [],
   "source": [
    "type(names)"
   ]
  },
  {
   "cell_type": "code",
   "execution_count": null,
   "metadata": {},
   "outputs": [],
   "source": [
    "dir(names)"
   ]
  },
  {
   "cell_type": "code",
   "execution_count": null,
   "metadata": {},
   "outputs": [],
   "source": [
    "# Here, we can see that the ordering of the set doesn’t resemble what we put into it.\n",
    "# We can also create a set using the set built-in function as covered earlier.\n",
    "\n",
    "names = set(('Tony','Peter','Natasha','Wanda',1,2,3))\n",
    "names"
   ]
  },
  {
   "cell_type": "code",
   "execution_count": null,
   "metadata": {},
   "outputs": [],
   "source": [
    "names = set(['Tony','Peter','Natasha','Wanda',1,2,3])\n",
    "names"
   ]
  },
  {
   "cell_type": "code",
   "execution_count": null,
   "metadata": {},
   "outputs": [],
   "source": [
    "# We can create a set from a string but we need to be aware of how the curly brackets and set built-in work.\n",
    "\n",
    "names = {'Wanda'}\n",
    "names"
   ]
  },
  {
   "cell_type": "code",
   "execution_count": null,
   "metadata": {},
   "outputs": [],
   "source": [
    "# What happens is that when you pass in a string using the curly brackets you retain the\n",
    "# full string in but when passed in using set the string is split into the individual characters.\n",
    "\n",
    "names = set('Wanda')\n",
    "names"
   ]
  },
  {
   "cell_type": "code",
   "execution_count": null,
   "metadata": {},
   "outputs": [],
   "source": [
    "names = set(('Wanda'))\n",
    "names"
   ]
  },
  {
   "cell_type": "code",
   "execution_count": null,
   "metadata": {},
   "outputs": [],
   "source": [
    "# Next, we try and add a list to the set but we raise a type error as the list cannot be added.\n",
    "\n",
    "my_set = {'Tony','Wanda', 1, 2, ['hello','world']}"
   ]
  },
  {
   "cell_type": "code",
   "execution_count": null,
   "metadata": {},
   "outputs": [],
   "source": [
    "# The same is true for dictionaries and sets as we show below:\n",
    "\n",
    "my_set = {'Tony','Wanda', 1, 2, {'key':'value'}}"
   ]
  },
  {
   "cell_type": "code",
   "execution_count": null,
   "metadata": {},
   "outputs": [],
   "source": [
    "my_set = {'Tony','Wanda', 1, 2, {1,2,3}}"
   ]
  },
  {
   "cell_type": "code",
   "execution_count": null,
   "metadata": {},
   "outputs": [],
   "source": [
    "# However, if we include a tuple in the set we get the following:\n",
    "\n",
    "my_set = {'Wanda','Tony',1,2,(4,5,6)}\n",
    "my_set\n",
    "\n",
    "# The reason we can include the tuple over the dictionary, list and set \n",
    "# is that the tuple cannot be changed so is supported in a set."
   ]
  },
  {
   "cell_type": "code",
   "execution_count": null,
   "metadata": {},
   "outputs": [],
   "source": [
    "'Tony' in my_set"
   ]
  },
  {
   "cell_type": "code",
   "execution_count": null,
   "metadata": {},
   "outputs": [],
   "source": [
    "(4,5,6) in my_set"
   ]
  },
  {
   "cell_type": "code",
   "execution_count": null,
   "metadata": {},
   "outputs": [],
   "source": [
    "1 in my_set"
   ]
  },
  {
   "cell_type": "code",
   "execution_count": null,
   "metadata": {},
   "outputs": [],
   "source": [
    "4 in my_set"
   ]
  },
  {
   "cell_type": "code",
   "execution_count": null,
   "metadata": {},
   "outputs": [],
   "source": [
    "'Natasha' in my_set"
   ]
  },
  {
   "cell_type": "code",
   "execution_count": null,
   "metadata": {},
   "outputs": [],
   "source": [
    "# An item could be added to the set by using the add method:\n",
    "\n",
    "names = {'Tony','Peter','Natasha','Wanda',1,2,3}\n",
    "names"
   ]
  },
  {
   "cell_type": "code",
   "execution_count": null,
   "metadata": {},
   "outputs": [],
   "source": [
    "names.add('Steve')\n",
    "names"
   ]
  },
  {
   "cell_type": "code",
   "execution_count": null,
   "metadata": {},
   "outputs": [],
   "source": [
    "# Note here when we add in Tony again to the set we don’t get duplicate values of Tony in\n",
    "# the set, but Steve gets added in as it was not present.\n",
    "\n",
    "names.add('Tony')\n",
    "names"
   ]
  },
  {
   "cell_type": "code",
   "execution_count": null,
   "metadata": {},
   "outputs": [],
   "source": [
    "# That aspect of not having duplicate values within the set is useful \n",
    "# if we want to have a unique representation of values where we could \n",
    "# have duplicates. For example, you could imagine a long list with lots \n",
    "# of repeated values and you just want the unique values within it as we show below:\n",
    "\n",
    "days = ['Monday','Monday','Tuesday','Wednesday','Sunday','Sunday']\n",
    "days"
   ]
  },
  {
   "cell_type": "code",
   "execution_count": null,
   "metadata": {},
   "outputs": [],
   "source": [
    "# Now, the example is fairly trivial as we can see all content within the list but you can\n",
    "# imagine examples within a big dataset where you may want a similar representation.\n",
    "\n",
    "days_set = set(days)\n",
    "days_set"
   ]
  },
  {
   "cell_type": "code",
   "execution_count": null,
   "metadata": {},
   "outputs": [],
   "source": [
    "# Above is useful for a single set.\n",
    "# We also have the ability to operate on multiple sets.\n",
    "# The next example looks to obtain the unique value between two sets.\n",
    "\n",
    "names_1 = {'Tony','Peter','Natasha','Wanda'}\n",
    "names_2 = {'Steve','Peter','Carol','Wanda'}"
   ]
  },
  {
   "cell_type": "code",
   "execution_count": null,
   "metadata": {},
   "outputs": [],
   "source": [
    "# Here, we use the | operator and get the values that are in the names_1 set OR the\n",
    "# names_2 set so any shared values are included only once.\n",
    "\n",
    "names_1 | names_2"
   ]
  },
  {
   "cell_type": "code",
   "execution_count": null,
   "metadata": {},
   "outputs": [],
   "source": [
    "# The same can be achieved using the set method 'union'.\n",
    "\n",
    "names_1.union(names_2)"
   ]
  },
  {
   "cell_type": "code",
   "execution_count": null,
   "metadata": {},
   "outputs": [],
   "source": [
    "# We could rewrite passing a list into the union and get the same results.\n",
    "\n",
    "names_1 = {'Tony','Peter','Natasha','Wanda'}\n",
    "names_2 = ['Steve','Peter','Carol','Wanda']\n",
    "names_1.union(names_2)"
   ]
  },
  {
   "cell_type": "code",
   "execution_count": null,
   "metadata": {},
   "outputs": [],
   "source": [
    "# So, we can achieve the same result as the list is converted into a set. \n",
    "# If we used the | operator with the list, then we see an error.\n",
    "\n",
    "names_1 | names_2"
   ]
  },
  {
   "cell_type": "code",
   "execution_count": null,
   "metadata": {},
   "outputs": [],
   "source": [
    "# We can extend the union example by passing more items into the union method, for\n",
    "# example, if we have two sets that we want to take the union with our existing set we would\n",
    "# do as follows:\n",
    "\n",
    "names_1 = {'Tony','Peter','Natasha','Wanda'}\n",
    "names_2 = {'Steve','Peter','Carol','Wanda'}\n",
    "names_3 = {'Tony','Johnny','Sue','Wade'}"
   ]
  },
  {
   "cell_type": "code",
   "execution_count": null,
   "metadata": {},
   "outputs": [],
   "source": [
    "names_1 | names_2 | names_3"
   ]
  },
  {
   "cell_type": "code",
   "execution_count": null,
   "metadata": {},
   "outputs": [],
   "source": [
    "names_1.union(names_2, names_3)"
   ]
  },
  {
   "cell_type": "code",
   "execution_count": null,
   "metadata": {},
   "outputs": [],
   "source": [
    "# Now, if the values were lists and not sets, then we can still use the union method as shown below:\n",
    "\n",
    "names_1 = {'Tony','Peter','Natasha','Wanda'}\n",
    "names_2 = ['Steve','Peter','Carol','Wanda']\n",
    "names_3 = ['Tony','Johnny','Sue','Wade']"
   ]
  },
  {
   "cell_type": "code",
   "execution_count": null,
   "metadata": {},
   "outputs": [],
   "source": [
    "names_1.union(names_2, names_3)"
   ]
  },
  {
   "cell_type": "code",
   "execution_count": null,
   "metadata": {},
   "outputs": [],
   "source": [
    "names_1 | names_2 | names_3"
   ]
  },
  {
   "cell_type": "code",
   "execution_count": null,
   "metadata": {},
   "outputs": [],
   "source": [
    "# If we want to find out what values are in all sets we use the intersection method or the & operator.\n",
    "\n",
    "names_1 = {'Tony','Peter','Natasha','Wanda'}\n",
    "names_2 = {'Steve','Peter','Carol','Wanda'}"
   ]
  },
  {
   "cell_type": "code",
   "execution_count": null,
   "metadata": {},
   "outputs": [],
   "source": [
    "names_1 & names_2"
   ]
  },
  {
   "cell_type": "code",
   "execution_count": null,
   "metadata": {},
   "outputs": [],
   "source": [
    "names_1.intersection(names_2)"
   ]
  },
  {
   "cell_type": "code",
   "execution_count": null,
   "metadata": {},
   "outputs": [],
   "source": [
    "# We can include more than two sets.\n",
    "\n",
    "names_1 = {'Tony','Peter','Natasha','Wanda'}\n",
    "names_2 = {'Steve','Peter','Carol','Wanda'}\n",
    "names_3 = {'Tony','Johnny','Sue','Wade'}\n",
    "\n",
    "names_1 & names_2 & names_3"
   ]
  },
  {
   "cell_type": "code",
   "execution_count": null,
   "metadata": {},
   "outputs": [],
   "source": [
    "names_1 = {'Tony','Peter','Natasha','Wanda'}\n",
    "names_2 = {'Steve','Peter','Carol','Wanda'}\n",
    "names_3 = {'Peter','Johnny','Sue','Wade'}\n",
    "\n",
    "names_1 & names_2 & names_3"
   ]
  },
  {
   "cell_type": "code",
   "execution_count": null,
   "metadata": {},
   "outputs": [],
   "source": [
    "# And similarly as shown with the union method we can add non-sets into the intersection method.\n",
    "\n",
    "names_1 = {'Tony','Peter','Natasha','Wanda'}\n",
    "names_2 = ['Steve','Peter','Carol','Wanda']\n",
    "names_3 = ['Peter','Johnny','Sue','Wade']\n",
    "\n",
    "names_1.intersection(names_2,names_3)"
   ]
  },
  {
   "cell_type": "code",
   "execution_count": null,
   "metadata": {},
   "outputs": [],
   "source": [
    "# If we want to look at the differences between two or more sets, then we can use the 'difference' method or the − operator. \n",
    "# Again the rules that we have seen before are consistent here in that we can only do comparison using the − operator \n",
    "# on sets whereas for the difference method we can handle non-sets passed in.\n",
    "\n",
    "names_1 - names_2"
   ]
  },
  {
   "cell_type": "code",
   "execution_count": null,
   "metadata": {},
   "outputs": [],
   "source": [
    "names_1.difference(names_2)"
   ]
  },
  {
   "cell_type": "code",
   "execution_count": null,
   "metadata": {},
   "outputs": [],
   "source": [
    "names_1 = {'Tony','Peter','Natasha','Wanda'}\n",
    "names_2 = {'Steve','Peter','Carol','Wanda'}\n",
    "names_3 = {'Peter','Johnny','Sue','Wade'}\n",
    "\n",
    "names_1 - names_2"
   ]
  },
  {
   "cell_type": "code",
   "execution_count": null,
   "metadata": {},
   "outputs": [],
   "source": [
    "# The manner in which difference is applied for more than one comparison is to work left\n",
    "# to right so we first look at the difference between names_1 and names_2 and then look at\n",
    "# the difference between this result and names_3.\n",
    "\n",
    "names_1 - names_2 - names_3"
   ]
  },
  {
   "cell_type": "code",
   "execution_count": null,
   "metadata": {},
   "outputs": [],
   "source": [
    "names_1.difference(names_2,names_3)"
   ]
  },
  {
   "cell_type": "code",
   "execution_count": null,
   "metadata": {},
   "outputs": [],
   "source": [
    "# Another set comparison that we can perform is using the 'symmetric_difference' method or the ^ operator. \n",
    "# What this does is return back the elements that are in either set but not in both, \n",
    "# so its like the or method but doesn’t include any common values.\n",
    "\n",
    "names_1 = {'Tony','Peter','Natasha','Wanda'}\n",
    "names_2 = {'Steve','Peter','Carol','Wanda'}\n",
    "names_3 = {'Peter','Johnny','Sue','Wade'}"
   ]
  },
  {
   "cell_type": "code",
   "execution_count": null,
   "metadata": {},
   "outputs": [],
   "source": [
    "names_1 ^ names_2"
   ]
  },
  {
   "cell_type": "code",
   "execution_count": null,
   "metadata": {},
   "outputs": [],
   "source": [
    "names_1.symmetric_difference(names_2)"
   ]
  },
  {
   "cell_type": "code",
   "execution_count": null,
   "metadata": {},
   "outputs": [],
   "source": [
    "names_1 ^ names_2 ^ names_3"
   ]
  },
  {
   "cell_type": "code",
   "execution_count": null,
   "metadata": {},
   "outputs": [],
   "source": [
    "# Unlike with previous methods, 'symmetric_difference' doesn’t allow more than one set.\n",
    "# However it still allows us to pass in a non-set.\n",
    "\n",
    "names_1.symmetric_difference(names_2,names_3)"
   ]
  },
  {
   "cell_type": "code",
   "execution_count": null,
   "metadata": {},
   "outputs": [],
   "source": [
    "names_1 = {'Tony','Peter','Natasha','Wanda'}\n",
    "names_2 = ['Steve','Peter','Carol','Wanda']\n",
    "\n",
    "names_1.symmetric_difference(names_2)"
   ]
  },
  {
   "cell_type": "code",
   "execution_count": null,
   "metadata": {},
   "outputs": [],
   "source": [
    "# We can also see if a set has any elements in common by using the 'isdisjoint' method.\n",
    "\n",
    "names_1 = {'Tony','Peter','Natasha','Wanda'}\n",
    "names"
   ]
  },
  {
   "cell_type": "code",
   "execution_count": null,
   "metadata": {},
   "outputs": [],
   "source": [
    "names_2 = {'Steve', 'Bruce', 'Carol', 'Wanda'}\n",
    "names_2"
   ]
  },
  {
   "cell_type": "code",
   "execution_count": null,
   "metadata": {},
   "outputs": [],
   "source": [
    "names_1.isdisjoint(names_2)"
   ]
  },
  {
   "cell_type": "code",
   "execution_count": null,
   "metadata": {},
   "outputs": [],
   "source": [
    "names_2 = {'Steve', 'Bruce', 'Carol', 'Sue'}\n",
    "names_2"
   ]
  },
  {
   "cell_type": "code",
   "execution_count": null,
   "metadata": {},
   "outputs": [],
   "source": [
    "names_1.isdisjoint(names_2)"
   ]
  },
  {
   "cell_type": "code",
   "execution_count": null,
   "metadata": {},
   "outputs": [],
   "source": [
    "# There are a couple of other set methods:\n",
    "# issubset\n",
    "# issuperset"
   ]
  },
  {
   "cell_type": "code",
   "execution_count": null,
   "metadata": {},
   "outputs": [],
   "source": [
    "# 'pop' method.\n",
    "\n",
    "names = {'Steve', 'Wanda', 'Peter', 'Tony', 'Natasha'}\n",
    "names"
   ]
  },
  {
   "cell_type": "code",
   "execution_count": null,
   "metadata": {},
   "outputs": [],
   "source": [
    "names.pop()"
   ]
  },
  {
   "cell_type": "code",
   "execution_count": null,
   "metadata": {},
   "outputs": [],
   "source": [
    "names"
   ]
  },
  {
   "cell_type": "code",
   "execution_count": null,
   "metadata": {},
   "outputs": [],
   "source": [
    "# 'remove' method\n",
    "\n",
    "names = {'Steve', 'Wanda', 'Peter', 'Tony', 'Natasha'}\n",
    "names"
   ]
  },
  {
   "cell_type": "code",
   "execution_count": null,
   "metadata": {},
   "outputs": [],
   "source": [
    "names.remove('Tony')"
   ]
  },
  {
   "cell_type": "code",
   "execution_count": null,
   "metadata": {},
   "outputs": [],
   "source": [
    "names"
   ]
  },
  {
   "cell_type": "code",
   "execution_count": null,
   "metadata": {},
   "outputs": [],
   "source": [
    "# Now the problem with the above is that if we try and remove something from the set that\n",
    "# isn’t in there, then we get a key error. \n",
    "\n",
    "# Another way to remove something from the set that allows for a value not to be in the set \n",
    "# is the 'discard' method which is demonstrated below:\n",
    "\n",
    "names.remove('Tony')"
   ]
  },
  {
   "cell_type": "code",
   "execution_count": null,
   "metadata": {},
   "outputs": [],
   "source": [
    "names.discard('Peter')"
   ]
  },
  {
   "cell_type": "code",
   "execution_count": null,
   "metadata": {},
   "outputs": [],
   "source": [
    "names"
   ]
  },
  {
   "cell_type": "code",
   "execution_count": null,
   "metadata": {},
   "outputs": [],
   "source": [
    "names.discard('Sue')"
   ]
  },
  {
   "cell_type": "code",
   "execution_count": null,
   "metadata": {},
   "outputs": [],
   "source": [
    "# We can also clear the set by using the 'clear' method which gives us an empty set.\n",
    "\n",
    "names.clear()\n",
    "names"
   ]
  },
  {
   "cell_type": "code",
   "execution_count": null,
   "metadata": {},
   "outputs": [],
   "source": [
    "# add 'method'\n",
    "\n",
    "names.add('Peter')\n",
    "names"
   ]
  },
  {
   "cell_type": "code",
   "execution_count": null,
   "metadata": {},
   "outputs": [],
   "source": [
    "# add() is able to take one argument only.\n",
    "\n",
    "names.add('Bruce','Sue')"
   ]
  },
  {
   "cell_type": "code",
   "execution_count": null,
   "metadata": {},
   "outputs": [],
   "source": [
    "names.add(('Bruce','Sue'))\n",
    "names"
   ]
  },
  {
   "cell_type": "code",
   "execution_count": null,
   "metadata": {},
   "outputs": [],
   "source": [
    "# Now the add method adds values one at a time. \n",
    "# We can utilise some methods which are similar in nature to those that looked at \n",
    "# comparison on the sets and allow us to modify a set, the first of these we will\n",
    "# show is the 'update' method.\n",
    "\n",
    "names_1 = {'Tony','Peter','Natasha','Wanda'}\n",
    "names_2 = {'Steve','Peter','Carol','Wanda'}\n",
    "names_1 | names_2"
   ]
  },
  {
   "cell_type": "code",
   "execution_count": null,
   "metadata": {},
   "outputs": [],
   "source": [
    "names_1"
   ]
  },
  {
   "cell_type": "code",
   "execution_count": null,
   "metadata": {},
   "outputs": [],
   "source": [
    "names_2"
   ]
  },
  {
   "cell_type": "code",
   "execution_count": null,
   "metadata": {},
   "outputs": [],
   "source": [
    "names_1.update(names_2)\n",
    "names_1"
   ]
  },
  {
   "cell_type": "code",
   "execution_count": null,
   "metadata": {},
   "outputs": [],
   "source": [
    "# You can see the return value using the | operator applied to two sets is the same as the 'update' value. \n",
    "# The big difference here is that when you use the | operator you don’t change either of the sets.\n",
    "# However using the 'update' method changes the set that you have used the method for so in this case the \n",
    "# names set is now the result of names_1 | names_2."
   ]
  },
  {
   "cell_type": "code",
   "execution_count": null,
   "metadata": {},
   "outputs": [],
   "source": [
    "names_1 = {'Tony','Peter','Natasha','Wanda'}\n",
    "names_2 = {'Steve', 'Peter', 'Carol', 'Wanda'}\n",
    "names_1 & names_2"
   ]
  },
  {
   "cell_type": "code",
   "execution_count": null,
   "metadata": {},
   "outputs": [],
   "source": [
    "names_1"
   ]
  },
  {
   "cell_type": "code",
   "execution_count": null,
   "metadata": {},
   "outputs": [],
   "source": [
    "names_2"
   ]
  },
  {
   "cell_type": "code",
   "execution_count": null,
   "metadata": {},
   "outputs": [],
   "source": [
    "names_1.intersection_update(names_2)\n",
    "names_1\n",
    "\n",
    "# Like with the 'update' method, the 'intersection_update' applies the & operation \n",
    "# but assigns the result back to the set that its applied to. "
   ]
  },
  {
   "cell_type": "code",
   "execution_count": null,
   "metadata": {},
   "outputs": [],
   "source": [
    "# The same is true for the symmetric_difference:update which gives the same result as ^ \n",
    "# and difference:update which gives the difference between two sets.\n",
    "\n",
    "# The last concept that we look at in this chapter is the concept of the frozen set. \n",
    "# The frozen set is what the tuple is to a list in that it cannot be altered.\n",
    "\n",
    "frozen_names = frozenset({'Tony','Peter','Natasha','Wanda'})\n",
    "frozen_names"
   ]
  },
  {
   "cell_type": "code",
   "execution_count": null,
   "metadata": {},
   "outputs": [],
   "source": [
    "frozen_name = frozenset(('Tony','Peter','Natasha','Wanda'))\n",
    "frozen_name"
   ]
  },
  {
   "cell_type": "code",
   "execution_count": null,
   "metadata": {},
   "outputs": [],
   "source": [
    "frozen_name = frozenset(['Tony','Peter','Natasha','Wanda'])\n",
    "frozen_name"
   ]
  },
  {
   "cell_type": "code",
   "execution_count": null,
   "metadata": {},
   "outputs": [],
   "source": [
    "frozen_name = frozenset({'Tony'})\n",
    "frozen_name"
   ]
  },
  {
   "cell_type": "code",
   "execution_count": null,
   "metadata": {},
   "outputs": [],
   "source": [
    "frozen_name = frozenset(('Tony'))\n",
    "frozen_name"
   ]
  },
  {
   "cell_type": "code",
   "execution_count": null,
   "metadata": {},
   "outputs": [],
   "source": [
    "type(frozen_name)"
   ]
  },
  {
   "cell_type": "code",
   "execution_count": null,
   "metadata": {},
   "outputs": [],
   "source": [
    "dir(frozen_name)"
   ]
  },
  {
   "cell_type": "code",
   "execution_count": null,
   "metadata": {},
   "outputs": [],
   "source": [
    "# We use frozenset around a set, list, tuple, or string to give us our set but looking at the\n",
    "# methods available you can see that the ones which change the set are not available to a\n",
    "# frozen set, however the methods that allow us to compare sets are still available. "
   ]
  }
 ],
 "metadata": {
  "kernelspec": {
   "display_name": "Python 3",
   "language": "python",
   "name": "python3"
  },
  "language_info": {
   "codemirror_mode": {
    "name": "ipython",
    "version": 3
   },
   "file_extension": ".py",
   "mimetype": "text/x-python",
   "name": "python",
   "nbconvert_exporter": "python",
   "pygments_lexer": "ipython3",
   "version": "3.8.5"
  }
 },
 "nbformat": 4,
 "nbformat_minor": 4
}
