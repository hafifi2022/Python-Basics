{
 "cells": [
  {
   "cell_type": "markdown",
   "metadata": {},
   "source": [
    "- In this chapter, we will cover how to deal with **API (Application Programming Interface)** using Python. \n",
    "- To do this, we are going to cover both how to **create** and **access** an API and build examples to do both. \n",
    "- Before we get to write any code, we need to cover what an API is and why its useful. \n",
    "- An API is a mechanism that allows communication between software applications and in this case will cover communication between an application and a web user. \n",
    "- The uses of APIs have become increasingly popular allowing users to access data or communicate with services. \n",
    "- They give a unified approach to doing so and therefore have become an important aspect to become familiar with, understanding how to communicate with.\n",
    "- We begin by creating our own API to do this. \n",
    "- We are going to use the Python packages, flask as well as the flask-restful. \n",
    "- To see if you have the packages you can try and import them."
   ]
  },
  {
   "cell_type": "code",
   "execution_count": 1,
   "metadata": {},
   "outputs": [],
   "source": [
    "from flask import *\n",
    "from flask_restful import *"
   ]
  },
  {
   "cell_type": "markdown",
   "metadata": {},
   "source": [
    "- Now, flask comes by default with the Anaconda distribution of Python but you may not have flask_restful.\n",
    "- If that is the case, you will need to install it. \n",
    "- To do so go to https://anaconda.org/conda-forge/flask-restful.\n",
    "- Now, while this book has intended to be self-contained and not rely on many things outside the Anaconda distribution of Python, the url around things like the Anaconda website and subsequent links within it may change. \n",
    "- If at the time of reading this is the case, then you just need to search the package list of Anaconda to get this. \n",
    "- You could also do a simple search of conda flask restful using your favourite search engine and you should find the relevant web pages. \n",
    "- You can then install flask-restful from the command line using one of the conda commands given.\n",
    "- With all the packages installed, we can then look to create our very first API, to do so we will work within the confines of a script, so create a file called **my_flask_api.py** and add the following in the file."
   ]
  },
  {
   "cell_type": "raw",
   "metadata": {},
   "source": [
    "from flask import Flask\n",
    "from flask_restful import Resource, Api\n",
    "\n",
    "app = Flask(__name__)\n",
    "api = Api(app)\n",
    "\n",
    "class HelloWorld(Resource):\n",
    "    def get(self):\n",
    "        return {'hello':'world'}\n",
    "\n",
    "api.add_resource(HelloWorld, '/')\n",
    "\n",
    "if __name__ == '__main__':\n",
    "    app.run(debug=True)"
   ]
  },
  {
   "cell_type": "markdown",
   "metadata": {},
   "source": [
    "- Let’s first run this and then explain what is going on. \n",
    "- To do so, open up a terminal or command prompt and change directory to where your file is living.\n",
    "- Once there, run the command _**python my_flask_api.py**_.\n",
    "- What this is doing is starting up your API and you are now running it locally on machine.\n",
    "- This means that it is accessible by you on your machine but not available on the world wide web. \n",
    "- To demonstrate, we open up a web browser and go to the ip address http://127.0.0.1:5000/."
   ]
  },
  {
   "cell_type": "markdown",
   "metadata": {},
   "source": [
    "- How has this all happened? Let’s go back and look at the original code."
   ]
  },
  {
   "cell_type": "raw",
   "metadata": {},
   "source": [
    "from flask import Flask\n",
    "from flask_restful import Resource, Api\n",
    "\n",
    "app = Flask(__name__)\n",
    "api = Api(app) "
   ]
  },
  {
   "cell_type": "markdown",
   "metadata": {},
   "source": [
    "- We initially import the relevant objects from both flask and flask_restful, and then we create a flask app using the Flask method with the name of the current module passed in via __ name __\n",
    "- This gives us an app object, and we can then create an api object by passing the app into the API method. \n",
    "- This is our setup stage, next we want to add an endpoint to it."
   ]
  },
  {
   "cell_type": "raw",
   "metadata": {},
   "source": [
    "class HelloWorld(Resource):\n",
    "    def get(self):\n",
    "        return{'hello':'world'}\n",
    "    \n",
    "api.add_resource(HelloWorld,'/')"
   ]
  },
  {
   "cell_type": "markdown",
   "metadata": {},
   "source": [
    "- In this code snippet, we create a class named HelloWorld using the argument of Resource.\n",
    "- Within this class we create a method called **get**, which simply returns the dictionary of hello with the key world."
   ]
  },
  {
   "cell_type": "raw",
   "metadata": {},
   "source": [
    "if __name__ == '__main__':\n",
    "    app.run(debug=True)"
   ]
  },
  {
   "cell_type": "markdown",
   "metadata": {},
   "source": [
    "- Lastly, show the code that is executed to start the api up. \n",
    "- In relation to the app object, we use its run method with the argument of debug set as True. \n",
    "- This makes the api available locally for the user. \n",
    "- This block of code does raise an interesting line of code, namely,"
   ]
  },
  {
   "cell_type": "raw",
   "metadata": {},
   "source": [
    "if __name__ == '__main__':"
   ]
  },
  {
   "cell_type": "markdown",
   "metadata": {},
   "source": [
    "- This is common place within Python but many use it without understanding it, and we will attempt to resolve that now. \n",
    "- Using an if statement with the == between two variables is pretty straightforward but what do __ name __ and '__ main __ ' mean? \n",
    "- As shown when the Flask object was created, we used the __ name __ variable which gives us the name of the current module. \n",
    "- But how does this work, we will show by an example creating two files that each call the __ name __ variable to show how it behaves. \n",
    "- Let us call our first file **file_one.py**, we put the following code in there:"
   ]
  },
  {
   "cell_type": "raw",
   "metadata": {},
   "source": [
    "out_str = 'file one __name__ is {}'.format(__name__)\n",
    "print(out_str)"
   ]
  },
  {
   "cell_type": "markdown",
   "metadata": {},
   "source": [
    "If we run this code, then we see the output:"
   ]
  },
  {
   "cell_type": "raw",
   "metadata": {},
   "source": [
    "file one __name__ is __main__"
   ]
  },
  {
   "cell_type": "markdown",
   "metadata": {},
   "source": [
    "Now, we create **file_two.py** and put in the following code:"
   ]
  },
  {
   "cell_type": "raw",
   "metadata": {},
   "source": [
    "out_str = 'file two __name__ is {}'.format(__name__)\n",
    "print(out_str)"
   ]
  },
  {
   "cell_type": "markdown",
   "metadata": {},
   "source": [
    "If we run this code, then we see the output:"
   ]
  },
  {
   "cell_type": "raw",
   "metadata": {},
   "source": [
    "file two __name__ is __main__"
   ]
  },
  {
   "cell_type": "markdown",
   "metadata": {},
   "source": [
    "All sounds sensible but if we now import file_two.py into file_one.py as follows:"
   ]
  },
  {
   "cell_type": "raw",
   "metadata": {},
   "source": [
    "# file_one_one.py\n",
    "\n",
    "from file_two import *\n",
    "\n",
    "out_str = 'file one __name__ is {}'.format(__name__)\n",
    "print(out_str)"
   ]
  },
  {
   "cell_type": "markdown",
   "metadata": {},
   "source": [
    "We get the following output:"
   ]
  },
  {
   "cell_type": "raw",
   "metadata": {},
   "source": [
    "file two __name__ is file_two\n",
    "file one __name__ is __main__"
   ]
  },
  {
   "cell_type": "markdown",
   "metadata": {},
   "source": [
    "What does this mean in relation to the original code snippet?"
   ]
  },
  {
   "cell_type": "raw",
   "metadata": {},
   "source": [
    "if __name__ == '__main__';"
   ]
  },
  {
   "cell_type": "markdown",
   "metadata": {},
   "source": [
    "- Essentially in having that bit of code, it means that if we run the code from the script that it is in, then we can execute what lives within the if statement.\n",
    "- So, we have our API running on http://127.0.0.1:5000/ if we maintain the persistence of the script my_flask_api.py. \n",
    "- So, keep that running in the same window you had it going in before. \n",
    "- Now, if we want to programmatically get the data from our own API, we need to use the requests package and access the data. \n",
    "- If we work in the console we can interactively access the API running on our own machine using the following code:\n"
   ]
  },
  {
   "cell_type": "code",
   "execution_count": 2,
   "metadata": {},
   "outputs": [],
   "source": [
    "# run my_flask_api.py\n",
    "\n",
    "import requests"
   ]
  },
  {
   "cell_type": "code",
   "execution_count": 3,
   "metadata": {},
   "outputs": [
    {
     "data": {
      "text/plain": [
       "<Response [200]>"
      ]
     },
     "execution_count": 3,
     "metadata": {},
     "output_type": "execute_result"
    }
   ],
   "source": [
    "data = requests.get('http://127.0.0.1:5000/')\n",
    "data"
   ]
  },
  {
   "cell_type": "markdown",
   "metadata": {},
   "source": [
    "- Now, if you refer back to the window where you are running your API from, you will notice that a get request was made to the **endpoint /** at the time you ran the **requests.get** method with the url as the argument. \n",
    "- You’ll notice that the data variable from the requests.get doesn’t give us the json data that we saw from the website but instead gave us a response of 200. \n",
    "- If we use the dir method around the data object, then we see the following:"
   ]
  },
  {
   "cell_type": "code",
   "execution_count": 4,
   "metadata": {},
   "outputs": [
    {
     "data": {
      "text/plain": [
       "['__attrs__',\n",
       " '__bool__',\n",
       " '__class__',\n",
       " '__delattr__',\n",
       " '__dict__',\n",
       " '__dir__',\n",
       " '__doc__',\n",
       " '__enter__',\n",
       " '__eq__',\n",
       " '__exit__',\n",
       " '__format__',\n",
       " '__ge__',\n",
       " '__getattribute__',\n",
       " '__getstate__',\n",
       " '__gt__',\n",
       " '__hash__',\n",
       " '__init__',\n",
       " '__init_subclass__',\n",
       " '__iter__',\n",
       " '__le__',\n",
       " '__lt__',\n",
       " '__module__',\n",
       " '__ne__',\n",
       " '__new__',\n",
       " '__nonzero__',\n",
       " '__reduce__',\n",
       " '__reduce_ex__',\n",
       " '__repr__',\n",
       " '__setattr__',\n",
       " '__setstate__',\n",
       " '__sizeof__',\n",
       " '__str__',\n",
       " '__subclasshook__',\n",
       " '__weakref__',\n",
       " '_content',\n",
       " '_content_consumed',\n",
       " '_next',\n",
       " 'apparent_encoding',\n",
       " 'close',\n",
       " 'connection',\n",
       " 'content',\n",
       " 'cookies',\n",
       " 'elapsed',\n",
       " 'encoding',\n",
       " 'headers',\n",
       " 'history',\n",
       " 'is_permanent_redirect',\n",
       " 'is_redirect',\n",
       " 'iter_content',\n",
       " 'iter_lines',\n",
       " 'json',\n",
       " 'links',\n",
       " 'next',\n",
       " 'ok',\n",
       " 'raise_for_status',\n",
       " 'raw',\n",
       " 'reason',\n",
       " 'request',\n",
       " 'status_code',\n",
       " 'text',\n",
       " 'url']"
      ]
     },
     "execution_count": 4,
     "metadata": {},
     "output_type": "execute_result"
    }
   ],
   "source": [
    "dir(data)"
   ]
  },
  {
   "cell_type": "code",
   "execution_count": 5,
   "metadata": {},
   "outputs": [
    {
     "data": {
      "text/plain": [
       "{'hello': 'world'}"
      ]
     },
     "execution_count": 5,
     "metadata": {},
     "output_type": "execute_result"
    }
   ],
   "source": [
    "data.json()"
   ]
  },
  {
   "cell_type": "code",
   "execution_count": 6,
   "metadata": {},
   "outputs": [
    {
     "data": {
      "text/plain": [
       "200"
      ]
     },
     "execution_count": 6,
     "metadata": {},
     "output_type": "execute_result"
    }
   ],
   "source": [
    "data.status_code"
   ]
  },
  {
   "cell_type": "code",
   "execution_count": 7,
   "metadata": {},
   "outputs": [
    {
     "data": {
      "text/plain": [
       "'OK'"
      ]
     },
     "execution_count": 7,
     "metadata": {},
     "output_type": "execute_result"
    }
   ],
   "source": [
    "data.reason"
   ]
  },
  {
   "cell_type": "code",
   "execution_count": 8,
   "metadata": {},
   "outputs": [
    {
     "data": {
      "text/plain": [
       "'{\\n    \"hello\": \"world\"\\n}\\n'"
      ]
     },
     "execution_count": 8,
     "metadata": {},
     "output_type": "execute_result"
    }
   ],
   "source": [
    "data.text"
   ]
  },
  {
   "cell_type": "code",
   "execution_count": 9,
   "metadata": {},
   "outputs": [
    {
     "data": {
      "text/plain": [
       "'http://127.0.0.1:5000/'"
      ]
     },
     "execution_count": 9,
     "metadata": {},
     "output_type": "execute_result"
    }
   ],
   "source": [
    "data.url"
   ]
  },
  {
   "cell_type": "markdown",
   "metadata": {},
   "source": [
    "- So, here we can see the **methods** and **attributes** of the data object and we look at a few of these. \n",
    "- The json method of the object unsurprisingly gives the json that we saw from the endpoint via the web browser. \n",
    "- The status_code attribute returns the status of the web request that we made here 200, which is a successful request. \n",
    "- We will not cover all status codes within this book, however if you are interested then they are easily accessible online.\n",
    "- Alongside a status code, we also have a reason, here we would expect an informative message to alongside our status code. \n",
    "- The text representation of what is returned is also available alongside the url we used. \n",
    "- What is clear is that we get a lot of information back from our request."
   ]
  },
  {
   "cell_type": "markdown",
   "metadata": {},
   "source": [
    "- Now this is a good first example, but it only demonstrates the get request and actually the information isn’t that useful as we only get back some simple json. \n",
    "- What we will do next is create an API that allows us to get, post, and delete information from a small movie database that we will add to the code. \n",
    "- The full code is shown below and as usual we will step through it line by line:\n"
   ]
  },
  {
   "cell_type": "raw",
   "metadata": {},
   "source": [
    "# Film.py\n",
    "\n",
    "from flask import Flask\n",
    "from flask_restful import reqparse, abort, Api, Resource\n",
    "\n",
    "app = Flask(__name__)\n",
    "api = Api(app)\n",
    "\n",
    "film_dict = {\n",
    "    '1':{'Name':'Avengers: Infinity War', 'Year':2018, 'Month':'March'},\n",
    "    '2':{'Name':'Ant Man and the Wasp', 'Year':2018, 'Month':'August'}\n",
    "}\n",
    "\n",
    "def abort_if_todo_doesnt_exist(film_id):\n",
    "    if film_id not in film_dict:\n",
    "        abort(404, message=\"Film {} doesn't exist\".format(film_id))\n",
    "\n",
    "parser = reqparse.RequestParser()\n",
    "parser.add_argument('name')\n",
    "parser.add_argument('year')\n",
    "parser.add_argument('month')\n",
    "\n",
    "class Films(Resource):\n",
    "    def get(self, film_id):\n",
    "        abort_if_todo_doesnt_exist(film_id)\n",
    "        return film_dict[film_id]\n",
    "    \n",
    "    def delete(self, film_id):\n",
    "        abort_if_todo_doesnt_exist(film_id)\n",
    "        del film_dict[film_id]\n",
    "        return '', 204\n",
    "    \n",
    "    def put(self, film_id):\n",
    "        args = parser.parse_args()\n",
    "        task = {'Name': args['name'],\n",
    "                'Year': args['year'],\n",
    "                'Month': args['month']}\n",
    "        film_dict[film_id] = task\n",
    "        return task, 201\n",
    "\n",
    "class FilmDict(Resource):\n",
    "    def get(self):\n",
    "        return film_dict\n",
    "\n",
    "api.add_resource(FilmDict, '/films')\n",
    "api.add_resource(Films, '/films/<film_id>')\n",
    "\n",
    "if __name__ == '__main__':\n",
    "    app.run(debug=True)"
   ]
  },
  {
   "cell_type": "markdown",
   "metadata": {},
   "source": [
    "The imports that we use within this API are as follows:"
   ]
  },
  {
   "cell_type": "raw",
   "metadata": {},
   "source": [
    "from flask import Flask\n",
    "from flask_restful import reqparse, abort, Api, Resourc"
   ]
  },
  {
   "cell_type": "markdown",
   "metadata": {},
   "source": [
    "- This is similar to what we used in the hello world example. \n",
    "- However, now there are two more imports from flask_restful, namely reqparse and abort. \n",
    "- **Reqparse** is an **argument parser** that we can make use of to process arguments sent with the web request to the API as shown below:"
   ]
  },
  {
   "cell_type": "raw",
   "metadata": {},
   "source": [
    "parser = reqparse.RequestParser()\n",
    "parser.add_argument('name')\n",
    "parser.add_argument('year')\n",
    "parser.add_argument('month')"
   ]
  },
  {
   "cell_type": "markdown",
   "metadata": {},
   "source": [
    "- Here, we create a **RequestParser()** and then add arguments, name, year, and month, which we will pass when we need to add a film.\n",
    "- Adding this doesn’t allow us to get the arguments, to do this we need to parse them out and later in the code we have the following snippet of code:"
   ]
  },
  {
   "cell_type": "raw",
   "metadata": {},
   "source": [
    "args = parser.parse_args()"
   ]
  },
  {
   "cell_type": "markdown",
   "metadata": {},
   "source": [
    "- What this does is parse the arguments from the RequestParser and then store them in a dictionary.\n",
    "- The abort import is used in a custom function that we use to send an appropriate message if the film_id doesn’t exist."
   ]
  },
  {
   "cell_type": "raw",
   "metadata": {},
   "source": [
    "def abort_if_film_doesnt_exist(film_id):\n",
    "    if film_id not in film_dict:\n",
    "        abort(404, message=\"Film {} doesn't exist\".format(film_id))"
   ]
  },
  {
   "cell_type": "markdown",
   "metadata": {},
   "source": [
    "- Here, we **pass the film_id as an argument** and if the id doesn’t exist in the dictionary then a 404 is given with a custom message relating to the film that doesn’t exist. \n",
    "- We use this function in a number of places within the code as we will show.\n",
    "- Next, we consider the **two classes** that are in the code namely **Films** and **FilmDict**.\n",
    "- The first of these looks as follows:"
   ]
  },
  {
   "cell_type": "raw",
   "metadata": {},
   "source": [
    "class Films(Resource):\n",
    "    def get(self, film_id):\n",
    "        abort_if_todo_doesnt_exist(film_id)\n",
    "        return film_dict[film_id]\n",
    "    \n",
    "    def delete(self, film_id):\n",
    "        abort_if_todo_doesnt_exist(film_id)\n",
    "        del film_dict[film_id]\n",
    "        return '', 204\n",
    "    \n",
    "    def put(self, film_id):\n",
    "        args = parser.parse_args()\n",
    "        task = {'Name': args['name'],\n",
    "                'Year': args['year'],\n",
    "                'Month': args['month']}\n",
    "        film_dict[film_id] = task\n",
    "        return task, 201"
   ]
  },
  {
   "cell_type": "markdown",
   "metadata": {},
   "source": [
    "- This class defines **get, delete, and put methods** which do, as you would think, what it says on the tin and gets a film, deletes a film, and puts a film in our dictionary. \n",
    "- Notice that in the get and delete methods, we use our abort_if_film_doesnt_exist function to first check if the film exists and sends the appropriate error message and status code. \n",
    "- Note that we could have done it in each method but if we ended up with 20 different methods that would be lots of repeated code. \n",
    "- The actual nuts and bolts of what this code does is pretty straight forward and uses dictionary methods covered within this book. \n",
    "- Note that for the delete and put methods we return a status code alongside an empty string for the delete method or the task for the put method."
   ]
  },
  {
   "cell_type": "raw",
   "metadata": {},
   "source": [
    "class FilmDict(Resource):\n",
    "    def get(self):\n",
    "        return film_dict"
   ]
  },
  {
   "cell_type": "markdown",
   "metadata": {},
   "source": [
    "- The next class only has a single get method and returns our entire database of films, but why have this as a separate class?\n",
    "- This is because we add this to a **separate url** as shown in the following code snippet:"
   ]
  },
  {
   "cell_type": "raw",
   "metadata": {},
   "source": [
    "api.add_resource(FilmDict, '/films')\n",
    "api.add_resource(Films, '/films/<film_id>')"
   ]
  },
  {
   "cell_type": "markdown",
   "metadata": {},
   "source": [
    "Now, the FilmsDict class be accessed at the films url, if we want to get, delete, or put a film based on an id and we do so via:"
   ]
  },
  {
   "cell_type": "raw",
   "metadata": {},
   "source": [
    " /films/<film_id>"
   ]
  },
  {
   "cell_type": "markdown",
   "metadata": {},
   "source": [
    "- And as before, we run the app in debug mode. \n",
    "- To get this running, we change directory to where the code resides, run the script, and we will have the API available on http://127.0.0.1:5000/ but this is not a valid url as per code shown above.\n",
    "- So, we further navigate to http://127.0.0.1:5000/films"
   ]
  },
  {
   "cell_type": "raw",
   "metadata": {},
   "source": [
    "if __name__ == '__main__':\n",
    "    app.run(debug=True)"
   ]
  },
  {
   "cell_type": "markdown",
   "metadata": {},
   "source": [
    "- We can pass an id of a film that exists and get the result.\n",
    "- If we enter the id for a film that isn’t already in our database, we will get the message as below:\n",
    "\n",
    "message=\"Film {} doesn't exist\""
   ]
  },
  {
   "cell_type": "markdown",
   "metadata": {},
   "source": [
    "- Now, if we want to use the API to add or delete films we can do so using the requests library. \n",
    "- So, let’s show some code examples."
   ]
  },
  {
   "cell_type": "code",
   "execution_count": 10,
   "metadata": {},
   "outputs": [],
   "source": [
    "# run Film.py\n",
    "\n",
    "import requests"
   ]
  },
  {
   "cell_type": "code",
   "execution_count": 11,
   "metadata": {},
   "outputs": [
    {
     "data": {
      "text/plain": [
       "{'1': {'Name': 'Avengers: Infinity War', 'Year': 2018, 'Month': 'March'},\n",
       " '2': {'Name': 'Ant Man and the Wasp', 'Year': 2018, 'Month': 'August'}}"
      ]
     },
     "execution_count": 11,
     "metadata": {},
     "output_type": "execute_result"
    }
   ],
   "source": [
    "r = requests.get('http://127.0.0.1:5000/films')\n",
    "r.json()"
   ]
  },
  {
   "cell_type": "code",
   "execution_count": 12,
   "metadata": {},
   "outputs": [
    {
     "data": {
      "text/plain": [
       "{'Name': 'Avengers: Infinity War', 'Year': 2018, 'Month': 'March'}"
      ]
     },
     "execution_count": 12,
     "metadata": {},
     "output_type": "execute_result"
    }
   ],
   "source": [
    "r = requests.get('http://127.0.0.1:5000/films/1')\n",
    "r.json()"
   ]
  },
  {
   "cell_type": "code",
   "execution_count": 13,
   "metadata": {},
   "outputs": [
    {
     "data": {
      "text/plain": [
       "{'message': \"Film 3 doesn't exist\"}"
      ]
     },
     "execution_count": 13,
     "metadata": {},
     "output_type": "execute_result"
    }
   ],
   "source": [
    "r = requests.get('http://127.0.0.1:5000/films/3')\n",
    "r.json()"
   ]
  },
  {
   "cell_type": "code",
   "execution_count": 14,
   "metadata": {},
   "outputs": [],
   "source": [
    "# If port is not included in the request path, the default port of 80 will be used.\n",
    "# In this case, most probably, error will be occured as below:\n",
    "# ConnectionError: HTTPConnectionPool(host='127.0.0.1', port=80)"
   ]
  },
  {
   "cell_type": "markdown",
   "metadata": {},
   "source": [
    "- So, we can call the same urls that we did before from the browser using requests. \n",
    "- Now, let’s show how to add and delete using the api."
   ]
  },
  {
   "cell_type": "code",
   "execution_count": 15,
   "metadata": {},
   "outputs": [],
   "source": [
    "r = requests.delete('http://127.0.0.1:5000/films/1')"
   ]
  },
  {
   "cell_type": "code",
   "execution_count": 16,
   "metadata": {},
   "outputs": [
    {
     "data": {
      "text/plain": [
       "''"
      ]
     },
     "execution_count": 16,
     "metadata": {},
     "output_type": "execute_result"
    }
   ],
   "source": [
    "r.text"
   ]
  },
  {
   "cell_type": "code",
   "execution_count": 17,
   "metadata": {},
   "outputs": [
    {
     "data": {
      "text/plain": [
       "204"
      ]
     },
     "execution_count": 17,
     "metadata": {},
     "output_type": "execute_result"
    }
   ],
   "source": [
    "r.status_code"
   ]
  },
  {
   "cell_type": "markdown",
   "metadata": {},
   "source": [
    "- To delete a film based on the id, we use the delete method and pass in the url and note that the text and status code match that mentioned within the API code. \n",
    "- Now, to add that record back in we can use the put method."
   ]
  },
  {
   "cell_type": "code",
   "execution_count": 18,
   "metadata": {},
   "outputs": [
    {
     "data": {
      "text/plain": [
       "{'2': {'Name': 'Ant Man and the Wasp', 'Year': 2018, 'Month': 'August'}}"
      ]
     },
     "execution_count": 18,
     "metadata": {},
     "output_type": "execute_result"
    }
   ],
   "source": [
    "r = requests.get('http://127.0.0.1:5000/films')\n",
    "r.json()"
   ]
  },
  {
   "cell_type": "code",
   "execution_count": 19,
   "metadata": {},
   "outputs": [],
   "source": [
    "r = requests.put('http://127.0.0.1:5000/films/1', \n",
    "                 data={'name':'Avengers: Infinity War',\n",
    "                       'year':2018,\n",
    "                       'month':'March'})"
   ]
  },
  {
   "cell_type": "code",
   "execution_count": 20,
   "metadata": {},
   "outputs": [
    {
     "data": {
      "text/plain": [
       "{'Name': 'Avengers: Infinity War', 'Year': '2018', 'Month': 'March'}"
      ]
     },
     "execution_count": 20,
     "metadata": {},
     "output_type": "execute_result"
    }
   ],
   "source": [
    "r.json()"
   ]
  },
  {
   "cell_type": "code",
   "execution_count": 21,
   "metadata": {},
   "outputs": [
    {
     "data": {
      "text/plain": [
       "201"
      ]
     },
     "execution_count": 21,
     "metadata": {},
     "output_type": "execute_result"
    }
   ],
   "source": [
    "r.status_code"
   ]
  },
  {
   "cell_type": "code",
   "execution_count": 22,
   "metadata": {},
   "outputs": [
    {
     "data": {
      "text/plain": [
       "{'1': {'Name': 'Avengers: Infinity War', 'Year': 2018, 'Month': 'March'},\n",
       " '2': {'Name': 'Ant Man and the Wasp', 'Year': 2018, 'Month': 'August'}}"
      ]
     },
     "execution_count": 22,
     "metadata": {},
     "output_type": "execute_result"
    }
   ],
   "source": [
    "r = requests.get('http://127.0.0.1:5000/films')\n",
    "r.json()"
   ]
  },
  {
   "cell_type": "markdown",
   "metadata": {},
   "source": [
    "- We can see that we had only the film with id 2 available so using the put method with the same arguments as the reqparser means we can use the data argument to populate id 1. \n",
    "- In sending the put request we get back the data in the form it has been added with the variable names matching what we have in the API. \n",
    "- Lastly, we check that it was added correctly by calling the http://127.0.0.1:5000/films and getting all the films we have, which shows the film with id 1 was added back in."
   ]
  },
  {
   "cell_type": "markdown",
   "metadata": {},
   "source": [
    "- So far, our API has been **public** but what if we want to secure it in some way? \n",
    "- To do so, we need some authentication on our API, and below we discuss some of the options available to us."
   ]
  },
  {
   "cell_type": "markdown",
   "metadata": {},
   "source": [
    "#### Basic Authentication \n",
    "- As the name suggests, the definition of basic authentication (Basic Auth) is a server asking for a username and a password (e.g. to a personal social media account) to allow access to private data (though there are potential security risks to be aware of if this data is not encrypted as it is transferred). \n",
    "- Basic Auth is performed over HTTP and is encrypted using SSL to protect the username and password being transmitted.\n",
    "- Note that Basic Auth can be done without SSL but sensitive data will be transmitted over HTTP unencrypted which is an extreme security risk. \n",
    "- Basic Auth is a simple authentication technique which makes coding it into scripts a relatively straightforward process.\n",
    "- However, since it relies on the use of a username and password to access the API and manage the account associated with it, this is not ideal. \n",
    "- It is like you lending your car keys to your friend and the keys can open everything in your house and workplace as well. \n",
    "- Put differently, if you give your social media usernames and passwords out to scripts, those scripts will end up having a far greater access to your personal social media accounts than you might like!"
   ]
  },
  {
   "cell_type": "markdown",
   "metadata": {},
   "source": [
    "#### API Key Authentication \n",
    "- API key authentication is a technique that overcomes the weakness of Basic Auth by requiring the API to be accessed with a unique key. \n",
    "- The key is usually a long series of letters and numbers that is completely separate from the user’s login details (e.g. username and password). \n",
    "- As such, API keys can be intentionally limited for security reasons, so that they provide access only to the bits of data and services users we need, rather than granting access to everything."
   ]
  },
  {
   "cell_type": "markdown",
   "metadata": {},
   "source": [
    "#### OAuth Token \n",
    "- OAuth is a prevailing standard that applications can use to provide client applications with secure access that operates using the principles of API key authentication.\n",
    "- OAuth authorises devices, APIs, servers and applications with access tokens rather than credentials. \n",
    "- When OAuth is used to authenticate a connection to a server an authentication request is sent from the client application (in the present case, a Python script that we build) to an authentication server. \n",
    "- It is the authentication server that generates the OAuth token.\n",
    "- The token is returned to the client application over HTTPS, which then passes it to the API server. \n",
    "- You may have come across websites or apps that ask you to login with your Google, Facebook, or Twitter account. \n",
    "- In these cases Google, Facebook, or Twitter are acting as an authentication server. \n",
    "- Note that an authentication server doesn’t need to be a third-party server, but will generally be a different server to the one providing data."
   ]
  },
  {
   "cell_type": "markdown",
   "metadata": {},
   "source": [
    "In the last example of this chapter, we will create an API that uses **basic authentication** to authenticate a web request. The full code is shown as follows:"
   ]
  },
  {
   "cell_type": "raw",
   "metadata": {},
   "source": [
    "# BasicAuth.py\n",
    "\n",
    "from flask import Flask\n",
    "from flask_restful import Resource, Api\n",
    "from flask_httpauth import HTTPBasicAuth\n",
    "\n",
    "app = Flask(__name__)\n",
    "api = Api(app)\n",
    "auth = HTTPBasicAuth()\n",
    "\n",
    "USER_DATA = {\n",
    "    'admin':'atCh_5K}?g'\n",
    "}\n",
    "\n",
    "@auth.verify_password\n",
    "def verify(username, password):\n",
    "    if not (username and password):\n",
    "        return False\n",
    "    return USER_DATA.get(username) == password\n",
    "\n",
    "class HelloWorld(Resource):\n",
    "    @auth.login_required\n",
    "    def get(self):\n",
    "        return {'Hello':'World'}\n",
    "\n",
    "api.add_resource(HelloWorld, '/hello_world')\n",
    "\n",
    "if __name__ == '__main__':\n",
    "    app.run(debug=True)"
   ]
  },
  {
   "cell_type": "markdown",
   "metadata": {},
   "source": [
    "- Now much of this code is similar to what we have seen before? \n",
    "- So, we will just go over the new elements of which there are two."
   ]
  },
  {
   "cell_type": "raw",
   "metadata": {},
   "source": [
    "from flask import Flask\n",
    "from flask_restful import Resource, Api\n",
    "from flask_httpauth import HTTPBasicAuth\n",
    "\n",
    "app = Flask(__name__)\n",
    "api = Api(app)\n",
    "auth = HTTPBasicAuth()\n",
    "\n",
    "USER_DATA = {\n",
    "\"admin\": \"atCh_5K}?g\"\n",
    "}"
   ]
  },
  {
   "cell_type": "markdown",
   "metadata": {},
   "source": [
    "- In the above block of code, we add in the HTTPBasicAuth from flask_httpauth.\n",
    "- You may need to install this package, so refer back to earlier in the book where we showed you where to find the command for a specific package. \n",
    "- With this imported we create a HTTPBasicAuth() object and assign it to auth. \n",
    "- We then create a **dictionary containing user data which has a username and password as key and value**."
   ]
  },
  {
   "cell_type": "raw",
   "metadata": {},
   "source": [
    "@auth.verify_password\n",
    "def verify(username, password):\n",
    "    if not (username and password):\n",
    "        return False\n",
    "    return USER_DATA.get(username) == password\n",
    "\n",
    "class HelloWorld(Resource):\n",
    "    @auth.login_required\n",
    "    def get(self):\n",
    "        return {\"Hello\": \"World\"}"
   ]
  },
  {
   "cell_type": "markdown",
   "metadata": {},
   "source": [
    "- Next, we create a **verify function** which takes the username and password as arguments and returns True if the value of the dictionary call using the username gives the password we have. \n",
    "- Note that we use get method of the dictionary so we don’t get a key error.\n",
    "- This is decorated this with the auth verify_password. \n",
    "- We can then use the decorator auth.login_required on our get method that means we must be logged in to get the return of the HelloWorld class. \n",
    "- The resource is added to the endpoint /hello_world and we run the API in the way we have done in the previous examples."
   ]
  },
  {
   "cell_type": "markdown",
   "metadata": {},
   "source": [
    "With the API running we can then attempt to access the endpoint http://127.0.0.1:5000/hello_world using the requests library."
   ]
  },
  {
   "cell_type": "code",
   "execution_count": 23,
   "metadata": {},
   "outputs": [],
   "source": [
    "# run BasicAuth.py\n",
    "\n",
    "import requests"
   ]
  },
  {
   "cell_type": "code",
   "execution_count": 24,
   "metadata": {},
   "outputs": [],
   "source": [
    "r = requests.get('http://127.0.0.1:5000/hello_world')"
   ]
  },
  {
   "cell_type": "code",
   "execution_count": 25,
   "metadata": {},
   "outputs": [
    {
     "data": {
      "text/plain": [
       "401"
      ]
     },
     "execution_count": 25,
     "metadata": {},
     "output_type": "execute_result"
    }
   ],
   "source": [
    "r.status_code"
   ]
  },
  {
   "cell_type": "code",
   "execution_count": 26,
   "metadata": {},
   "outputs": [],
   "source": [
    "r = requests.get('http://127.0.0.1:5000/hello_world', auth=('admin','atCh_5K}?g'))"
   ]
  },
  {
   "cell_type": "code",
   "execution_count": 27,
   "metadata": {},
   "outputs": [
    {
     "data": {
      "text/plain": [
       "200"
      ]
     },
     "execution_count": 27,
     "metadata": {},
     "output_type": "execute_result"
    }
   ],
   "source": [
    "r.status_code"
   ]
  },
  {
   "cell_type": "code",
   "execution_count": 28,
   "metadata": {},
   "outputs": [
    {
     "data": {
      "text/plain": [
       "{'Hello': 'World'}"
      ]
     },
     "execution_count": 28,
     "metadata": {},
     "output_type": "execute_result"
    }
   ],
   "source": [
    "r.json()"
   ]
  },
  {
   "cell_type": "markdown",
   "metadata": {},
   "source": [
    "- In the first example, we use the standard get method and get back the status code of **401** which refers to us being **unauthorised**. \n",
    "- So to become authorised, in the second example, we **pass a tuple of username and password to the auth argument** and we get access to the endpoint and see we get back the expected json response."
   ]
  },
  {
   "cell_type": "markdown",
   "metadata": {},
   "source": [
    "- In this chapter, we have covered API’s how to create then and how to access them. \n",
    "- All examples have been run locally on our machine, however Python is a great tool for production quality APIs. \n",
    "- The examples relating to how to access APIs are particularly useful for those wishing to work with different data sources as APIs are common place as a solution to allow users to interact with. \n",
    "- While requests are great for interfacing directly with APIs you may find packages that wrap up some of the complexity associated with providers APIs."
   ]
  }
 ],
 "metadata": {
  "kernelspec": {
   "display_name": "Python 3",
   "language": "python",
   "name": "python3"
  },
  "language_info": {
   "codemirror_mode": {
    "name": "ipython",
    "version": 3
   },
   "file_extension": ".py",
   "mimetype": "text/x-python",
   "name": "python",
   "nbconvert_exporter": "python",
   "pygments_lexer": "ipython3",
   "version": "3.8.3"
  }
 },
 "nbformat": 4,
 "nbformat_minor": 4
}
