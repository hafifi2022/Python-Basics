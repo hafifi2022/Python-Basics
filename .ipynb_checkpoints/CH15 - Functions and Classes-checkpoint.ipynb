{
 "cells": [
  {
   "cell_type": "code",
   "execution_count": null,
   "metadata": {},
   "outputs": [],
   "source": [
    "# If you want to group code together or reuse it, then functions and classes are a great thing to use.\n",
    "# Let’s start with functions, these are very useful for code that you want to reuse or if you have repeated code, \n",
    "# then a function can help you. \n",
    "# Functions also allow you to run code with arguments which gives you the ability to have the behaviour of the function \n",
    "# dictated by the variables you pass to it.\n",
    "\n",
    "from random import randint\n",
    "\n",
    "min = 1\n",
    "max = 59\n",
    "result_list = []\n",
    "\n",
    "while len(result_list) < 7:\n",
    "    ball = randint(min,max)\n",
    "    if ball not in result_list:\n",
    "        result_list.append(ball)\n",
    "        \n",
    "result_list"
   ]
  },
  {
   "cell_type": "code",
   "execution_count": null,
   "metadata": {},
   "outputs": [],
   "source": [
    "# Now, we can cast above a function called random_lot as follows:\n",
    "\n",
    "def random_lot():\n",
    "    min = 1\n",
    "    max = 59\n",
    "    result_list = []\n",
    "    \n",
    "    while len(result_list) < 7:\n",
    "        ball = randint(min,max)\n",
    "        if ball not in result_list:\n",
    "            result_list.append(ball)\n",
    "    return result_list"
   ]
  },
  {
   "cell_type": "code",
   "execution_count": null,
   "metadata": {},
   "outputs": [],
   "source": [
    "# What we have done here is define a function called random_lot. \n",
    "# This is done by using the command def followed by the name that you want to give the function. \n",
    "# We then use two round brackets to denote the arguments that we want to pass to the function. \n",
    "# Here, we have nothing within the brackets which means that we pass no argument into the function. \n",
    "# Note that following the round brackets we use a colon in the same way we have for if, else, for, and while statements \n",
    "# and in the same way as we do with these statements we indent the code one level from where the function was defined. \n",
    "# From this point onwards the code used is exactly the same as we have seen in the previous example. \n",
    "# The main difference comes at the end in that we use the statement return with the return_list variable. \n",
    "# What this does is return back what the variable return list after the code within the function has been run.\n",
    "# In this instance we get back the list of lot numbers that are generated. \n",
    "# To run the above function we just do the following:\n",
    "\n",
    "random_lot()"
   ]
  },
  {
   "cell_type": "code",
   "execution_count": null,
   "metadata": {},
   "outputs": [],
   "source": [
    "result = random_lot()\n",
    "result"
   ]
  },
  {
   "cell_type": "code",
   "execution_count": null,
   "metadata": {},
   "outputs": [],
   "source": [
    "# If we consider what the function is doing we generate balls using the randint function.\n",
    "# What if we didn’t want numbers being 1–59 and instead want 1–49. \n",
    "# We could just alter the code to have 49 instead of 59 but actually wouldn’t it make sense for us to have arguments \n",
    "# representing these max and min values. \n",
    "# We can make that change relatively easily by rewriting the previous function as follows:\n",
    "\n",
    "def random_lot(min,max):\n",
    "    result_list = []\n",
    "    while len(result_list) < 7:\n",
    "        ball = randint(min,max)\n",
    "        if ball not in result_list:\n",
    "            result_list.append(ball)\n",
    "    return result_list"
   ]
  },
  {
   "cell_type": "code",
   "execution_count": null,
   "metadata": {},
   "outputs": [],
   "source": [
    "# What we have done here is to have the min and max as variables we pass into the function.\n",
    "# Despite the values being the minimum and maximum, we can call them what we want to.\n",
    "# We have just denoted them as min and max, however they could be x and y, and its just a question of \n",
    "# referencing these in the appropriate place within the code. \n",
    "# So here the values min and max are used only in the randint function to give us back the random ball. \n",
    "# We can demonstrate how we would use this below:\n",
    "\n",
    "random_lot(1,30)"
   ]
  },
  {
   "cell_type": "code",
   "execution_count": null,
   "metadata": {},
   "outputs": [],
   "source": [
    "# In the previous example, we have passed in the minimum and maximum values we want to use in the function. \n",
    "# However we may want them to have a default value such as 1 and 59 as in the original example. \n",
    "# We can do that by just setting the values we pass into the function to have defaults, this is done as follows:\n",
    "\n",
    "def random_lot(min=1,max=59):\n",
    "    result_list = []\n",
    "    while len(result_list) < 7:\n",
    "        ball = randint(min,max)\n",
    "        if ball not in result_list:\n",
    "            result_list.append(ball)\n",
    "    return result_list"
   ]
  },
  {
   "cell_type": "code",
   "execution_count": null,
   "metadata": {},
   "outputs": [],
   "source": [
    "# Here, we have given the min a default of 1 and max default as 59 by using the equals to set the values. \n",
    "# This then gives us the flexibility to call the function as follows:\n",
    "\n",
    "random_lot(1,7)\n",
    "\n",
    "# If the condition is lower than (1,7), the cell will run without stopping as the logic does not cater for it."
   ]
  },
  {
   "cell_type": "code",
   "execution_count": null,
   "metadata": {},
   "outputs": [],
   "source": [
    "random_lot()"
   ]
  },
  {
   "cell_type": "code",
   "execution_count": null,
   "metadata": {},
   "outputs": [],
   "source": [
    "random_lot(min=40)"
   ]
  },
  {
   "cell_type": "code",
   "execution_count": null,
   "metadata": {},
   "outputs": [],
   "source": [
    "random_lot(max=35)"
   ]
  },
  {
   "cell_type": "code",
   "execution_count": null,
   "metadata": {},
   "outputs": [],
   "source": [
    "# If we look in more detail at the example, we can modify the example to be more flexible. \n",
    "# The code we have used so far allows us to generate exactly 7 balls in our draw.\n",
    "# However we may want to have more or less. \n",
    "# To do this lets pass one more variable into the function definition namely draw length and we do so as follows:\n",
    "\n",
    "def random_lot(min=1, max=59, draw_length=7):\n",
    "    result_list = []\n",
    "    while len(result_list) < draw_length:\n",
    "        ball = randint(min,max)\n",
    "        if ball not in result_list:\n",
    "            result_list.append(ball)\n",
    "    return result_list"
   ]
  },
  {
   "cell_type": "code",
   "execution_count": null,
   "metadata": {},
   "outputs": [],
   "source": [
    "random_lot(10)"
   ]
  },
  {
   "cell_type": "code",
   "execution_count": null,
   "metadata": {},
   "outputs": [],
   "source": [
    "random_lot(max=10)"
   ]
  },
  {
   "cell_type": "code",
   "execution_count": null,
   "metadata": {},
   "outputs": [],
   "source": [
    "random_lot(1,6,6)"
   ]
  },
  {
   "cell_type": "code",
   "execution_count": null,
   "metadata": {},
   "outputs": [],
   "source": [
    "# random_lot(1,6,7) will cause the application to run non-stop\n",
    "\n",
    "random_lot()"
   ]
  },
  {
   "cell_type": "code",
   "execution_count": null,
   "metadata": {},
   "outputs": [],
   "source": [
    "random_lot(draw_length=4)"
   ]
  },
  {
   "cell_type": "code",
   "execution_count": null,
   "metadata": {},
   "outputs": [],
   "source": [
    "# This works exactly the same way as seen before but every time we have called it we have passed \n",
    "# in the exact arguments that are required what would happen if we passed in different values.\n",
    "# We need to specify the values be integers as both the min and max need to be integers as randint generates integers. \n",
    "# Similarly the draw length can only be integers as it relates to the length of a list. \n",
    "# We can rewrite the function as follows:\n",
    "\n",
    "def random_lot(min=1, max=59, draw_length=7):\n",
    "    if type(min) is not int:  # or !=\n",
    "        print(\"min must be int\")\n",
    "        return None\n",
    "    if type(max) is not int:  # or !=\n",
    "        print(\"max must be int\")\n",
    "        return None\n",
    "    if type(draw_length) is not int:  # or !=\n",
    "        print(\"draw_length must be int\")\n",
    "        return None\n",
    "    result_list = []\n",
    "    while len(result_list) < draw_length:\n",
    "        ball = randint(min,max)\n",
    "        if ball not in result_list:\n",
    "            result_list.append(ball)\n",
    "    return result_list"
   ]
  },
  {
   "cell_type": "code",
   "execution_count": null,
   "metadata": {},
   "outputs": [],
   "source": [
    "# What we have done here is use the type built in function to check if the value passed in for each variable is an integer. \n",
    "# Note that this is done one by one so that an informative message can be sent back as to why the error occurred and \n",
    "# what the problem was. To see this in action we only need to run the following:\n",
    "\n",
    "random_lot('a','b','c')"
   ]
  },
  {
   "cell_type": "code",
   "execution_count": null,
   "metadata": {},
   "outputs": [],
   "source": [
    "# We see here that the function returned the message 'min must be an int'.\n",
    "# However we know that we would also have a problem with max and draw length which were passed\n",
    "# in as strings but should also be an integer. \n",
    "# We can expand upon the logic above by using a combination of if and else statements to determine \n",
    "# which combination of variables are passed in with an invalid type.\n",
    "\n",
    "def random_lot(min=1, max=59, draw_length=7):\n",
    "    min_val = True\n",
    "    max_val = True\n",
    "    draw_length_val = True\n",
    "    \n",
    "    if type(min) != int:\n",
    "        min_val = False\n",
    "    if type(max) != int:\n",
    "        max_val = False\n",
    "    if type(draw_length) != int:\n",
    "        draw_length_val = False\n",
    "    \n",
    "    if min_val is False:\n",
    "        if max_val is False:\n",
    "            if draw_length_val is False:\n",
    "                print('min, max, and draw_length must be integer')\n",
    "                return\n",
    "            else:\n",
    "                print('min and max must be integer')\n",
    "                return\n",
    "        else:\n",
    "            if draw_length_val is False:\n",
    "                print(\"min and draw_length must be integer\")\n",
    "                return\n",
    "            else:\n",
    "                print(\"min must be integer\")\n",
    "                return\n",
    "    else:\n",
    "        if max_val is False:\n",
    "            if draw_length_val is False:\n",
    "                print(\"max and draw_length must be integer\")\n",
    "                return\n",
    "            else:\n",
    "                print(\"max must be integer\")\n",
    "                return\n",
    "        else:\n",
    "            if draw_length_val is False:\n",
    "                print(\"draw_length must be integer\")\n",
    "                return\n",
    "            else:\n",
    "                pass\n",
    "    \n",
    "    result_list = []\n",
    "    while len(result_list) < draw_length:\n",
    "        ball = randint(min,max)\n",
    "        if ball not in result_list:\n",
    "            result_list.append(ball)\n",
    "    return result_list\n",
    "\n",
    "# What we have added here is variables that are set to True for each of the values that we pass in as arguments. \n",
    "# We set these to be False if the value is not an integer and use a combination of if else statements to determine \n",
    "# which combination are of the right type and print an informative message about what variables are not correct. \n",
    "# Note that we don’t return anything when values are not all correct and the return type is None."
   ]
  },
  {
   "cell_type": "code",
   "execution_count": null,
   "metadata": {},
   "outputs": [],
   "source": [
    "random_lot()"
   ]
  },
  {
   "cell_type": "code",
   "execution_count": null,
   "metadata": {},
   "outputs": [],
   "source": [
    "random_lot('a','b','c')"
   ]
  },
  {
   "cell_type": "code",
   "execution_count": null,
   "metadata": {},
   "outputs": [],
   "source": [
    "random_lot(1,4,'c')"
   ]
  },
  {
   "cell_type": "code",
   "execution_count": null,
   "metadata": {},
   "outputs": [],
   "source": [
    "random_lot('a',33,'c')"
   ]
  },
  {
   "cell_type": "code",
   "execution_count": null,
   "metadata": {},
   "outputs": [],
   "source": [
    "random_lot('a',33,'c') is None"
   ]
  },
  {
   "cell_type": "code",
   "execution_count": null,
   "metadata": {},
   "outputs": [],
   "source": [
    "# Having introduced functions we will move onto classes within Python. \n",
    "# Classes can be very powerful objects which allow us to bundle together lots of functions and variables.\n",
    "# When we talk about functions and variables when related to a class we call them methods and attributes. \n",
    "# We will demonstrate this by creating a simple class:\n",
    "\n",
    "class MyClass:\n",
    "    x = 10"
   ]
  },
  {
   "cell_type": "code",
   "execution_count": null,
   "metadata": {},
   "outputs": [],
   "source": [
    "mc = MyClass()\n",
    "mc.x"
   ]
  },
  {
   "cell_type": "code",
   "execution_count": null,
   "metadata": {},
   "outputs": [],
   "source": [
    "# What we have done here is create a class called MyClass by using the class definer. \n",
    "# Within the class we have set a variable x to be equal to 10. \n",
    "# We can then create an instance of MyClass and access the x variable using the dot syntax. \n",
    "# Let us expand on this by creating a random_lot example based on the function before.\n",
    "\n",
    "class Random_Lot:\n",
    "    def __init__(self, min=1, max=59, draw_length=7):\n",
    "        self.min = min\n",
    "        self.max = max\n",
    "        self.draw_length = draw_length\n",
    "    \n",
    "    def random_lot(self):\n",
    "        min_val = True\n",
    "        max_val = True\n",
    "        draw_length_val = True\n",
    "        \n",
    "        if type(self.min) != int:\n",
    "            min_val = False\n",
    "        if type(self.max) != int:\n",
    "            max_val = False\n",
    "        if type(self.draw_length) != int:\n",
    "            draw_length_val = False\n",
    "        \n",
    "        if min_val is False:\n",
    "            if max_val is False:\n",
    "                if draw_length_val is False:\n",
    "                    print(\"min, max, and draw_length need to be integer\")\n",
    "                    return\n",
    "                else:\n",
    "                    print(\"min and max need to be integer\")\n",
    "                    return\n",
    "            else:\n",
    "                if draw_length_val is False:\n",
    "                    print(\"min and draw_length need to be integer\")\n",
    "                    return\n",
    "                else:\n",
    "                    print(\"min needs to be integer\")\n",
    "                    return\n",
    "        else:\n",
    "            if max_val is False:\n",
    "                if draw_length_val is False:\n",
    "                    print(\"max ad draw_length need to be integer\")\n",
    "                else:\n",
    "                    print(\"max needs to be integer\")\n",
    "            else:\n",
    "                if draw_length_val is False:\n",
    "                    print(\"draw_length needs to be integer\")\n",
    "                else:\n",
    "                    pass\n",
    "        \n",
    "        result_list = []\n",
    "        while len(result_list) < self.draw_length:\n",
    "            ball = randint(self.min, self.max)\n",
    "            if ball not in result_list:\n",
    "                result_list.append(ball)\n",
    "        return result_list"
   ]
  },
  {
   "cell_type": "code",
   "execution_count": null,
   "metadata": {},
   "outputs": [],
   "source": [
    "# In this code, we define the class in the way we did before and call it Random_Lot. \n",
    "# Next, we create an init method using __init__ and this initialiser is called when we define the class so\n",
    "# we can pass in arguments from here that can be used within the class. \n",
    "# Note that we can use the standard defaults but these are then assigned to the class by using the self-dot syntax\n",
    "# which allows that value to be part of class and then allowed to be used anywhere within the class. \n",
    "# We can create the class in the following example:\n",
    "\n",
    "rl = Random_Lot()\n",
    "rl.random_lot()"
   ]
  },
  {
   "cell_type": "code",
   "execution_count": null,
   "metadata": {},
   "outputs": [],
   "source": [
    "rl = Random_Lot(1,10,7)\n",
    "rl.random_lot()"
   ]
  },
  {
   "cell_type": "code",
   "execution_count": null,
   "metadata": {},
   "outputs": [],
   "source": [
    "rl = Random_Lot(draw_length=3)\n",
    "rl.random_lot()"
   ]
  },
  {
   "cell_type": "code",
   "execution_count": null,
   "metadata": {},
   "outputs": [],
   "source": [
    "# You may think this isn’t very different to what we did with the function.\n",
    "# However we can change up our code to take advantage of how classes work to \n",
    "# simplify how we deal with variables not being of the right type.\n",
    "\n",
    "class Random_Lot:\n",
    "    def __init__ (self, min=1, max=59, draw_length=7):\n",
    "        self.min = min\n",
    "        self.max = max\n",
    "        self.draw_length = draw_length\n",
    "        self.valid_data = True\n",
    "        \n",
    "        if type(self.min) != int:\n",
    "            print(\"min value needs to be integer\")\n",
    "            self.valid_data = False\n",
    "        if type(self.max) != int:\n",
    "            print(\"max value needs to be integer\")\n",
    "            self.valid_data = False\n",
    "        if type(self.draw_length) != int:\n",
    "            print(\"draw_length needs to be integer\")\n",
    "            self.valid_data = False\n",
    "    \n",
    "    def random_lot(self):\n",
    "        if self.valid_data is False:\n",
    "            print(\"Try again\")\n",
    "        else:\n",
    "            result_list = []\n",
    "            while len(result_list) < self.draw_length:\n",
    "                ball = randint(self.min, self.max)\n",
    "                if ball not in result_list:\n",
    "                    result_list.append(ball)\n",
    "            return result_list\n",
    "\n",
    "# What we have done here is move a lot of the complex logic around checking each types \n",
    "# from the random_lot function into the initialiser which means we can print what needs changing\n",
    "# and also set the valid data attribute. \n",
    "# Only if the valid_data returns True can we run the random_lot function. \n",
    "# By using a class we have a lot more flexibility within it to make use of attributes and set logic that can \n",
    "# affect what other methods do. "
   ]
  },
  {
   "cell_type": "code",
   "execution_count": null,
   "metadata": {},
   "outputs": [],
   "source": [
    "rl = Random_Lot('a','b',6)"
   ]
  },
  {
   "cell_type": "code",
   "execution_count": null,
   "metadata": {},
   "outputs": [],
   "source": [
    "rl.random_lot()"
   ]
  },
  {
   "cell_type": "code",
   "execution_count": null,
   "metadata": {},
   "outputs": [],
   "source": [
    "rl = Random_Lot(1,10,5)"
   ]
  },
  {
   "cell_type": "code",
   "execution_count": null,
   "metadata": {},
   "outputs": [],
   "source": [
    "rl.random_lot()"
   ]
  },
  {
   "cell_type": "code",
   "execution_count": null,
   "metadata": {},
   "outputs": [],
   "source": [
    "# In the previous example, we have shown how to write functions and classes but as with the rest of the book \n",
    "# we have done so in the interactive shell.\n",
    "# However a more practical way to create a file with the content in. \n",
    "# To do so is quite simple: you just simply write the exact same code into any blank file and save it with the suffix .py.\n",
    "# While in theory you can use any editor to write code in, you should use an integrated development environment (IDE). \n",
    "# With the Anaconda installation of Python you get Spyder included, which is a great Python IDE."
   ]
  },
  {
   "cell_type": "code",
   "execution_count": null,
   "metadata": {},
   "outputs": [],
   "source": [
    "# Adding your code to files is great if you want to easily and quickly run a set of commands on demand \n",
    "# and means you can create an archive and potentially version code that you have. \n",
    "# What you can also do is share code with others and yourself. \n",
    "# Let’s demonstrate via an example, if we take the random_lot function we defined at the start of the chapter and put this\n",
    "# in a file called random_lot.py we are then able to use this by importing it into Python. \n",
    "# We have covered how to import packages in earlier chapters and importing your own Python file is no different. \n",
    "# When importing your own file it is important to understand how Python does an import. \n",
    "# To do so we import the package sys and look at the sys.path list."
   ]
  },
  {
   "cell_type": "code",
   "execution_count": null,
   "metadata": {},
   "outputs": [],
   "source": [
    "import sys\n",
    "sys.path\n",
    "\n",
    "# We put random_lot.py into C:\\Anaconda\\"
   ]
  },
  {
   "cell_type": "code",
   "execution_count": null,
   "metadata": {},
   "outputs": [],
   "source": [
    "# The sys.path list contains locations where Python can search for. \n",
    "# So if we were looking to import our random_lot file, we can do so if it is present at one of the locations in sys.path. \n",
    "# Note that the first entry is the current location you are in. \n",
    "# We can also append a new location to this list if we require.\n",
    "# Now, we can import the contents of the random_lot.py file by just running the following code:\n",
    "\n",
    "from random_lot import *"
   ]
  },
  {
   "cell_type": "code",
   "execution_count": null,
   "metadata": {},
   "outputs": [],
   "source": [
    "# This then gives us access to everything within the file and we could then just run our random_lot function by calling it. \n",
    "# We could also import using other approaches used earlier to import a package. \n",
    "# This concept of importing our own code allows the coder to be flexible in how code is structured \n",
    "# and also reduce repeatability by having key code written once and shared when needed. \n",
    "# We could import our class into another file and run the code from there. \n",
    "# We can run the random_lot class as follows:\n",
    "\n",
    "rl = Random_Lot()\n",
    "rl.random_lot()"
   ]
  },
  {
   "cell_type": "code",
   "execution_count": null,
   "metadata": {},
   "outputs": [],
   "source": [
    "rl = Random_Lot('a',2,4)\n",
    "rl.random_lot()"
   ]
  },
  {
   "cell_type": "code",
   "execution_count": null,
   "metadata": {},
   "outputs": [],
   "source": [
    "dir(rl)"
   ]
  },
  {
   "cell_type": "code",
   "execution_count": null,
   "metadata": {},
   "outputs": [],
   "source": [
    "# It’s as easy as that to share the code with other files. This makes it really easy to move\n",
    "# sharable code into its own functions or classes and share it with other files very easily.\n",
    "# Having both the console and an editor is important as sometime you want to work interactively \n",
    "# to understand what you need to do but overall its much more efficient to have files with your code in."
   ]
  }
 ],
 "metadata": {
  "kernelspec": {
   "display_name": "Python 3",
   "language": "python",
   "name": "python3"
  },
  "language_info": {
   "codemirror_mode": {
    "name": "ipython",
    "version": 3
   },
   "file_extension": ".py",
   "mimetype": "text/x-python",
   "name": "python",
   "nbconvert_exporter": "python",
   "pygments_lexer": "ipython3",
   "version": "3.8.5"
  }
 },
 "nbformat": 4,
 "nbformat_minor": 4
}
