{
 "cells": [
  {
   "cell_type": "code",
   "execution_count": null,
   "metadata": {},
   "outputs": [],
   "source": [
    "# Dictionaries are used to contain data in a very specific way as they hold 'key-value' pairs. \n",
    "# What do we mean by 'key-value' pairs? \n",
    "# For example, we could have a key as first name and a value as Rob.\n",
    "# Dictionary of personal details.\n",
    "\n",
    "dict_detail = {}\n",
    "dict_detail[\"First Name\"] = \"Rob\"\n",
    "dict_detail[\"Surname\"] = \"Mastrodomenico\"\n",
    "dict_detail[\"Gender\"] = \"Male\"\n",
    "dict_detail[\"Favourite Food\"] = \"Pizza\"\n",
    "dict_detail"
   ]
  },
  {
   "cell_type": "code",
   "execution_count": null,
   "metadata": {},
   "outputs": [],
   "source": [
    "type(dict_detail)"
   ]
  },
  {
   "cell_type": "code",
   "execution_count": null,
   "metadata": {},
   "outputs": [],
   "source": [
    "dir(dict_detail)"
   ]
  },
  {
   "cell_type": "code",
   "execution_count": null,
   "metadata": {},
   "outputs": [],
   "source": [
    "# Other way of creating 'dict' but we can't have whitespace in key - First_Name vs First Name\n",
    "# The reason being is that Python interprets the space between the two words as two separate entries and throws an error.\n",
    "\n",
    "person_details = dict(First_Name=\"Rob\", Surname=\"Mastrodomenico\", Gender=\"Male\", Favourite_Food=\"Pizza\")\n",
    "person_details"
   ]
  },
  {
   "cell_type": "code",
   "execution_count": null,
   "metadata": {},
   "outputs": [],
   "source": [
    "# Other way\n",
    "\n",
    "person_details = {\"First Name\":\"John\", \n",
    "                  \"Surname\":\"Mastrodomenico\", \n",
    "                  \"Gender\":\"Male\", \n",
    "                  \"Favourite Food\":\"Pizza\"}\n",
    "person_details"
   ]
  },
  {
   "cell_type": "code",
   "execution_count": null,
   "metadata": {},
   "outputs": [],
   "source": [
    "# Other way of using dict method.\n",
    "\n",
    "person_details = dict([(\"First Name\", \"Rob\"), \n",
    "                       (\"Surname\", \"Mastrodomenico\"), \n",
    "                       (\"Gender\", \"Male\"), \n",
    "                       (\"Favourite Food\", \"Pizza\")])\n",
    "person_details"
   ]
  },
  {
   "cell_type": "code",
   "execution_count": null,
   "metadata": {},
   "outputs": [],
   "source": [
    "person_details[\"Surname\"]"
   ]
  },
  {
   "cell_type": "code",
   "execution_count": null,
   "metadata": {},
   "outputs": [],
   "source": [
    "person_details[\"Age\"]"
   ]
  },
  {
   "cell_type": "code",
   "execution_count": null,
   "metadata": {},
   "outputs": [],
   "source": [
    "try:\n",
    "    age = person_details[\"Age\"]\n",
    "except:\n",
    "    age = None\n",
    "    print(\"Not found\")"
   ]
  },
  {
   "cell_type": "code",
   "execution_count": null,
   "metadata": {},
   "outputs": [],
   "source": [
    "# Try excepts are useful, however it would be better if we had a method that let us try and\n",
    "# get a key and if it didn’t exist not throw an error. Fortunately enough we have a 'get' method\n",
    "# that we can use to get the value from a dictionary by passing a key.\n",
    "\n",
    "person_details.get(\"Gender\")"
   ]
  },
  {
   "cell_type": "code",
   "execution_count": null,
   "metadata": {},
   "outputs": [],
   "source": [
    "person_details.get(\"Age\")"
   ]
  },
  {
   "cell_type": "code",
   "execution_count": null,
   "metadata": {},
   "outputs": [],
   "source": [
    "# 'pop' method\n",
    "\n",
    "person_details"
   ]
  },
  {
   "cell_type": "code",
   "execution_count": null,
   "metadata": {},
   "outputs": [],
   "source": [
    "person_details.pop(\"Gender\")\n",
    "person_details"
   ]
  },
  {
   "cell_type": "code",
   "execution_count": null,
   "metadata": {},
   "outputs": [],
   "source": [
    "# 'popitem' method\n",
    "\n",
    "person_details.popitem()"
   ]
  },
  {
   "cell_type": "code",
   "execution_count": null,
   "metadata": {},
   "outputs": [],
   "source": [
    "person_details"
   ]
  },
  {
   "cell_type": "code",
   "execution_count": null,
   "metadata": {},
   "outputs": [],
   "source": [
    "# In the first example we used 'pop' with the key that we wanted to remove and in doing \n",
    "# so this removed the specific key and value from the dictionary. \n",
    "# The second approach used the popitem' method which just pops off the last key value pair in the dictionary."
   ]
  },
  {
   "cell_type": "code",
   "execution_count": null,
   "metadata": {},
   "outputs": [],
   "source": [
    "# Another way to remove items is to use the 'del' method where we pass the dictionary name\n",
    "# and key combination to remove that key value pair from the dictionary.\n",
    "\n",
    "person_details = dict([(\"First Name\", \"Rob\"),\n",
    "                      (\"Surname\", \"Mastrodomenico\"),\n",
    "                      (\"Gender\", \"Male\"),\n",
    "                      (\"Favourite Food\", \"Pizza\")])\n",
    "person_details"
   ]
  },
  {
   "cell_type": "code",
   "execution_count": null,
   "metadata": {},
   "outputs": [],
   "source": [
    "del person_details[\"Gender\"]"
   ]
  },
  {
   "cell_type": "code",
   "execution_count": null,
   "metadata": {},
   "outputs": [],
   "source": [
    "person_details"
   ]
  },
  {
   "cell_type": "code",
   "execution_count": null,
   "metadata": {},
   "outputs": [],
   "source": [
    "del person_details[\"Age\"]"
   ]
  },
  {
   "cell_type": "code",
   "execution_count": null,
   "metadata": {},
   "outputs": [],
   "source": [
    "# Earlier we mentioned how if we assign one list to another the changes are reflected. \n",
    "# The same is true for dictionaries.\n",
    "\n",
    "person_details = dict([(\"First Name\", \"Rob\"),\n",
    "                      (\"Surname\", \"Mastrodomenico\"),\n",
    "                      (\"Gender\", \"Male\"),\n",
    "                      (\"Favourite Food\", \"Pizza\")])\n",
    "person_details"
   ]
  },
  {
   "cell_type": "code",
   "execution_count": null,
   "metadata": {},
   "outputs": [],
   "source": [
    "his_details = person_details\n",
    "his_details"
   ]
  },
  {
   "cell_type": "code",
   "execution_count": null,
   "metadata": {},
   "outputs": [],
   "source": [
    "person_details[\"Age\"] = 21\n",
    "person_details"
   ]
  },
  {
   "cell_type": "code",
   "execution_count": null,
   "metadata": {},
   "outputs": [],
   "source": [
    "his_details"
   ]
  },
  {
   "cell_type": "code",
   "execution_count": null,
   "metadata": {},
   "outputs": [],
   "source": [
    "# If we want to take a copy of a dictionary and independently make changes to it we can\n",
    "# use the copy method in a similar way that we did with lists.\n",
    "\n",
    "person_details = dict([(\"First Name\", \"Rob\"),\n",
    "                       (\"Surname\", \"Mastrodomenico\"),\n",
    "                       (\"Gender\", \"Male\"),\n",
    "                       (\"Favourite Food\", \"Pizza\")])\n",
    "person_details"
   ]
  },
  {
   "cell_type": "code",
   "execution_count": null,
   "metadata": {},
   "outputs": [],
   "source": [
    "his_details = person_details.copy()\n",
    "his_details"
   ]
  },
  {
   "cell_type": "code",
   "execution_count": null,
   "metadata": {},
   "outputs": [],
   "source": [
    "person_details[\"Age\"] = 21\n",
    "person_details"
   ]
  },
  {
   "cell_type": "code",
   "execution_count": null,
   "metadata": {},
   "outputs": [],
   "source": [
    "his_details"
   ]
  },
  {
   "cell_type": "code",
   "execution_count": null,
   "metadata": {},
   "outputs": [],
   "source": [
    "# We also have the ability to clear out all contents of dictionary using the 'clear' method.\n",
    "\n",
    "his_details.clear()\n",
    "his_details"
   ]
  },
  {
   "cell_type": "code",
   "execution_count": null,
   "metadata": {},
   "outputs": [],
   "source": [
    "# If we want to create a set of keys with the same value we can do using the fromkeys method.\n",
    "\n",
    "x = ('key1','key2','key3')\n",
    "y = 0\n",
    "\n",
    "res = dict.fromkeys(x,y)\n",
    "res"
   ]
  },
  {
   "cell_type": "code",
   "execution_count": null,
   "metadata": {},
   "outputs": [],
   "source": [
    "# We have thus far accessed values from dictionaries using the keys. \n",
    "# However we can access all keys and values from a dictionary using the following methods:\n",
    "\n",
    "person_details"
   ]
  },
  {
   "cell_type": "code",
   "execution_count": null,
   "metadata": {},
   "outputs": [],
   "source": [
    "person_details.items()"
   ]
  },
  {
   "cell_type": "code",
   "execution_count": null,
   "metadata": {},
   "outputs": [],
   "source": [
    "person_details.keys()"
   ]
  },
  {
   "cell_type": "code",
   "execution_count": null,
   "metadata": {},
   "outputs": [],
   "source": [
    "person_details.values()"
   ]
  },
  {
   "cell_type": "code",
   "execution_count": null,
   "metadata": {},
   "outputs": [],
   "source": [
    "# If you want to access them like we would a list we can cast them as such and access the relevant index positions.\n",
    "\n",
    "list(person_details.items())[0]"
   ]
  },
  {
   "cell_type": "code",
   "execution_count": null,
   "metadata": {},
   "outputs": [],
   "source": [
    "list(person_details.keys())[-1]"
   ]
  },
  {
   "cell_type": "code",
   "execution_count": null,
   "metadata": {},
   "outputs": [],
   "source": [
    "list(person_details.values())[-1]"
   ]
  },
  {
   "cell_type": "markdown",
   "metadata": {},
   "source": [
    "#### That gives summary of dictionary methods and what you can do with them,\n",
    "#### compared to lists and tuples, these types of objects can be very powerful and flexible container."
   ]
  }
 ],
 "metadata": {
  "kernelspec": {
   "display_name": "Python 3",
   "language": "python",
   "name": "python3"
  },
  "language_info": {
   "codemirror_mode": {
    "name": "ipython",
    "version": 3
   },
   "file_extension": ".py",
   "mimetype": "text/x-python",
   "name": "python",
   "nbconvert_exporter": "python",
   "pygments_lexer": "ipython3",
   "version": "3.8.5"
  }
 },
 "nbformat": 4,
 "nbformat_minor": 4
}
