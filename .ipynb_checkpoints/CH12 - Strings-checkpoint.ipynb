{
 "cells": [
  {
   "cell_type": "code",
   "execution_count": null,
   "metadata": {},
   "outputs": [],
   "source": [
    "name = \"Rob\"\n",
    "name"
   ]
  },
  {
   "cell_type": "code",
   "execution_count": null,
   "metadata": {},
   "outputs": [],
   "source": [
    "name = \"\"\"Rob\"\"\"\n",
    "name"
   ]
  },
  {
   "cell_type": "code",
   "execution_count": null,
   "metadata": {},
   "outputs": [],
   "source": [
    "name = '''Rob'''\n",
    "name"
   ]
  },
  {
   "cell_type": "code",
   "execution_count": null,
   "metadata": {},
   "outputs": [],
   "source": [
    "# If you put a single quote in a string separated by single quotes you get the following:\n",
    "\n",
    "single_quote_string = 'string with a ' single quote'"
   ]
  },
  {
   "cell_type": "code",
   "execution_count": null,
   "metadata": {},
   "outputs": [],
   "source": [
    "# To include a single quote in a string separated by single quotes you need to use an escape sequence. \n",
    "# An escape sequence is basically the character with a backslash before it, so if\n",
    "# we write the previous string with an escape sequence it looks like the following:\n",
    "\n",
    "single_quote_string = 'string with a \\' single quote'\n",
    "single_quote_string"
   ]
  },
  {
   "cell_type": "code",
   "execution_count": null,
   "metadata": {},
   "outputs": [],
   "source": [
    "# You might say why use single quotes around a string with single quotes and you would\n",
    "# be right, we could write the previous example as follows with double quotes:\n",
    "\n",
    "single_quote_string = \"string with a ' single quote\"\n",
    "single_quote_string"
   ]
  },
  {
   "cell_type": "code",
   "execution_count": null,
   "metadata": {},
   "outputs": [],
   "source": [
    "single_quote_string = \"\"\"string with a ' single quote\"\"\"\n",
    "single_quote_string"
   ]
  },
  {
   "cell_type": "code",
   "execution_count": null,
   "metadata": {},
   "outputs": [],
   "source": [
    "# The same would hold for a double quote, however if we have the double quote at the end of the string we encounter a problem.\n",
    "\n",
    "double_quote_string = \"\"\"string with a double quote at the end\"\"\"\"\n",
    "double_quote_string"
   ]
  },
  {
   "cell_type": "code",
   "execution_count": null,
   "metadata": {},
   "outputs": [],
   "source": [
    "# To get around this problem you would need to use an escape sequence on the double quote as shown below:\n",
    "\n",
    "double_quote_string = \"string with a double quote at the end \\\"\"\n",
    "double_quote_string"
   ]
  },
  {
   "cell_type": "code",
   "execution_count": null,
   "metadata": {},
   "outputs": [],
   "source": [
    "# Another benefit to triple quoted strings is that you can write strings over multiple lines.\n",
    "\n",
    "on_two_lines = \"A quote on\n",
    "                          two lines\"\n",
    "\n",
    "# If we were to try this with single quotation then we end up with the following:"
   ]
  },
  {
   "cell_type": "code",
   "execution_count": null,
   "metadata": {},
   "outputs": [],
   "source": [
    "# Triple quoted string.\n",
    "\n",
    "on_two_lines = \"\"\"A quote on\n",
    "                            two lines\"\"\"\n",
    "on_two_lines\n",
    "\n",
    "# The string contains the line return denoted by backlash n and tabs denoted by backslash t."
   ]
  },
  {
   "cell_type": "code",
   "execution_count": null,
   "metadata": {},
   "outputs": [],
   "source": [
    "# Typing backslash n gives us a carriage return in our string. \n",
    "# But what if we want forward slash n in our string, we can use what is called a raw string.\n",
    "\n",
    "raw_string = r\"This has a \\n in it\"\n",
    "raw_string"
   ]
  },
  {
   "cell_type": "code",
   "execution_count": null,
   "metadata": {},
   "outputs": [],
   "source": [
    "print(raw_string)"
   ]
  },
  {
   "cell_type": "code",
   "execution_count": null,
   "metadata": {},
   "outputs": [],
   "source": [
    "not_raw_string = \"This has a \\n in it\"\n",
    "not_raw_string"
   ]
  },
  {
   "cell_type": "code",
   "execution_count": null,
   "metadata": {},
   "outputs": [],
   "source": [
    "print(not_raw_string)"
   ]
  },
  {
   "cell_type": "code",
   "execution_count": null,
   "metadata": {},
   "outputs": [],
   "source": [
    "not_raw_string = \"This has a \\\\n in it\"\n",
    "not_raw_string"
   ]
  },
  {
   "cell_type": "code",
   "execution_count": null,
   "metadata": {},
   "outputs": [],
   "source": [
    "print(not_raw_string)"
   ]
  },
  {
   "cell_type": "code",
   "execution_count": null,
   "metadata": {},
   "outputs": [],
   "source": [
    "not_raw_string = \"This has a \\\\\\n in it\"\n",
    "not_raw_string"
   ]
  },
  {
   "cell_type": "code",
   "execution_count": null,
   "metadata": {},
   "outputs": [],
   "source": [
    "print(not_raw_string)"
   ]
  },
  {
   "cell_type": "code",
   "execution_count": null,
   "metadata": {},
   "outputs": [],
   "source": [
    "# So given you have a string what can you do with it? \n",
    "# You can access it in much the same way as you did when we covered lists earlier on. \n",
    "# So if we want the 3rd element of a string we do so as follows:\n",
    "\n",
    "name = \"Rob Mastrodomenico\"\n",
    "name[2]"
   ]
  },
  {
   "cell_type": "code",
   "execution_count": null,
   "metadata": {},
   "outputs": [],
   "source": [
    "name[4:8]"
   ]
  },
  {
   "cell_type": "code",
   "execution_count": null,
   "metadata": {},
   "outputs": [],
   "source": [
    "# We can also work backwards and get the last three elements.\n",
    "\n",
    "name[-3:]"
   ]
  },
  {
   "cell_type": "code",
   "execution_count": null,
   "metadata": {},
   "outputs": [],
   "source": [
    "# Or we can get everything but the last three elements.\n",
    "\n",
    "name[:-3]"
   ]
  },
  {
   "cell_type": "code",
   "execution_count": null,
   "metadata": {},
   "outputs": [],
   "source": [
    "# We can apply much of the logic shown earlier to strings. \n",
    "# So if we want to know if a string contains a character or combination \n",
    "# of characters we can do so by seeing if the characters are in the string.\n",
    "\n",
    "\"ico\" in name"
   ]
  },
  {
   "cell_type": "code",
   "execution_count": null,
   "metadata": {},
   "outputs": [],
   "source": [
    "\"z\" in name"
   ]
  },
  {
   "cell_type": "code",
   "execution_count": null,
   "metadata": {},
   "outputs": [],
   "source": [
    "# String formatting: if we want to put a variable into our string we need only define the position \n",
    "# in the string using curly brackets and then using the format method with the arguments passed in \n",
    "# they get assigned to the appropriate positions.\n",
    "\n",
    "first_name = \"Rob\"\n",
    "last_name = \"Mastrodomenico\"\n",
    "name = \"First Name: {}, Last Name: {}\".format(first_name, last_name)\n",
    "name\n",
    "\n",
    "# In this example, it doesn’t seem to have any benefit as we could have easily define the whole string as we did before. \n",
    "# However, consider the case where the names are changing.\n",
    "# We could be looping over a list of names or a file or names and at each iteration of the loop we want to show what the name is."
   ]
  },
  {
   "cell_type": "code",
   "execution_count": null,
   "metadata": {},
   "outputs": [],
   "source": [
    "# We can also give the positions in the curly brackets to where we want the variables assigned, so we could write the following:\n",
    "\n",
    "name = \"First Name: {1}, Last Name: {0}\".format(first_name, last_name)\n",
    "name\n",
    "\n",
    "# That is wrong but you get the point."
   ]
  },
  {
   "cell_type": "code",
   "execution_count": null,
   "metadata": {},
   "outputs": [],
   "source": [
    "name = \"First Name: {0}, Last Name: {1}\".format(first_name, last_name)\n",
    "name"
   ]
  },
  {
   "cell_type": "code",
   "execution_count": null,
   "metadata": {},
   "outputs": [],
   "source": [
    "# We can also define each value as a variable and pass that variable name in the curly brackets.\n",
    "\n",
    "name = \"First Name: {f}, Last Name: {l}\".format(f=first_name, l=last_name)\n",
    "name"
   ]
  },
  {
   "cell_type": "code",
   "execution_count": null,
   "metadata": {},
   "outputs": [],
   "source": [
    "# The first string method we will consider is how to convert a string to all uppercase letters and then all lowercase letters.\n",
    "\n",
    "name = \"Rob Mastrodomenico\"\n",
    "name"
   ]
  },
  {
   "cell_type": "code",
   "execution_count": null,
   "metadata": {},
   "outputs": [],
   "source": [
    "name.upper()"
   ]
  },
  {
   "cell_type": "code",
   "execution_count": null,
   "metadata": {},
   "outputs": [],
   "source": [
    "name.lower()"
   ]
  },
  {
   "cell_type": "code",
   "execution_count": null,
   "metadata": {},
   "outputs": [],
   "source": [
    "name"
   ]
  },
  {
   "cell_type": "code",
   "execution_count": null,
   "metadata": {},
   "outputs": [],
   "source": [
    "# We see using the lower and upper methods we create versions of the initial string in uppercase and lowercase.\n",
    "# However we don’t change the string itself. \n",
    "# Why is this useful? \n",
    "# You may want to check if certain characters in a string and may want to do it \n",
    "# in a specific case so by changing the string to the correct case you can.\n",
    "# Next, we consider the split method which unsurprisingly can be used to split up strings.\n",
    "\n",
    "name"
   ]
  },
  {
   "cell_type": "code",
   "execution_count": null,
   "metadata": {},
   "outputs": [],
   "source": [
    "dir(name)"
   ]
  },
  {
   "cell_type": "code",
   "execution_count": null,
   "metadata": {},
   "outputs": [],
   "source": [
    "name.split(\" \")"
   ]
  },
  {
   "cell_type": "code",
   "execution_count": null,
   "metadata": {},
   "outputs": [],
   "source": [
    "name = \"Rob,Mastrodomenico\"\n",
    "name"
   ]
  },
  {
   "cell_type": "code",
   "execution_count": null,
   "metadata": {},
   "outputs": [],
   "source": [
    "name.split(\",\")"
   ]
  },
  {
   "cell_type": "code",
   "execution_count": null,
   "metadata": {},
   "outputs": [],
   "source": [
    "first_name, last_name = name.split(\",\")"
   ]
  },
  {
   "cell_type": "code",
   "execution_count": null,
   "metadata": {},
   "outputs": [],
   "source": [
    "first_name"
   ]
  },
  {
   "cell_type": "code",
   "execution_count": null,
   "metadata": {},
   "outputs": [],
   "source": [
    "last_name"
   ]
  },
  {
   "cell_type": "code",
   "execution_count": null,
   "metadata": {},
   "outputs": [],
   "source": [
    "# Again while this example may seem trivial but it can be very useful as you can split on\n",
    "# any character within a string so, for example, a comma separated string which you may find\n",
    "# in a csv file can be split into the variables it contains:\n",
    "\n",
    "match_details = \"Man United,Arsenal,2,0\"\n",
    "match_details"
   ]
  },
  {
   "cell_type": "code",
   "execution_count": null,
   "metadata": {},
   "outputs": [],
   "source": [
    "match_details.split(\",\")"
   ]
  },
  {
   "cell_type": "code",
   "execution_count": null,
   "metadata": {},
   "outputs": [],
   "source": [
    "home_team, away_team = match_details.split(\",\")[0:2]"
   ]
  },
  {
   "cell_type": "code",
   "execution_count": null,
   "metadata": {},
   "outputs": [],
   "source": [
    "home_team"
   ]
  },
  {
   "cell_type": "code",
   "execution_count": null,
   "metadata": {},
   "outputs": [],
   "source": [
    "away_team"
   ]
  },
  {
   "cell_type": "code",
   "execution_count": null,
   "metadata": {},
   "outputs": [],
   "source": [
    "home_goals = match_details.split(\",\")[2]\n",
    "home_goals"
   ]
  },
  {
   "cell_type": "code",
   "execution_count": null,
   "metadata": {},
   "outputs": [],
   "source": [
    "away_goals = match_details.split(\",\")[3]\n",
    "away_goals"
   ]
  },
  {
   "cell_type": "code",
   "execution_count": null,
   "metadata": {},
   "outputs": [],
   "source": [
    "home_goals, away_goals = match_details.split(\",\")[2:4]"
   ]
  },
  {
   "cell_type": "code",
   "execution_count": null,
   "metadata": {},
   "outputs": [],
   "source": [
    "home_goals"
   ]
  },
  {
   "cell_type": "code",
   "execution_count": null,
   "metadata": {},
   "outputs": [],
   "source": [
    "away_goals"
   ]
  },
  {
   "cell_type": "code",
   "execution_count": null,
   "metadata": {},
   "outputs": [],
   "source": [
    "# So from that one line we can get out all the information it contains.\n",
    "# Another useful method to apply to a string is replace.\n",
    "\n",
    "match_details"
   ]
  },
  {
   "cell_type": "code",
   "execution_count": null,
   "metadata": {},
   "outputs": [],
   "source": [
    "match_details.replace(\",\",\":\")"
   ]
  },
  {
   "cell_type": "code",
   "execution_count": null,
   "metadata": {},
   "outputs": [],
   "source": [
    "match_details"
   ]
  },
  {
   "cell_type": "code",
   "execution_count": null,
   "metadata": {},
   "outputs": [],
   "source": [
    "# Here, we replace all the commas with colons, again it can come in very handy if say, \n",
    "# for example, you want to change the separator in the string like we just did.\n",
    "# There is another string method that looks on the face of it like a list method, namely join.\n",
    "\n",
    "details = ['Manchester United', 'Arsenal', '2', '0']\n",
    "details"
   ]
  },
  {
   "cell_type": "code",
   "execution_count": null,
   "metadata": {},
   "outputs": [],
   "source": [
    "# Here, we apply the join method on the string containing just the comma and it then\n",
    "# creates a string of the values in the list separated by the string that we applied the method on.\n",
    "# This is a very useful method when it comes to creating strings from lists separated by a common value.\n",
    "\n",
    "match_details = \",\".join(details)\n",
    "match_details"
   ]
  },
  {
   "cell_type": "code",
   "execution_count": null,
   "metadata": {},
   "outputs": [],
   "source": [
    "# The last thing we shall consider is a Python builtin function that can be applied to strings and that is len. \n",
    "# We earlier saw it applied to lists to get the length of them and it does the same with regards to strings. \n",
    "# However now it tells us how many characters the string contains:\n",
    "\n",
    "match_details = \"Manchester United,Arsenal,2,0\"\n",
    "match_details"
   ]
  },
  {
   "cell_type": "code",
   "execution_count": null,
   "metadata": {},
   "outputs": [],
   "source": [
    "len(match_details)"
   ]
  }
 ],
 "metadata": {
  "kernelspec": {
   "display_name": "Python 3",
   "language": "python",
   "name": "python3"
  },
  "language_info": {
   "codemirror_mode": {
    "name": "ipython",
    "version": 3
   },
   "file_extension": ".py",
   "mimetype": "text/x-python",
   "name": "python",
   "nbconvert_exporter": "python",
   "pygments_lexer": "ipython3",
   "version": "3.8.5"
  }
 },
 "nbformat": 4,
 "nbformat_minor": 4
}
