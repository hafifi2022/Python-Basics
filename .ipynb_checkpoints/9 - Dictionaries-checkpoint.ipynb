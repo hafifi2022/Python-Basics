{
 "cells": [
  {
   "cell_type": "code",
   "execution_count": 1,
   "metadata": {},
   "outputs": [
    {
     "data": {
      "text/plain": [
       "{'First Name': 'Rob',\n",
       " 'Surname': 'Mastrodomenico',\n",
       " 'Gender': 'Male',\n",
       " 'Favourite Food': 'Pizza'}"
      ]
     },
     "execution_count": 1,
     "metadata": {},
     "output_type": "execute_result"
    }
   ],
   "source": [
    "# Dictionaries are used to contain data in a very specific way as they hold 'key-value' pairs. \n",
    "# What do we mean by 'key-value' pairs? \n",
    "# For example, we could have a key as first name and a value as Rob.\n",
    "# Dictionary of personal details.\n",
    "\n",
    "dict_detail = {}\n",
    "dict_detail[\"First Name\"] = \"Rob\"\n",
    "dict_detail[\"Surname\"] = \"Mastrodomenico\"\n",
    "dict_detail[\"Gender\"] = \"Male\"\n",
    "dict_detail[\"Favourite Food\"] = \"Pizza\"\n",
    "dict_detail"
   ]
  },
  {
   "cell_type": "code",
   "execution_count": 2,
   "metadata": {},
   "outputs": [
    {
     "data": {
      "text/plain": [
       "dict"
      ]
     },
     "execution_count": 2,
     "metadata": {},
     "output_type": "execute_result"
    }
   ],
   "source": [
    "type(dict_detail)"
   ]
  },
  {
   "cell_type": "code",
   "execution_count": 3,
   "metadata": {},
   "outputs": [
    {
     "data": {
      "text/plain": [
       "['__class__',\n",
       " '__contains__',\n",
       " '__delattr__',\n",
       " '__delitem__',\n",
       " '__dir__',\n",
       " '__doc__',\n",
       " '__eq__',\n",
       " '__format__',\n",
       " '__ge__',\n",
       " '__getattribute__',\n",
       " '__getitem__',\n",
       " '__gt__',\n",
       " '__hash__',\n",
       " '__init__',\n",
       " '__init_subclass__',\n",
       " '__iter__',\n",
       " '__le__',\n",
       " '__len__',\n",
       " '__lt__',\n",
       " '__ne__',\n",
       " '__new__',\n",
       " '__reduce__',\n",
       " '__reduce_ex__',\n",
       " '__repr__',\n",
       " '__reversed__',\n",
       " '__setattr__',\n",
       " '__setitem__',\n",
       " '__sizeof__',\n",
       " '__str__',\n",
       " '__subclasshook__',\n",
       " 'clear',\n",
       " 'copy',\n",
       " 'fromkeys',\n",
       " 'get',\n",
       " 'items',\n",
       " 'keys',\n",
       " 'pop',\n",
       " 'popitem',\n",
       " 'setdefault',\n",
       " 'update',\n",
       " 'values']"
      ]
     },
     "execution_count": 3,
     "metadata": {},
     "output_type": "execute_result"
    }
   ],
   "source": [
    "dir(dict_detail)"
   ]
  },
  {
   "cell_type": "code",
   "execution_count": 4,
   "metadata": {},
   "outputs": [
    {
     "data": {
      "text/plain": [
       "{'First_Name': 'Rob',\n",
       " 'Surname': 'Mastrodomenico',\n",
       " 'Gender': 'Male',\n",
       " 'Favourite_Food': 'Pizza'}"
      ]
     },
     "execution_count": 4,
     "metadata": {},
     "output_type": "execute_result"
    }
   ],
   "source": [
    "# Other way of creating 'dict' but we can't have whitespace in key - First_Name vs First Name\n",
    "# The reason being is that Python interprets the space between the two words as two separate entries and throws an error.\n",
    "\n",
    "person_details = dict(First_Name=\"Rob\", Surname=\"Mastrodomenico\", Gender=\"Male\", Favourite_Food=\"Pizza\")\n",
    "person_details"
   ]
  },
  {
   "cell_type": "code",
   "execution_count": 5,
   "metadata": {},
   "outputs": [
    {
     "data": {
      "text/plain": [
       "{'First Name': 'John',\n",
       " 'Surname': 'Mastrodomenico',\n",
       " 'Gender': 'Male',\n",
       " 'Favourite Food': 'Pizza'}"
      ]
     },
     "execution_count": 5,
     "metadata": {},
     "output_type": "execute_result"
    }
   ],
   "source": [
    "# Other way\n",
    "\n",
    "person_details = {\"First Name\":\"John\", \n",
    "                  \"Surname\":\"Mastrodomenico\", \n",
    "                  \"Gender\":\"Male\", \n",
    "                  \"Favourite Food\":\"Pizza\"}\n",
    "person_details"
   ]
  },
  {
   "cell_type": "code",
   "execution_count": 6,
   "metadata": {},
   "outputs": [
    {
     "data": {
      "text/plain": [
       "{'First Name': 'Rob',\n",
       " 'Surname': 'Mastrodomenico',\n",
       " 'Gender': 'Male',\n",
       " 'Favourite Food': 'Pizza'}"
      ]
     },
     "execution_count": 6,
     "metadata": {},
     "output_type": "execute_result"
    }
   ],
   "source": [
    "# Other way of using dict method.\n",
    "\n",
    "person_details = dict([(\"First Name\", \"Rob\"), \n",
    "                       (\"Surname\", \"Mastrodomenico\"), \n",
    "                       (\"Gender\", \"Male\"), \n",
    "                       (\"Favourite Food\", \"Pizza\")])\n",
    "person_details"
   ]
  },
  {
   "cell_type": "code",
   "execution_count": 7,
   "metadata": {},
   "outputs": [
    {
     "data": {
      "text/plain": [
       "'Mastrodomenico'"
      ]
     },
     "execution_count": 7,
     "metadata": {},
     "output_type": "execute_result"
    }
   ],
   "source": [
    "person_details[\"Surname\"]"
   ]
  },
  {
   "cell_type": "code",
   "execution_count": 8,
   "metadata": {},
   "outputs": [
    {
     "ename": "KeyError",
     "evalue": "'Age'",
     "output_type": "error",
     "traceback": [
      "\u001b[1;31m---------------------------------------------------------------------------\u001b[0m",
      "\u001b[1;31mKeyError\u001b[0m                                  Traceback (most recent call last)",
      "\u001b[1;32m<ipython-input-8-17909d3fdcfa>\u001b[0m in \u001b[0;36m<module>\u001b[1;34m\u001b[0m\n\u001b[1;32m----> 1\u001b[1;33m \u001b[0mperson_details\u001b[0m\u001b[1;33m[\u001b[0m\u001b[1;34m\"Age\"\u001b[0m\u001b[1;33m]\u001b[0m\u001b[1;33m\u001b[0m\u001b[1;33m\u001b[0m\u001b[0m\n\u001b[0m",
      "\u001b[1;31mKeyError\u001b[0m: 'Age'"
     ]
    }
   ],
   "source": [
    "person_details[\"Age\"]"
   ]
  },
  {
   "cell_type": "code",
   "execution_count": 9,
   "metadata": {},
   "outputs": [
    {
     "name": "stdout",
     "output_type": "stream",
     "text": [
      "Not found\n"
     ]
    }
   ],
   "source": [
    "try:\n",
    "    age = person_details[\"Age\"]\n",
    "except:\n",
    "    age = None\n",
    "    print(\"Not found\")"
   ]
  },
  {
   "cell_type": "code",
   "execution_count": 10,
   "metadata": {},
   "outputs": [
    {
     "data": {
      "text/plain": [
       "'Male'"
      ]
     },
     "execution_count": 10,
     "metadata": {},
     "output_type": "execute_result"
    }
   ],
   "source": [
    "# Try excepts are useful, however it would be better if we had a method that let us try and\n",
    "# get a key and if it didn’t exist not throw an error. Fortunately enough we have a 'get' method\n",
    "# that we can use to get the value from a dictionary by passing a key.\n",
    "\n",
    "person_details.get(\"Gender\")"
   ]
  },
  {
   "cell_type": "code",
   "execution_count": 11,
   "metadata": {},
   "outputs": [],
   "source": [
    "person_details.get(\"Age\")"
   ]
  },
  {
   "cell_type": "code",
   "execution_count": 12,
   "metadata": {},
   "outputs": [
    {
     "data": {
      "text/plain": [
       "{'First Name': 'Rob',\n",
       " 'Surname': 'Mastrodomenico',\n",
       " 'Gender': 'Male',\n",
       " 'Favourite Food': 'Pizza'}"
      ]
     },
     "execution_count": 12,
     "metadata": {},
     "output_type": "execute_result"
    }
   ],
   "source": [
    "# 'pop' method\n",
    "\n",
    "person_details"
   ]
  },
  {
   "cell_type": "code",
   "execution_count": 13,
   "metadata": {},
   "outputs": [
    {
     "data": {
      "text/plain": [
       "{'First Name': 'Rob', 'Surname': 'Mastrodomenico', 'Favourite Food': 'Pizza'}"
      ]
     },
     "execution_count": 13,
     "metadata": {},
     "output_type": "execute_result"
    }
   ],
   "source": [
    "person_details.pop(\"Gender\")\n",
    "person_details"
   ]
  },
  {
   "cell_type": "code",
   "execution_count": 14,
   "metadata": {},
   "outputs": [
    {
     "data": {
      "text/plain": [
       "('Favourite Food', 'Pizza')"
      ]
     },
     "execution_count": 14,
     "metadata": {},
     "output_type": "execute_result"
    }
   ],
   "source": [
    "# 'popitem' method\n",
    "\n",
    "person_details.popitem()"
   ]
  },
  {
   "cell_type": "code",
   "execution_count": 15,
   "metadata": {},
   "outputs": [
    {
     "data": {
      "text/plain": [
       "{'First Name': 'Rob', 'Surname': 'Mastrodomenico'}"
      ]
     },
     "execution_count": 15,
     "metadata": {},
     "output_type": "execute_result"
    }
   ],
   "source": [
    "person_details"
   ]
  },
  {
   "cell_type": "code",
   "execution_count": 16,
   "metadata": {},
   "outputs": [],
   "source": [
    "# In the first example we used 'pop' with the key that we wanted to remove and in doing \n",
    "# so this removed the specific key and value from the dictionary. \n",
    "# The second approach used the popitem' method which just pops off the last key value pair in the dictionary."
   ]
  },
  {
   "cell_type": "code",
   "execution_count": 17,
   "metadata": {},
   "outputs": [
    {
     "data": {
      "text/plain": [
       "{'First Name': 'Rob',\n",
       " 'Surname': 'Mastrodomenico',\n",
       " 'Gender': 'Male',\n",
       " 'Favourite Food': 'Pizza'}"
      ]
     },
     "execution_count": 17,
     "metadata": {},
     "output_type": "execute_result"
    }
   ],
   "source": [
    "# Another way to remove items is to use the 'del' method where we pass the dictionary name\n",
    "# and key combination to remove that key value pair from the dictionary.\n",
    "\n",
    "person_details = dict([(\"First Name\", \"Rob\"),\n",
    "                      (\"Surname\", \"Mastrodomenico\"),\n",
    "                      (\"Gender\", \"Male\"),\n",
    "                      (\"Favourite Food\", \"Pizza\")])\n",
    "person_details"
   ]
  },
  {
   "cell_type": "code",
   "execution_count": 18,
   "metadata": {},
   "outputs": [],
   "source": [
    "del person_details[\"Gender\"]"
   ]
  },
  {
   "cell_type": "code",
   "execution_count": 19,
   "metadata": {},
   "outputs": [
    {
     "data": {
      "text/plain": [
       "{'First Name': 'Rob', 'Surname': 'Mastrodomenico', 'Favourite Food': 'Pizza'}"
      ]
     },
     "execution_count": 19,
     "metadata": {},
     "output_type": "execute_result"
    }
   ],
   "source": [
    "person_details"
   ]
  },
  {
   "cell_type": "code",
   "execution_count": 20,
   "metadata": {},
   "outputs": [
    {
     "ename": "KeyError",
     "evalue": "'Age'",
     "output_type": "error",
     "traceback": [
      "\u001b[1;31m---------------------------------------------------------------------------\u001b[0m",
      "\u001b[1;31mKeyError\u001b[0m                                  Traceback (most recent call last)",
      "\u001b[1;32m<ipython-input-20-90eb8e463397>\u001b[0m in \u001b[0;36m<module>\u001b[1;34m\u001b[0m\n\u001b[1;32m----> 1\u001b[1;33m \u001b[1;32mdel\u001b[0m \u001b[0mperson_details\u001b[0m\u001b[1;33m[\u001b[0m\u001b[1;34m\"Age\"\u001b[0m\u001b[1;33m]\u001b[0m\u001b[1;33m\u001b[0m\u001b[1;33m\u001b[0m\u001b[0m\n\u001b[0m",
      "\u001b[1;31mKeyError\u001b[0m: 'Age'"
     ]
    }
   ],
   "source": [
    "del person_details[\"Age\"]"
   ]
  },
  {
   "cell_type": "code",
   "execution_count": 21,
   "metadata": {},
   "outputs": [
    {
     "data": {
      "text/plain": [
       "{'First Name': 'Rob',\n",
       " 'Surname': 'Mastrodomenico',\n",
       " 'Gender': 'Male',\n",
       " 'Favourite Food': 'Pizza'}"
      ]
     },
     "execution_count": 21,
     "metadata": {},
     "output_type": "execute_result"
    }
   ],
   "source": [
    "# Earlier we mentioned how if we assign one list to another the changes are reflected. \n",
    "# The same is true for dictionaries.\n",
    "\n",
    "person_details = dict([(\"First Name\", \"Rob\"),\n",
    "                      (\"Surname\", \"Mastrodomenico\"),\n",
    "                      (\"Gender\", \"Male\"),\n",
    "                      (\"Favourite Food\", \"Pizza\")])\n",
    "person_details"
   ]
  },
  {
   "cell_type": "code",
   "execution_count": 22,
   "metadata": {},
   "outputs": [
    {
     "data": {
      "text/plain": [
       "{'First Name': 'Rob',\n",
       " 'Surname': 'Mastrodomenico',\n",
       " 'Gender': 'Male',\n",
       " 'Favourite Food': 'Pizza'}"
      ]
     },
     "execution_count": 22,
     "metadata": {},
     "output_type": "execute_result"
    }
   ],
   "source": [
    "his_details = person_details\n",
    "his_details"
   ]
  },
  {
   "cell_type": "code",
   "execution_count": 23,
   "metadata": {},
   "outputs": [
    {
     "data": {
      "text/plain": [
       "{'First Name': 'Rob',\n",
       " 'Surname': 'Mastrodomenico',\n",
       " 'Gender': 'Male',\n",
       " 'Favourite Food': 'Pizza',\n",
       " 'Age': 21}"
      ]
     },
     "execution_count": 23,
     "metadata": {},
     "output_type": "execute_result"
    }
   ],
   "source": [
    "person_details[\"Age\"] = 21\n",
    "person_details"
   ]
  },
  {
   "cell_type": "code",
   "execution_count": 24,
   "metadata": {},
   "outputs": [
    {
     "data": {
      "text/plain": [
       "{'First Name': 'Rob',\n",
       " 'Surname': 'Mastrodomenico',\n",
       " 'Gender': 'Male',\n",
       " 'Favourite Food': 'Pizza',\n",
       " 'Age': 21}"
      ]
     },
     "execution_count": 24,
     "metadata": {},
     "output_type": "execute_result"
    }
   ],
   "source": [
    "his_details"
   ]
  },
  {
   "cell_type": "code",
   "execution_count": 25,
   "metadata": {},
   "outputs": [
    {
     "data": {
      "text/plain": [
       "{'First Name': 'Rob',\n",
       " 'Surname': 'Mastrodomenico',\n",
       " 'Gender': 'Male',\n",
       " 'Favourite Food': 'Pizza'}"
      ]
     },
     "execution_count": 25,
     "metadata": {},
     "output_type": "execute_result"
    }
   ],
   "source": [
    "# If we want to take a copy of a dictionary and independently make changes to it we can\n",
    "# use the copy method in a similar way that we did with lists.\n",
    "\n",
    "person_details = dict([(\"First Name\", \"Rob\"),\n",
    "                       (\"Surname\", \"Mastrodomenico\"),\n",
    "                       (\"Gender\", \"Male\"),\n",
    "                       (\"Favourite Food\", \"Pizza\")])\n",
    "person_details"
   ]
  },
  {
   "cell_type": "code",
   "execution_count": 26,
   "metadata": {},
   "outputs": [
    {
     "data": {
      "text/plain": [
       "{'First Name': 'Rob',\n",
       " 'Surname': 'Mastrodomenico',\n",
       " 'Gender': 'Male',\n",
       " 'Favourite Food': 'Pizza'}"
      ]
     },
     "execution_count": 26,
     "metadata": {},
     "output_type": "execute_result"
    }
   ],
   "source": [
    "his_details = person_details.copy()\n",
    "his_details"
   ]
  },
  {
   "cell_type": "code",
   "execution_count": 27,
   "metadata": {},
   "outputs": [
    {
     "data": {
      "text/plain": [
       "{'First Name': 'Rob',\n",
       " 'Surname': 'Mastrodomenico',\n",
       " 'Gender': 'Male',\n",
       " 'Favourite Food': 'Pizza',\n",
       " 'Age': 21}"
      ]
     },
     "execution_count": 27,
     "metadata": {},
     "output_type": "execute_result"
    }
   ],
   "source": [
    "person_details[\"Age\"] = 21\n",
    "person_details"
   ]
  },
  {
   "cell_type": "code",
   "execution_count": 28,
   "metadata": {},
   "outputs": [
    {
     "data": {
      "text/plain": [
       "{'First Name': 'Rob',\n",
       " 'Surname': 'Mastrodomenico',\n",
       " 'Gender': 'Male',\n",
       " 'Favourite Food': 'Pizza'}"
      ]
     },
     "execution_count": 28,
     "metadata": {},
     "output_type": "execute_result"
    }
   ],
   "source": [
    "his_details"
   ]
  },
  {
   "cell_type": "code",
   "execution_count": 29,
   "metadata": {},
   "outputs": [
    {
     "data": {
      "text/plain": [
       "{}"
      ]
     },
     "execution_count": 29,
     "metadata": {},
     "output_type": "execute_result"
    }
   ],
   "source": [
    "# We also have the ability to clear out all contents of dictionary using the 'clear' method.\n",
    "\n",
    "his_details.clear()\n",
    "his_details"
   ]
  },
  {
   "cell_type": "code",
   "execution_count": 30,
   "metadata": {},
   "outputs": [
    {
     "data": {
      "text/plain": [
       "{'key1': 0, 'key2': 0, 'key3': 0}"
      ]
     },
     "execution_count": 30,
     "metadata": {},
     "output_type": "execute_result"
    }
   ],
   "source": [
    "# If we want to create a set of keys with the same value we can do using the fromkeys method.\n",
    "\n",
    "x = ('key1','key2','key3')\n",
    "y = 0\n",
    "\n",
    "res = dict.fromkeys(x,y)\n",
    "res"
   ]
  },
  {
   "cell_type": "code",
   "execution_count": 31,
   "metadata": {},
   "outputs": [
    {
     "data": {
      "text/plain": [
       "{'First Name': 'Rob',\n",
       " 'Surname': 'Mastrodomenico',\n",
       " 'Gender': 'Male',\n",
       " 'Favourite Food': 'Pizza',\n",
       " 'Age': 21}"
      ]
     },
     "execution_count": 31,
     "metadata": {},
     "output_type": "execute_result"
    }
   ],
   "source": [
    "# We have thus far accessed values from dictionaries using the keys. \n",
    "# However we can access all keys and values from a dictionary using the following methods:\n",
    "\n",
    "person_details"
   ]
  },
  {
   "cell_type": "code",
   "execution_count": 32,
   "metadata": {},
   "outputs": [
    {
     "data": {
      "text/plain": [
       "dict_items([('First Name', 'Rob'), ('Surname', 'Mastrodomenico'), ('Gender', 'Male'), ('Favourite Food', 'Pizza'), ('Age', 21)])"
      ]
     },
     "execution_count": 32,
     "metadata": {},
     "output_type": "execute_result"
    }
   ],
   "source": [
    "person_details.items()"
   ]
  },
  {
   "cell_type": "code",
   "execution_count": 33,
   "metadata": {},
   "outputs": [
    {
     "data": {
      "text/plain": [
       "dict_keys(['First Name', 'Surname', 'Gender', 'Favourite Food', 'Age'])"
      ]
     },
     "execution_count": 33,
     "metadata": {},
     "output_type": "execute_result"
    }
   ],
   "source": [
    "person_details.keys()"
   ]
  },
  {
   "cell_type": "code",
   "execution_count": 34,
   "metadata": {},
   "outputs": [
    {
     "data": {
      "text/plain": [
       "dict_values(['Rob', 'Mastrodomenico', 'Male', 'Pizza', 21])"
      ]
     },
     "execution_count": 34,
     "metadata": {},
     "output_type": "execute_result"
    }
   ],
   "source": [
    "person_details.values()"
   ]
  },
  {
   "cell_type": "code",
   "execution_count": 35,
   "metadata": {},
   "outputs": [
    {
     "data": {
      "text/plain": [
       "('First Name', 'Rob')"
      ]
     },
     "execution_count": 35,
     "metadata": {},
     "output_type": "execute_result"
    }
   ],
   "source": [
    "# If you want to access them like we would a list we can cast them as such and access the relevant index positions.\n",
    "\n",
    "list(person_details.items())[0]"
   ]
  },
  {
   "cell_type": "code",
   "execution_count": 36,
   "metadata": {},
   "outputs": [
    {
     "data": {
      "text/plain": [
       "'Age'"
      ]
     },
     "execution_count": 36,
     "metadata": {},
     "output_type": "execute_result"
    }
   ],
   "source": [
    "list(person_details.keys())[-1]"
   ]
  },
  {
   "cell_type": "code",
   "execution_count": 37,
   "metadata": {},
   "outputs": [
    {
     "data": {
      "text/plain": [
       "21"
      ]
     },
     "execution_count": 37,
     "metadata": {},
     "output_type": "execute_result"
    }
   ],
   "source": [
    "list(person_details.values())[-1]"
   ]
  },
  {
   "cell_type": "markdown",
   "metadata": {},
   "source": [
    "#### That gives summary of dictionary methods and what you can do with them,\n",
    "#### compared to lists and tuples, these types of objects can be very powerful and flexible container."
   ]
  }
 ],
 "metadata": {
  "kernelspec": {
   "display_name": "Python 3",
   "language": "python",
   "name": "python3"
  },
  "language_info": {
   "codemirror_mode": {
    "name": "ipython",
    "version": 3
   },
   "file_extension": ".py",
   "mimetype": "text/x-python",
   "name": "python",
   "nbconvert_exporter": "python",
   "pygments_lexer": "ipython3",
   "version": "3.8.5"
  }
 },
 "nbformat": 4,
 "nbformat_minor": 4
}
