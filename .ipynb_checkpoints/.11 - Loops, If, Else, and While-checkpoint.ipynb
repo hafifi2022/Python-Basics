{
 "cells": [
  {
   "cell_type": "code",
   "execution_count": 1,
   "metadata": {},
   "outputs": [
    {
     "data": {
      "text/plain": [
       "True"
      ]
     },
     "execution_count": 1,
     "metadata": {},
     "output_type": "execute_result"
    }
   ],
   "source": [
    "# If statement.\n",
    "# The key to an if statement is that we need a statement that returns a true or false value.\n",
    "\n",
    "x = 1  # assignment\n",
    "x == 1 # comparison"
   ]
  },
  {
   "cell_type": "code",
   "execution_count": 2,
   "metadata": {},
   "outputs": [
    {
     "name": "stdout",
     "output_type": "stream",
     "text": [
      "2\n"
     ]
    }
   ],
   "source": [
    "# First line is an assignment and the second is comparison.\n",
    "# With the second line that we can introduce an if statement.\n",
    "\n",
    "if x == 1:\n",
    "    x = x + 1\n",
    "\n",
    "print(x)"
   ]
  },
  {
   "cell_type": "code",
   "execution_count": 3,
   "metadata": {},
   "outputs": [
    {
     "data": {
      "text/plain": [
       "2"
      ]
     },
     "execution_count": 3,
     "metadata": {},
     "output_type": "execute_result"
    }
   ],
   "source": [
    "# What we have done here is test the return value of the statement and if it is true, then we increment the variable x by 1. \n",
    "# We can extend the example by introducing the concept of an else statement. \n",
    "# Essentially given the if statement test, if a statement is true the else deals with if the statement is false.\n",
    "\n",
    "x"
   ]
  },
  {
   "cell_type": "code",
   "execution_count": 4,
   "metadata": {},
   "outputs": [
    {
     "data": {
      "text/plain": [
       "False"
      ]
     },
     "execution_count": 4,
     "metadata": {},
     "output_type": "execute_result"
    }
   ],
   "source": [
    "x == 1"
   ]
  },
  {
   "cell_type": "code",
   "execution_count": 5,
   "metadata": {},
   "outputs": [
    {
     "data": {
      "text/plain": [
       "1"
      ]
     },
     "execution_count": 5,
     "metadata": {},
     "output_type": "execute_result"
    }
   ],
   "source": [
    "if x == 1:\n",
    "    x = x + 1\n",
    "else:\n",
    "    x = x - 1\n",
    "    \n",
    "x"
   ]
  },
  {
   "cell_type": "code",
   "execution_count": 6,
   "metadata": {},
   "outputs": [
    {
     "data": {
      "text/plain": [
       "2"
      ]
     },
     "execution_count": 6,
     "metadata": {},
     "output_type": "execute_result"
    }
   ],
   "source": [
    "# However, the if else loop only allows us to make a decision based on a single true or false condition. \n",
    "# If we require more control, then we can use the elif statement alongside an if else statement. \n",
    "# Let’s improve on our example from before and introduce the concept of elif.\n",
    "\n",
    "if x == 1:\n",
    "    x = x + 1\n",
    "elif x == 2:\n",
    "    x = x * x\n",
    "else:\n",
    "    x = x - 1\n",
    "\n",
    "x"
   ]
  },
  {
   "cell_type": "code",
   "execution_count": 7,
   "metadata": {},
   "outputs": [
    {
     "data": {
      "text/plain": [
       "4"
      ]
     },
     "execution_count": 7,
     "metadata": {},
     "output_type": "execute_result"
    }
   ],
   "source": [
    "if x == 1:\n",
    "    x = x + 1\n",
    "elif x == 2:\n",
    "    x = x * x\n",
    "else:\n",
    "    x = x - 1\n",
    "\n",
    "x"
   ]
  },
  {
   "cell_type": "code",
   "execution_count": 8,
   "metadata": {},
   "outputs": [
    {
     "data": {
      "text/plain": [
       "3"
      ]
     },
     "execution_count": 8,
     "metadata": {},
     "output_type": "execute_result"
    }
   ],
   "source": [
    "if x == 1:\n",
    "    x = x + 1\n",
    "elif x == 2:\n",
    "    x = x * x\n",
    "else:\n",
    "    x = x - 1\n",
    "\n",
    "x\n",
    "\n",
    "# It is important to note that if one of the conditions on the if or elif is met we then exit the statement \n",
    "# and continue through our code. \n",
    "# So as soon as a condition is seen we exit the statement."
   ]
  },
  {
   "cell_type": "code",
   "execution_count": 9,
   "metadata": {},
   "outputs": [],
   "source": [
    "# We next show an example where using an if elif statement doesn’t quite work:\n",
    "\n",
    "home_score = 4\n",
    "away_score = 0\n",
    "\n",
    "if home_score > away_score:\n",
    "    result = \"Home win\"\n",
    "elif home_score < away_score:\n",
    "    result = \"Away win\"\n",
    "elif home_score == away_score:\n",
    "    result = \"Draw\"\n",
    "elif home_score > (away_score + 1):\n",
    "    result = \"Home win by more than 1 goal\"\n",
    "elif (home_score + 1) < away_score:\n",
    "    result = \"Away win by more than 1 goal\"\n",
    "else:\n",
    "    result = \"Unknown result\""
   ]
  },
  {
   "cell_type": "code",
   "execution_count": 10,
   "metadata": {},
   "outputs": [
    {
     "data": {
      "text/plain": [
       "'Home win'"
      ]
     },
     "execution_count": 10,
     "metadata": {},
     "output_type": "execute_result"
    }
   ],
   "source": [
    "result"
   ]
  },
  {
   "cell_type": "code",
   "execution_count": 11,
   "metadata": {},
   "outputs": [
    {
     "data": {
      "text/plain": [
       "'Home win by more than 1 goal'"
      ]
     },
     "execution_count": 11,
     "metadata": {},
     "output_type": "execute_result"
    }
   ],
   "source": [
    "# The problem is we want to test if the win for either side is a win or a win by more than 1 goal. \n",
    "# What happens here is the condition for a home win is met before we test for the win\n",
    "# by more than one (which would also return a true result). \n",
    "# So using an if statement as we do here doesn’t work, instead we need to use a nested if statement.\n",
    "\n",
    "home_score = 4\n",
    "away_score = 0\n",
    "\n",
    "if home_score > away_score:\n",
    "    if home_score > (away_score + 1):\n",
    "        result = \"Home win by more than 1 goal\"\n",
    "    else:\n",
    "        result = \"Home win\"\n",
    "elif home_score < away_score:\n",
    "    if (home_score + 1) < away_score:\n",
    "        result = \"Away win by more than 1 goal\"\n",
    "    else:\n",
    "        result = \"Away win\"\n",
    "elif home_score == away_score:\n",
    "    result = \"Draw\"\n",
    "else:\n",
    "    result = \"Unknown result\"\n",
    "    \n",
    "result"
   ]
  },
  {
   "cell_type": "code",
   "execution_count": 12,
   "metadata": {},
   "outputs": [
    {
     "data": {
      "text/plain": [
       "'Home win'"
      ]
     },
     "execution_count": 12,
     "metadata": {},
     "output_type": "execute_result"
    }
   ],
   "source": [
    "home_score = 1\n",
    "away_score = 0\n",
    "\n",
    "if home_score > away_score:\n",
    "    if home_score > (away_score + 1):\n",
    "        result = \"Home win by more than 1 goal\"\n",
    "    else:\n",
    "        result = \"Home win\"\n",
    "elif home_score < away_score:\n",
    "    if (home_score + 1) < away_score:\n",
    "        result = \"Away win by more than 1 goal\"\n",
    "    else:\n",
    "        result = \"Away win\"\n",
    "elif home_score == away_score:\n",
    "    result = \"Draw\"\n",
    "else:\n",
    "    result = \"Unknown result\"\n",
    "    \n",
    "result"
   ]
  },
  {
   "cell_type": "code",
   "execution_count": 13,
   "metadata": {},
   "outputs": [],
   "source": [
    "# The point that this raises is that if statements can be very powerful \n",
    "# but at the same time mistakes can be made if they are not thoroughly thought out. \n",
    "# We next look to consider loops."
   ]
  },
  {
   "cell_type": "code",
   "execution_count": 14,
   "metadata": {},
   "outputs": [
    {
     "data": {
      "text/plain": [
       "[['Tony', 'Stark', 48],\n",
       " ['Steve', 'Rodgers', 102],\n",
       " ['Stephen', 'Strange', 42],\n",
       " ['Natasha', 'Romanof', 36],\n",
       " ['Peter', 'Parker', 16]]"
      ]
     },
     "execution_count": 14,
     "metadata": {},
     "output_type": "execute_result"
    }
   ],
   "source": [
    "# In earlier sections we have covered list (Chapter 7), tuples (Chapter 8), and dictionaries (Chapter 9) \n",
    "# which are all important containers for values in Python. \n",
    "# We showed how we can access and manipulate them. \n",
    "# However, we concentrated on single instances of these objects whereas in reality this isn’t the case.\n",
    "# What you might expect is to have a collection of data which each may be contained in a \n",
    "# list, tuple, or dictionary and you want to access it and perform some kind of operation on it. Example:\n",
    "\n",
    "people = []\n",
    "\n",
    "person = [\"Tony\", \"Stark\",48]\n",
    "people.append(person)\n",
    "\n",
    "person = [\"Steve\",\"Rodgers\",102]\n",
    "people.append(person)\n",
    "\n",
    "person = [\"Stephen\", \"Strange\",42]\n",
    "people.append(person)\n",
    "\n",
    "person = [\"Natasha\",\"Romanof\",36]\n",
    "people.append(person)\n",
    "\n",
    "person = [\"Peter\",\"Parker\",16]\n",
    "people.append(person)\n",
    "\n",
    "people"
   ]
  },
  {
   "cell_type": "code",
   "execution_count": 15,
   "metadata": {},
   "outputs": [
    {
     "data": {
      "text/plain": [
       "list"
      ]
     },
     "execution_count": 15,
     "metadata": {},
     "output_type": "execute_result"
    }
   ],
   "source": [
    "type(people)"
   ]
  },
  {
   "cell_type": "code",
   "execution_count": 16,
   "metadata": {},
   "outputs": [
    {
     "data": {
      "text/plain": [
       "['__add__',\n",
       " '__class__',\n",
       " '__contains__',\n",
       " '__delattr__',\n",
       " '__delitem__',\n",
       " '__dir__',\n",
       " '__doc__',\n",
       " '__eq__',\n",
       " '__format__',\n",
       " '__ge__',\n",
       " '__getattribute__',\n",
       " '__getitem__',\n",
       " '__gt__',\n",
       " '__hash__',\n",
       " '__iadd__',\n",
       " '__imul__',\n",
       " '__init__',\n",
       " '__init_subclass__',\n",
       " '__iter__',\n",
       " '__le__',\n",
       " '__len__',\n",
       " '__lt__',\n",
       " '__mul__',\n",
       " '__ne__',\n",
       " '__new__',\n",
       " '__reduce__',\n",
       " '__reduce_ex__',\n",
       " '__repr__',\n",
       " '__reversed__',\n",
       " '__rmul__',\n",
       " '__setattr__',\n",
       " '__setitem__',\n",
       " '__sizeof__',\n",
       " '__str__',\n",
       " '__subclasshook__',\n",
       " 'append',\n",
       " 'clear',\n",
       " 'copy',\n",
       " 'count',\n",
       " 'extend',\n",
       " 'index',\n",
       " 'insert',\n",
       " 'pop',\n",
       " 'remove',\n",
       " 'reverse',\n",
       " 'sort']"
      ]
     },
     "execution_count": 16,
     "metadata": {},
     "output_type": "execute_result"
    }
   ],
   "source": [
    "dir(people)"
   ]
  },
  {
   "cell_type": "code",
   "execution_count": 17,
   "metadata": {},
   "outputs": [
    {
     "data": {
      "text/plain": [
       "48"
      ]
     },
     "execution_count": 17,
     "metadata": {},
     "output_type": "execute_result"
    }
   ],
   "source": [
    "# What we have done here is setup a list of lists. \n",
    "# Now if we want to access element 3 of the first list we can do so as follows:\n",
    "\n",
    "people[0][2]"
   ]
  },
  {
   "cell_type": "code",
   "execution_count": 18,
   "metadata": {},
   "outputs": [
    {
     "data": {
      "text/plain": [
       "48"
      ]
     },
     "execution_count": 18,
     "metadata": {},
     "output_type": "execute_result"
    }
   ],
   "source": [
    "# So we access the first element of the outer list which returns us a list and \n",
    "# then we access the value 3 of that list through the index 2. \n",
    "# Now if we wanted to see everyones age we could write the following:\n",
    "\n",
    "people[0][2]"
   ]
  },
  {
   "cell_type": "code",
   "execution_count": 19,
   "metadata": {},
   "outputs": [
    {
     "data": {
      "text/plain": [
       "102"
      ]
     },
     "execution_count": 19,
     "metadata": {},
     "output_type": "execute_result"
    }
   ],
   "source": [
    "people[1][2]"
   ]
  },
  {
   "cell_type": "code",
   "execution_count": 20,
   "metadata": {},
   "outputs": [
    {
     "data": {
      "text/plain": [
       "42"
      ]
     },
     "execution_count": 20,
     "metadata": {},
     "output_type": "execute_result"
    }
   ],
   "source": [
    "people[2][2]"
   ]
  },
  {
   "cell_type": "code",
   "execution_count": 21,
   "metadata": {},
   "outputs": [
    {
     "data": {
      "text/plain": [
       "36"
      ]
     },
     "execution_count": 21,
     "metadata": {},
     "output_type": "execute_result"
    }
   ],
   "source": [
    "people[3][2]"
   ]
  },
  {
   "cell_type": "code",
   "execution_count": 22,
   "metadata": {},
   "outputs": [
    {
     "data": {
      "text/plain": [
       "16"
      ]
     },
     "execution_count": 22,
     "metadata": {},
     "output_type": "execute_result"
    }
   ],
   "source": [
    "people[4][2]"
   ]
  },
  {
   "cell_type": "code",
   "execution_count": 23,
   "metadata": {},
   "outputs": [
    {
     "data": {
      "text/plain": [
       "48.8"
      ]
     },
     "execution_count": 23,
     "metadata": {},
     "output_type": "execute_result"
    }
   ],
   "source": [
    "# This is fairly tedious for five people, imagine if we had hundreds or thousands of people.\n",
    "# To avoid writing the same code again and again we can use a loop to access the ages of everyone in the list. \n",
    "# Now to make it more interesting let’s work out the average age of the people in the list.\n",
    "\n",
    "total_age = 0.0\n",
    "\n",
    "for p in people:\n",
    "    age = p[2]\n",
    "    total_age += age\n",
    "\n",
    "average_age = total_age / len(people)\n",
    "average_age"
   ]
  },
  {
   "cell_type": "code",
   "execution_count": 24,
   "metadata": {},
   "outputs": [
    {
     "data": {
      "text/plain": [
       "[2304, 10404, 1764, 1296, 256]"
      ]
     },
     "execution_count": 24,
     "metadata": {},
     "output_type": "execute_result"
    }
   ],
   "source": [
    "# The syntax says for p in person, and what this means is that we iterate over all the elements \n",
    "# in people and assign whatever it is to the variable p. The name p is totally arbitrary.\n",
    "# The key thing to remember is that you are iterating through the list, essentially going over every element of the list.\n",
    "\n",
    "# One neat thing we can do with lists and loops is something known as list of comprehension.\n",
    "# Now if the problem we had is that we wanted to create a list with the squared ages of our people \n",
    "# then we could write a loop as follows:\n",
    "\n",
    "squared_ages = []\n",
    "for p in people:\n",
    "    squared_ages.append(p[2]*p[2])\n",
    "\n",
    "squared_ages"
   ]
  },
  {
   "cell_type": "code",
   "execution_count": 25,
   "metadata": {},
   "outputs": [
    {
     "data": {
      "text/plain": [
       "[2304, 10404, 1764, 1296, 256]"
      ]
     },
     "execution_count": 25,
     "metadata": {},
     "output_type": "execute_result"
    }
   ],
   "source": [
    "# That all looks fine, but we could write it in one line as follows (list of comprehension):\n",
    "\n",
    "squared_ages = [p[2]*p[2] for p in people]\n",
    "squared_ages\n",
    "\n",
    "# Using list of comprehension is more Pythonic."
   ]
  },
  {
   "cell_type": "code",
   "execution_count": 26,
   "metadata": {},
   "outputs": [
    {
     "data": {
      "text/plain": [
       "{'First Name': 'Steve', 'Last Name': 'Rodgers', 'Age': 102}"
      ]
     },
     "execution_count": 26,
     "metadata": {},
     "output_type": "execute_result"
    }
   ],
   "source": [
    "# Next, we will look at how to loop over dictionaries which behave differently to lists and tuples. \n",
    "# Now if we have a list of dictionaries we can loop across the list and access the dictionary similarly \n",
    "# to how we accessed the list within a list in the previous example. \n",
    "# However, if we just have a dictionary we can loop over it in the following way:\n",
    "\n",
    "person = {\"First Name\":\"Steve\", \"Last Name\":\"Rodgers\", \"Age\":102}\n",
    "person"
   ]
  },
  {
   "cell_type": "code",
   "execution_count": 27,
   "metadata": {},
   "outputs": [
    {
     "data": {
      "text/plain": [
       "['First Name', 'Last Name', 'Age']"
      ]
     },
     "execution_count": 27,
     "metadata": {},
     "output_type": "execute_result"
    }
   ],
   "source": [
    "person_list = []\n",
    "\n",
    "for p in person:\n",
    "    person_list.append(p)\n",
    "\n",
    "person_list"
   ]
  },
  {
   "cell_type": "code",
   "execution_count": 28,
   "metadata": {},
   "outputs": [
    {
     "data": {
      "text/plain": [
       "['Steve', 'Rodgers', 102]"
      ]
     },
     "execution_count": 28,
     "metadata": {},
     "output_type": "execute_result"
    }
   ],
   "source": [
    "# The way the loop behaves in this case is very different to what we have seen before with lists. \n",
    "# The p in person is key of the dictionary not the key and value of the dictionary, so in putting \n",
    "# the p in a list we get the keys of the dictionary. \n",
    "# If we want the values from the person dictionary we need to do it in the following way:\n",
    "\n",
    "person_list = []\n",
    "\n",
    "for p in person:\n",
    "    value = person[p]\n",
    "    person_list.append(value)\n",
    "\n",
    "person_list\n",
    "\n",
    "# We access the value from the dictionary that uses the key obtained from the loop."
   ]
  },
  {
   "cell_type": "code",
   "execution_count": 29,
   "metadata": {},
   "outputs": [
    {
     "data": {
      "text/plain": [
       "['R',\n",
       " 'o',\n",
       " 'b',\n",
       " ' ',\n",
       " 'M',\n",
       " 'a',\n",
       " 's',\n",
       " 't',\n",
       " 'r',\n",
       " 'o',\n",
       " 'd',\n",
       " 'o',\n",
       " 'm',\n",
       " 'e',\n",
       " 'n',\n",
       " 'i',\n",
       " 'c',\n",
       " 'o']"
      ]
     },
     "execution_count": 29,
     "metadata": {},
     "output_type": "execute_result"
    }
   ],
   "source": [
    "# Next, we consider how loops work on strings, which is again different to what we have seen before. \n",
    "# We can loop over a string in the same way that we would a list.\n",
    "\n",
    "name = \"Rob Mastrodomenico\"\n",
    "\n",
    "name_list = []\n",
    "for alphabets in name:\n",
    "    name_list.append(alphabets)\n",
    "\n",
    "name_list\n",
    "\n",
    "# So, when we loop over a list we access each individual element of the string, \n",
    "# so appending it to the list we see an entry for each letter in the name."
   ]
  },
  {
   "cell_type": "code",
   "execution_count": 30,
   "metadata": {},
   "outputs": [
    {
     "name": "stdout",
     "output_type": "stream",
     "text": [
      "0\n",
      "1\n",
      "2\n",
      "3\n"
     ]
    }
   ],
   "source": [
    "# The last concept we will consider in this section is while loops, \n",
    "# these are loops that continue whilst some logic is true. \n",
    "# We will demonstrate as follows:\n",
    "\n",
    "score = 0\n",
    "\n",
    "while score < 4:\n",
    "    print(score)\n",
    "    score += 1\n",
    "    \n",
    "# Initially we set a variable called score and set it equal to zero. \n",
    "# Then we have said while score is less than four complete the code within the while loop. \n",
    "# As for other logic considered here we need to use the colon after we have set the condition. \n",
    "# What we see is that the output from this is that we show the values of score while score is less than four. \n",
    "# Once it is completed we then leave the loop."
   ]
  },
  {
   "cell_type": "code",
   "execution_count": 31,
   "metadata": {},
   "outputs": [
    {
     "data": {
      "text/plain": [
       "5"
      ]
     },
     "execution_count": 31,
     "metadata": {},
     "output_type": "execute_result"
    }
   ],
   "source": [
    "# for loop vs while loop\n",
    "# for loop will iterate over something \n",
    "# while loop doesn’t and just continues until a condition is met which allows it to leave the loop. \n",
    "# With a loop like this, you need to be careful that the condition is met else it can stay in the loop forever!\n",
    "\n",
    "# In this example we will use the min and max numbers to be 1 and 59. \n",
    "# Now using randint, we can generate a random number between 1 and 59 inclusive.\n",
    "\n",
    "# Example: We will generating six balls and a bonus ball.\n",
    "\n",
    "from random import randint\n",
    "\n",
    "min = 1\n",
    "max = 59\n",
    "\n",
    "ball = randint(min,max)\n",
    "ball"
   ]
  },
  {
   "cell_type": "code",
   "execution_count": 32,
   "metadata": {},
   "outputs": [],
   "source": [
    "# The key here is that we can generate a random integer but its not always unique.\n",
    "# Meaning we could get the same number out again so we need to have a way to ensure we don’t get the same number out again. \n",
    "# Now, there is not always one way to do something in Python.\n",
    "# So we will go through two different approaches to doing this, the first one is as follows:\n",
    "\n",
    "from random import randint\n",
    "\n",
    "min = 1\n",
    "max = 59\n",
    "\n",
    "result_list = []\n",
    "\n",
    "for i in range(7):\n",
    "    ball = randint(min, max)\n",
    "    while ball in result_list:\n",
    "        ball = randint(min,max)\n",
    "    result_list.append(ball)\n",
    "    \n",
    "# We then generate a ball randomly and using a while loop if the ball isn’t in the list,\n",
    "# we append it to the result list and this then gives us our 7 random numbers."
   ]
  },
  {
   "cell_type": "code",
   "execution_count": 33,
   "metadata": {},
   "outputs": [
    {
     "data": {
      "text/plain": [
       "[28, 50, 4, 7, 22, 10, 16]"
      ]
     },
     "execution_count": 33,
     "metadata": {},
     "output_type": "execute_result"
    }
   ],
   "source": [
    "result_list"
   ]
  },
  {
   "cell_type": "code",
   "execution_count": 34,
   "metadata": {},
   "outputs": [],
   "source": [
    "# We could however do this slightly differently and not need the range object as follows:\n",
    "\n",
    "from random import randint\n",
    "\n",
    "min = 1\n",
    "max = 59\n",
    "\n",
    "result_list = []\n",
    "\n",
    "while len(result_list) < 7:\n",
    "    ball = randint(min,max)\n",
    "    if ball not in result_list:\n",
    "        result_list.append(ball)"
   ]
  },
  {
   "cell_type": "code",
   "execution_count": 35,
   "metadata": {},
   "outputs": [
    {
     "data": {
      "text/plain": [
       "[4, 44, 40, 47, 6, 23, 33]"
      ]
     },
     "execution_count": 35,
     "metadata": {},
     "output_type": "execute_result"
    }
   ],
   "source": [
    "result_list"
   ]
  }
 ],
 "metadata": {
  "kernelspec": {
   "display_name": "Python 3",
   "language": "python",
   "name": "python3"
  },
  "language_info": {
   "codemirror_mode": {
    "name": "ipython",
    "version": 3
   },
   "file_extension": ".py",
   "mimetype": "text/x-python",
   "name": "python",
   "nbconvert_exporter": "python",
   "pygments_lexer": "ipython3",
   "version": "3.8.5"
  }
 },
 "nbformat": 4,
 "nbformat_minor": 4
}
