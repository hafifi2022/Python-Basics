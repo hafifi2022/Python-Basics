{
 "cells": [
  {
   "cell_type": "code",
   "execution_count": null,
   "metadata": {},
   "outputs": [],
   "source": [
    "# Plotting is a key component when looking to work with data, and Python has a number of plotting libraries. \n",
    "# In this chapter, we cover plotting in great detail starting with creating basic plots directly from Pandas DataFrames \n",
    "# to getting more control using matplotlib all the way through to using Seaborn. \n",
    "# The chapter is fully example driven with code snippets alongside the graphics they produce. \n",
    "# The aim of including both is to give you the ability to see what the code produces but also act as a reference for when\n",
    "# you want to produce graphs. \n",
    "# The examples are based on datasets that come from with Python with many being taken from the documentation with the idea \n",
    "# of giving them greater explanation to help you understand what is happening. \n",
    "# The packages that we will look to use in this chapter are imported below:\n",
    "\n",
    "import numpy as np\n",
    "import pandas as pd\n",
    "import matplotlib\n",
    "import matplotlib.pyplot as plt\n",
    "import seaborn as sns\n",
    "from scipy import stats"
   ]
  },
  {
   "cell_type": "code",
   "execution_count": null,
   "metadata": {},
   "outputs": [],
   "source": [
    "# Pandas\n",
    "\n",
    "# Initially, we will look at plotting methods on Series and DataFrame objects in pandas. \n",
    "# One of the great things about pandas is that we have in-built plotting methods that we can call and produce plot. \n",
    "# This allows very fast visual presentation of datasets that we want to analyse.\n",
    "\n",
    "iris = sns.load_dataset('iris')"
   ]
  },
  {
   "cell_type": "code",
   "execution_count": null,
   "metadata": {},
   "outputs": [],
   "source": [
    "iris.head()"
   ]
  },
  {
   "cell_type": "code",
   "execution_count": null,
   "metadata": {},
   "outputs": [],
   "source": [
    "iris.sepal_length.plot()\n",
    "plt.show()"
   ]
  },
  {
   "cell_type": "code",
   "execution_count": null,
   "metadata": {},
   "outputs": [],
   "source": [
    "import os\n",
    "x = os.getcwd()\n",
    "x"
   ]
  },
  {
   "cell_type": "code",
   "execution_count": null,
   "metadata": {},
   "outputs": [],
   "source": [
    "file_name = \"\\\\Figures\\\\example1.pdf\"\n",
    "file_path = x + file_name"
   ]
  },
  {
   "cell_type": "code",
   "execution_count": null,
   "metadata": {},
   "outputs": [],
   "source": [
    "iris.sepal_length.plot()\n",
    "plt.savefig(file_path)"
   ]
  },
  {
   "cell_type": "code",
   "execution_count": null,
   "metadata": {},
   "outputs": [],
   "source": [
    "# The previous code snippets and associated plot show how we can produce a simple line plot of a Series. \n",
    "# The two examples use plt.show() and plt.savefig() to show how to either show the graph or save the graph. \n",
    "# In the event of saving a graph, we need to supply the file path and name to where we want the plot to save.\n",
    "\n",
    "plt.close()\n",
    "iris.sepal_length.hist()\n",
    "plt.show()"
   ]
  },
  {
   "cell_type": "code",
   "execution_count": null,
   "metadata": {},
   "outputs": [],
   "source": [
    "# Above, we use the 'hist' method of the series in the same way we used the plot method in the previous example. \n",
    "# It should be noted that plt.clf was used as the first line of code with the reason behind to clear the figure \n",
    "# meaning we do not see the previous plot when we plot the new image.\n",
    "\n",
    "plt.close()\n",
    "iris.sepal_length.plot.box()\n",
    "plt.show()"
   ]
  },
  {
   "cell_type": "code",
   "execution_count": null,
   "metadata": {},
   "outputs": [],
   "source": [
    "plt.close()\n",
    "iris.sepal_length.plot.density()\n",
    "plt.show()"
   ]
  },
  {
   "cell_type": "code",
   "execution_count": null,
   "metadata": {},
   "outputs": [],
   "source": [
    "# The next two snippets show how we can create a box plot and a density as shown above.\n",
    "# In these examples, we use 'plot' method of the series to give us access to the plot that we want to create. \n",
    "# This is slightly different from what we have used before, and looking at the 'plot' method, we can see the \n",
    "# types of plots that we can create.\n",
    "\n",
    "dir(iris.sepal_length.plot)\n",
    "\n",
    "# Here we see that alongside box and density, we also have the following types of plots."
   ]
  },
  {
   "cell_type": "code",
   "execution_count": null,
   "metadata": {},
   "outputs": [],
   "source": [
    "plt.close()\n",
    "iris.sepal_length.plot.area()\n",
    "plt.show()"
   ]
  },
  {
   "cell_type": "code",
   "execution_count": null,
   "metadata": {},
   "outputs": [],
   "source": [
    "plt.close()\n",
    "iris.sepal_length.plot.line()\n",
    "plt.show()"
   ]
  },
  {
   "cell_type": "code",
   "execution_count": null,
   "metadata": {},
   "outputs": [],
   "source": [
    "# It is worth noting that some of these types we have already covered as we can directly plot a line using plot \n",
    "# and a histogram using hist. \n",
    "# But we will show examples of each of these.\n",
    "# So far, we have looked at plots on series which will apply to columns of data frames.\n",
    "# However, we can also do plots on DataFrames as a whole. \n",
    "# As opposed to working on a single column of the iris DataFrame, we now work on the DataFrame as a whole.\n",
    "\n",
    "plt.close()\n",
    "iris.plot.box()\n",
    "plt.show()"
   ]
  },
  {
   "cell_type": "code",
   "execution_count": null,
   "metadata": {},
   "outputs": [],
   "source": [
    "# The first plot that we will consider is the box plot as shown above. \n",
    "# When applied to the DataFrame as a whole, we can see that we have box plots for each of the variables where \n",
    "# a box plot can be created. \n",
    "# Pandas also labels up the variables from the DataFrame names, so out of the box you get a robust plot of all the data.\n",
    "\n",
    "file_name = \"\\\\Figures\\\\example2.pdf\"\n",
    "file_path = x + file_name\n",
    "\n",
    "plt.close()\n",
    "iris.plot.density()\n",
    "plt.savefig(file_path)"
   ]
  },
  {
   "cell_type": "code",
   "execution_count": null,
   "metadata": {},
   "outputs": [],
   "source": [
    "plt.close()\n",
    "iris.plot.line()\n",
    "plt.show()"
   ]
  },
  {
   "cell_type": "code",
   "execution_count": null,
   "metadata": {},
   "outputs": [],
   "source": [
    "plt.close()\n",
    "iris.plot.scatter(x=\"sepal_length\", y=\"sepal_width\")\n",
    "plt.show()"
   ]
  },
  {
   "cell_type": "code",
   "execution_count": null,
   "metadata": {},
   "outputs": [],
   "source": [
    "# In the last built-in plot, we shall consider a scatter plot on the DataFrame as shown above. \n",
    "# Unlike the plots we have considered so far, a scatter plot requires an x and y variable as its plotting x against y. \n",
    "# So, we pass in the specific column name from the DataFrame and the method can pick up the data that it needs to \n",
    "# giving us the scatter of sepal length against sepal width.\n",
    "\n",
    "plt.close()\n",
    "iris.plot.area()\n",
    "plt.show()"
   ]
  },
  {
   "cell_type": "code",
   "execution_count": null,
   "metadata": {},
   "outputs": [],
   "source": [
    "plt.close()\n",
    "iris.plot.hist()\n",
    "plt.show()"
   ]
  },
  {
   "cell_type": "code",
   "execution_count": null,
   "metadata": {},
   "outputs": [],
   "source": [
    "plt.close()\n",
    "iris.plot.kde()\n",
    "plt.show()"
   ]
  },
  {
   "cell_type": "code",
   "execution_count": null,
   "metadata": {},
   "outputs": [],
   "source": [
    "# There were a couple of plots that we did not include in the previous examples namely bar, barh, and pie.\n",
    "# The reason being these plots require the data to be in the format suitable for the plot so we need data that has \n",
    "# been manipulated to be in that form. \n",
    "# Thus far all other plots have been directly on the DataFrame but here we will group the tips DataFrame to get in\n",
    "# a format that we can use.\n",
    "\n",
    "tips = sns.load_dataset('tips')\n",
    "tips.head()"
   ]
  },
  {
   "cell_type": "code",
   "execution_count": null,
   "metadata": {},
   "outputs": [],
   "source": [
    "grouped = tips.groupby(['sex','smoker'])\n",
    "data = grouped.sum()\n",
    "data"
   ]
  },
  {
   "cell_type": "code",
   "execution_count": null,
   "metadata": {},
   "outputs": [],
   "source": [
    "plt.close()\n",
    "data.plot.pie(y='size')\n",
    "plt.show()"
   ]
  },
  {
   "cell_type": "code",
   "execution_count": null,
   "metadata": {},
   "outputs": [],
   "source": [
    "plt.close\n",
    "data.plot.bar()\n",
    "plt.show()"
   ]
  },
  {
   "cell_type": "code",
   "execution_count": null,
   "metadata": {},
   "outputs": [],
   "source": [
    "plt.close()\n",
    "data.plot.bar(y='size')\n",
    "plt.show()"
   ]
  },
  {
   "cell_type": "code",
   "execution_count": null,
   "metadata": {},
   "outputs": [],
   "source": [
    "# Matplotlib\n",
    "\n",
    "# So, here we have shown a number of plots that you can easily generate with pandas and matplotlib.\n",
    "# Next, we will look at how we can customise them.\n",
    "\n",
    "file_name = \"\\\\Figures\\\\example3.pdf\"\n",
    "file_path = x + file_name\n",
    "\n",
    "plt.close()\n",
    "fig = plt.figure()\n",
    "plt.plot(iris.sepal_length, '-')\n",
    "plt.plot(iris.petal_length, '--')\n",
    "fig.savefig(file_path)"
   ]
  },
  {
   "cell_type": "code",
   "execution_count": null,
   "metadata": {},
   "outputs": [],
   "source": [
    "# Now in the above code, we use a different approach to create our plot using one which is more common from \n",
    "# a matplotlib point of view. \n",
    "# Here we setup a figure and plot lines on them using the plot method. \n",
    "# In this example, we specify the line type by using an extra argument to determine if the line is solid or partially solid. \n",
    "# Lastly, we save the plot using the 'savefig' method, we can find what filetypes are supported by running the following:\n",
    "\n",
    "fig.canvas.get_supported_filetypes()"
   ]
  },
  {
   "cell_type": "code",
   "execution_count": null,
   "metadata": {},
   "outputs": [],
   "source": [
    "# The next example we look at is a panel plot where we have two plots on a figure as opposed to plotting two lines on a plot.\n",
    "\n",
    "plt.close()\n",
    "plt.figure()\n",
    "\n",
    "plt.subplot(2,1,1)         #(row,col,index)\n",
    "plt.plot(iris.sepal_length)\n",
    "\n",
    "plt.subplot(2,1,2)\n",
    "plt.plot(iris.petal_length)\n",
    "\n",
    "plt.show()"
   ]
  },
  {
   "cell_type": "code",
   "execution_count": null,
   "metadata": {},
   "outputs": [],
   "source": [
    "# The first thing we do is create the figure in the usual way and we then use the 'subplot' method to create two panels. \n",
    "# The arguments for the subplot method are:\n",
    "\n",
    "# ● Number of rows\n",
    "# ● Number of columns\n",
    "# ● Index\n",
    "\n",
    "# So in this example, we have two rows with one column and initially we plot on index one the line of sepal length.\n",
    "# Next, we plot the line of petal length in the second panel and we now have an example of a panel plot as shown above.\n",
    "\n",
    "plt.close()\n",
    "fig, ax = plt.subplots(2)\n",
    "\n",
    "ax[0].plot(iris.sepal_length)\n",
    "ax[1].plot(iris.petal_length)\n",
    "\n",
    "plt.show()"
   ]
  },
  {
   "cell_type": "code",
   "execution_count": null,
   "metadata": {},
   "outputs": [],
   "source": [
    "# We can achieve the same thing using the subplots method directly specifying we want two subplots and using the ax variable \n",
    "# to control what goes into each subplot. \n",
    "# Here, we can use the plot method directly to plot sepal length in the first subplot and petal length in the second plot.\n",
    "# Next, we will look at how the plots look. \n",
    "# In matplotlib, we can control the styling of the plot and by running the below command you get a list as follows:\n",
    "\n",
    "plt.style.available"
   ]
  },
  {
   "cell_type": "code",
   "execution_count": null,
   "metadata": {},
   "outputs": [],
   "source": [
    "# To get a more detailed view of how these differ, please refer to the documentation \n",
    "# https://matplotlib.org/3.1.1/gallery/style_sheets/style_sheets_reference.html, \n",
    "# where there are images relating to the specific types. \n",
    "# What is important to note is that we can alter how a plot looks by just using a different style sheet.\n",
    "\n",
    "plt.close()\n",
    "plt.style.use('seaborn-darkgrid')\n",
    "fig = plt.figure()\n",
    "ax = plt.axes()\n",
    "\n",
    "plt.plot(tips.tip, color='blue')\n",
    "plt.plot(tips.tip+5, color='g')\n",
    "plt.plot(tips.tip+10, color='0.75')\n",
    "plt.plot(tips.tip+15, color='#FFDD44')\n",
    "plt.plot(tips.tip+20, color=(1.0,0.2,0.3))\n",
    "plt.plot(tips.tip+25, color='chartreuse')\n",
    "\n",
    "plt.show()"
   ]
  },
  {
   "cell_type": "code",
   "execution_count": null,
   "metadata": {},
   "outputs": [],
   "source": [
    "# Here we import the seaborn darkgrid style to use in this example and we setup the figure and axes. \n",
    "# Next, we plot the same tips line but in each instance we add 5 to each value so we can see the difference between each of \n",
    "# the lines. \n",
    "# Now for each line we use, a different approach to give it a colour. \n",
    "# The first line using the colour argument set as blue and we can use the colour as a name. \n",
    "# The second line uses the colour set as a single letter where in this case g refers to green. \n",
    "# For the third line, we use the grayscale value between 0 and 1. \n",
    "# The forth line shows how we can use hex codes to pass in the colour. \n",
    "# The fifth line shows how you use the RGB tuple where each value can be between 0 and 1 with the first referring to red,\n",
    "# the second to green, and third to blue. \n",
    "# The result of this is shown in figure above.\n",
    "# Next, we consider different line types that we can use within matplotlib where we use the linestyle argument to pass \n",
    "# in different types of lines.\n",
    "\n",
    "plt.close()\n",
    "plt.style.use('dark_background')\n",
    "fig = plt.figure()\n",
    "ax = plt.axes()\n",
    "\n",
    "plt.plot(tips.tip, linestyle='solid')\n",
    "plt.plot(tips.tip+5, linestyle='dashed')\n",
    "plt.plot(tips.tip+10, linestyle='dashdot')\n",
    "plt.plot(tips.tip+15, linestyle='dotted')\n",
    "\n",
    "plt.plot(tips.tip+20, linestyle='-')\n",
    "plt.plot(tips.tip+25, linestyle='--')\n",
    "plt.plot(tips.tip+30, linestyle='-.')\n",
    "plt.plot(tips.tip+35, linestyle=':')\n",
    "\n",
    "plt.show()"
   ]
  },
  {
   "cell_type": "code",
   "execution_count": null,
   "metadata": {},
   "outputs": [],
   "source": [
    "# We can also combine linestyle and colour into one argument to give different coloured lines on our plots. \n",
    "# To do this, we use the short linestyle combined with the single letter colours.\n",
    "\n",
    "plt.close()\n",
    "plt.style.use('ggplot')\n",
    "fig = plt.figure()\n",
    "ax = plt.axes()\n",
    "\n",
    "plt.plot(tips.tip, '-g')\n",
    "plt.plot(tips.tip+5, '--c')\n",
    "plt.plot(tips.tip+10, '-.k')\n",
    "plt.plot(tips.tip+15, ':r')\n",
    "\n",
    "plt.show()"
   ]
  },
  {
   "cell_type": "code",
   "execution_count": null,
   "metadata": {},
   "outputs": [],
   "source": [
    "# In the next examples, we will look at how we change the limits and add some labelling to plots, \n",
    "# we begin by looking at setting the limits for the plot.\n",
    "\n",
    "plt.close()\n",
    "fig = plt.figure()\n",
    "ax = plt.axes()\n",
    "\n",
    "plt.plot(tips.tip)\n",
    "plt.show()"
   ]
  },
  {
   "cell_type": "code",
   "execution_count": null,
   "metadata": {},
   "outputs": [],
   "source": [
    "plt.close()\n",
    "fig = plt.figure()\n",
    "ax = plt.axes()\n",
    "\n",
    "plt.xlim(50,200)\n",
    "plt.ylim(0,10)\n",
    "plt.plot(tips.tip)\n",
    "\n",
    "plt.show()"
   ]
  },
  {
   "cell_type": "code",
   "execution_count": null,
   "metadata": {},
   "outputs": [],
   "source": [
    "plt.close()\n",
    "fig = plt.figure()\n",
    "ax = plt.axes()\n",
    "\n",
    "plt.xlim(200,50)\n",
    "plt.ylim(10,0)\n",
    "plt.plot(tips.tip)\n",
    "plt.show()"
   ]
  },
  {
   "cell_type": "code",
   "execution_count": null,
   "metadata": {},
   "outputs": [],
   "source": [
    "# In the first example, we plot the tip from the tips dataset and here we customise the x limits and y limits \n",
    "# using 'xlim' and 'ylim' methods. \n",
    "# To use these methods, you simply put in the start and end value where you want the axis to start and end.\n",
    "# We are using 50 to 200 for the x axis and 0 to 10 for the y axis.\n",
    "# Then, we reverse the axis by simply using 200 to 50 and 10 to 0 for the x axis and the y axis respectively.\n",
    "\n",
    "plt.close()\n",
    "fig = plt.figure()\n",
    "ax = plt.axes()\n",
    "\n",
    "plt.plot(tips.tip)\n",
    "plt.title(\"Tips from the seaborn tips dataset\")\n",
    "plt.xlabel(\"Individual\")\n",
    "plt.ylabel(\"Tip(£)\")\n",
    "\n",
    "plt.show()"
   ]
  },
  {
   "cell_type": "code",
   "execution_count": null,
   "metadata": {},
   "outputs": [],
   "source": [
    "plt.close()\n",
    "fig = plt.figure()\n",
    "ax = plt.axes()\n",
    "\n",
    "plt.style.use(\"seaborn\")\n",
    "plt.plot(tips.tip, \"-g\", label=\"tip\")\n",
    "plt.plot(tips.total_bill, \"-b\", label=\"total bill\")\n",
    "#plt.axis(\"equal\")\n",
    "plt.legend()\n",
    "\n",
    "plt.show()"
   ]
  },
  {
   "cell_type": "code",
   "execution_count": null,
   "metadata": {},
   "outputs": [],
   "source": [
    "# In the first example, we label the plot to display titles and axis names by using the methods 'title', 'xlabel', and 'ylabel' \n",
    "# which populate the plot title, x axis, and y axis, respectively. \n",
    "# We can also add a legend to the plot using the 'legend' method. \n",
    "# In using this, we add the label variable to the plot where we specify the name we want to be shown in the legend.\n",
    "# We next consider some special plots showcasing what we can do beyond standard plots within matplotlib.\n",
    "\n",
    "plt.close()\n",
    "fig = plt.figure()\n",
    "ax = plt.axes()\n",
    "\n",
    "rng = np.random.RandomState(0)\n",
    "for marker in ['o', '.', ',', 'x', '+', 'v', '^', '<', '>', 's', 'd']:\n",
    "    plt.plot(rng.rand(5), rng.rand(5), marker, label=\"marker = {0}\".format(marker))\n",
    "\n",
    "plt.legend(numpoints=1)\n",
    "plt.xlim(0,1.5)\n",
    "\n",
    "plt.show()"
   ]
  },
  {
   "cell_type": "code",
   "execution_count": null,
   "metadata": {},
   "outputs": [],
   "source": [
    "# In the example above, we show how to use a different markers on a plot. \n",
    "# To do so, we use the numpy RandomState to generate arrays of random numbers.\n",
    "# We then loop over the list of markers that we want to plot and generate a five value random array to plot all of \n",
    "# these values and add a legend to show what each point in our code refers to what on the plot.\n",
    "\n",
    "plt.close()\n",
    "fig = plt.figure()\n",
    "ax = plt.axes()\n",
    "\n",
    "rng = np.random.RandomState(0)\n",
    "x = rng.randn(100)\n",
    "y = rng.randn(100)\n",
    "colors = rng.rand(100)\n",
    "sizes = 1000 * rng.rand(100)\n",
    "\n",
    "plt.scatter(x, y, c=colors, s=sizes, alpha=0.3, cmap='viridis')\n",
    "plt.colorbar()\n",
    "\n",
    "plt.show()"
   ]
  },
  {
   "cell_type": "code",
   "execution_count": null,
   "metadata": {},
   "outputs": [],
   "source": [
    "# The next plot that we create is a scatter plot where each element has a colour and size associated with it. \n",
    "# To do this, we create a figure in the normal way and again use RandomState to allow us to generate random numbers. \n",
    "# In this case, we calculate the x and y coordinates for the scatter plot by generating 100 random numbers. \n",
    "# We next generate another 100 random numbers to determine the colours. \n",
    "# Lastly, we generate the size of the scatter by multiplying another 100 random numbers by 1000 to make the ball size varied\n",
    "# enough so that we can see them. \n",
    "# These then get passed into the scatter method setting the c value to be the colours array and s to be the sizes array. \n",
    "# We use the alpha argument to set how opaque the plots are. \n",
    "# The last argument that we set is the cmap value which sets the colour map that we want to use. \n",
    "# Once we have plotted the scatter, we can add the colour bar to show what the colours refer to relative to the random numbers\n",
    "# from the colour array."
   ]
  },
  {
   "cell_type": "code",
   "execution_count": null,
   "metadata": {},
   "outputs": [],
   "source": [
    "# Seaborn\n",
    "\n",
    "# Having covered direct plotting from pandas objects and how we can use matplotlib to create and customise plots, \n",
    "# we next move onto Seaborn which is the natural progression as its built using matplotlib and is highly coupled \n",
    "# with pandas DataFrames. \n",
    "# In Seaborns own words, the functionality that it offers is as follows:\n",
    "\n",
    "# ● A dataset-oriented application programming interface (API) for examining relationships between multiple variables.\n",
    "# ● Specialised support for using categorical variables to show observations or aggregate statistics.\n",
    "# ● Options for visualising univariate or bivariate distributions and for comparing them between subsets of data.\n",
    "# ● Automatic estimation and plotting of linear regression models for different kinds dependent variables.\n",
    "# ● Convenient views onto the overall structure of complex datasets.\n",
    "# ● High-level abstractions for structuring multi-plot grids that let you easily build complex visualisations.\n",
    "# ● Concise control over matplotlib figure styling with several built-in themes.\n",
    "# ● Tools for choosing colour palettes that faithfully reveal patterns in your data.\n",
    "\n",
    "# What does this mean? In simple terms what Seaborn offers is some out of the box plots which look great and work well \n",
    "# with DataFrames but can be configured to a high level.\n",
    "# The best way to show this is through example so let us dive in and get started.\n",
    "\n",
    "sns.set(style='darkgrid')\n",
    "tips = sns.load_dataset('tips')\n",
    "tips.head()"
   ]
  },
  {
   "cell_type": "code",
   "execution_count": null,
   "metadata": {},
   "outputs": [],
   "source": [
    "sns.relplot(x='total_bill', y='tip', data=tips);"
   ]
  },
  {
   "cell_type": "code",
   "execution_count": null,
   "metadata": {},
   "outputs": [],
   "source": [
    "# The above code loads up the tips dataset in a manner similar to what we have done previously in the book. \n",
    "# We then use the 'relplot' method and pass in the name of the DataFrame as the argument to the data option and set x and y \n",
    "# to the column names from the DataFrame.\n",
    "# The result of this is a scatter plot of the x and y variables. \n",
    "# Now, we can extend this by adding a third dimension. \n",
    "# In this case, we want to plot the same scatter plot but now segment the data by whether they are a smoker or not. \n",
    "# To do this, we use the hue option and pass in the name smoker which relates to the column within the DataFrame. \n",
    "# Note here the values of smoker are yes and no which mimics what we see in the plot.\n",
    "\n",
    "tips.smoker.unique()"
   ]
  },
  {
   "cell_type": "code",
   "execution_count": null,
   "metadata": {},
   "outputs": [],
   "source": [
    "sns.relplot(x='total_bill', y='tip', hue='smoker', data=tips);"
   ]
  },
  {
   "cell_type": "code",
   "execution_count": null,
   "metadata": {},
   "outputs": [],
   "source": [
    "# The plot above conveniently colours the values related to whether they are a smoker or not. \n",
    "# However, we can extend this by adding the variable style and setting it to smoker which will now change what is plotted \n",
    "# for each category in smoker, which in this case is yes or no.\n",
    "\n",
    "sns.relplot(x='total_bill', y='tip', hue='smoker', style='smoker', data=tips);"
   ]
  },
  {
   "cell_type": "code",
   "execution_count": null,
   "metadata": {},
   "outputs": [],
   "source": [
    "# The hue value previously was a categorical variable which makes sense when applying but what happens if your hue value \n",
    "# is a numeric value? \n",
    "# To demonstrate this, we change the hue value to use the size variable in the dataset. \n",
    "# Initially, we used the dot syntax to obtain the unique value but we get an error and this is due to the fact that dot size on\n",
    "# any DataFrame brings back the actual size of the DataFrame which is rows multiplied by columns. \n",
    "# So to obtain the unique values we use the square bracket notation. \n",
    "# The size value is then passed into the hue to give us a scatter plot using a numeric hue.\n",
    "\n",
    "tips.dtypes"
   ]
  },
  {
   "cell_type": "code",
   "execution_count": null,
   "metadata": {},
   "outputs": [],
   "source": [
    "tips.head()"
   ]
  },
  {
   "cell_type": "code",
   "execution_count": null,
   "metadata": {},
   "outputs": [],
   "source": [
    "tips.size.unique()"
   ]
  },
  {
   "cell_type": "code",
   "execution_count": null,
   "metadata": {},
   "outputs": [],
   "source": [
    "tips.size"
   ]
  },
  {
   "cell_type": "code",
   "execution_count": null,
   "metadata": {},
   "outputs": [],
   "source": [
    "len(tips) * len(tips.columns)"
   ]
  },
  {
   "cell_type": "code",
   "execution_count": null,
   "metadata": {},
   "outputs": [],
   "source": [
    "tips['size'].unique()"
   ]
  },
  {
   "cell_type": "code",
   "execution_count": null,
   "metadata": {},
   "outputs": [],
   "source": [
    "sns.relplot(x='total_bill', y='tip', hue='size', data=tips);"
   ]
  },
  {
   "cell_type": "code",
   "execution_count": null,
   "metadata": {},
   "outputs": [],
   "source": [
    "# What we see is that the size colours get darker as the value increases and seaborn casts the value to a float and uses a \n",
    "# sequential palette taking care of this for you.\n",
    "# Having shown how to apply a third variable using hue, we can also use the size option.\n",
    "# As in the previous example, we will use the size variable as the input to size and what this does is change the size of the \n",
    "# point based on this third variable.\n",
    "\n",
    "sns.relplot(x='total_bill', y='tip', size='size', data=tips);"
   ]
  },
  {
   "cell_type": "code",
   "execution_count": null,
   "metadata": {},
   "outputs": [],
   "source": [
    "# We can expand upon the previous example by using the sizes variable this can be in the form of list, dictionary, or tuple. \n",
    "# In the event of a categorical variable, a dictionary would contain the levels with the relevant values so for the smoker \n",
    "# variable we could pass a dictionary as follows:\n",
    "\n",
    "tips['smoker'].unique()"
   ]
  },
  {
   "cell_type": "code",
   "execution_count": null,
   "metadata": {},
   "outputs": [],
   "source": [
    "tips.smoker.unique()"
   ]
  },
  {
   "cell_type": "code",
   "execution_count": null,
   "metadata": {},
   "outputs": [],
   "source": [
    "sizes_dict = {'No':50, 'Yes':100}\n",
    "sns.relplot(x='total_bill', y='tip', size='smoker', sizes=sizes_dict, data=tips);"
   ]
  },
  {
   "cell_type": "code",
   "execution_count": null,
   "metadata": {},
   "outputs": [],
   "source": [
    "# We can do the same with a list replacing the dictionary.\n",
    "# [No, Yes]\n",
    "# Categories (2, object): [No, Yes]\n",
    "\n",
    "sns.relplot(x='total_bill', y='tip', size='smoker', sizes=[100,50], data=tips);"
   ]
  },
  {
   "cell_type": "code",
   "execution_count": null,
   "metadata": {},
   "outputs": [],
   "source": [
    "# If the size used is numeric, we can pass a tuple with the min and max values which is then applied across the different \n",
    "# numeric values to give appropriate sizes of each point.\n",
    "\n",
    "sns.relplot(x='total_bill', y='tip', size='size', sizes=(15,200), data=tips);"
   ]
  },
  {
   "cell_type": "code",
   "execution_count": null,
   "metadata": {},
   "outputs": [],
   "source": [
    "# Next, we will look at line plots in seaborn. \n",
    "# Initially, we will setup a DataFrame using two methods in numpy. \n",
    "# The first is arange which creates a list of ascending integer values from 0 to n − 1, which we demonstrate below.\n",
    "\n",
    "np.arange(10)"
   ]
  },
  {
   "cell_type": "code",
   "execution_count": null,
   "metadata": {},
   "outputs": [],
   "source": [
    "# We then also generate a set of random numbers using the randn method of random and them apply the cumsum method to \n",
    "# cumulatively sum these.\n",
    "\n",
    "np.random.randn(10)"
   ]
  },
  {
   "cell_type": "code",
   "execution_count": null,
   "metadata": {},
   "outputs": [],
   "source": [
    "np.random.randn(10).cumsum()"
   ]
  },
  {
   "cell_type": "code",
   "execution_count": null,
   "metadata": {},
   "outputs": [],
   "source": [
    "# Note the values in the two examples will not add up as everytime we generate a set of random numbers we get a different\n",
    "# value as they do not have memory. \n",
    "# We could have cast the first value to a variable as follows and you can see the effect of cumsum.\n",
    "\n",
    "x = np.random.randn(10)\n",
    "x"
   ]
  },
  {
   "cell_type": "code",
   "execution_count": null,
   "metadata": {},
   "outputs": [],
   "source": [
    "x.cumsum()"
   ]
  },
  {
   "cell_type": "code",
   "execution_count": null,
   "metadata": {},
   "outputs": [],
   "source": [
    "# Using the above, we can create a DataFrame with some random values as our value column. \n",
    "# To plot the data, we can use the lineplot or with relplot setting the kind to be line as is shown below with the \n",
    "# resulting graph below.\n",
    "\n",
    "sns.set(style=\"darkgrid\")\n",
    "df = pd.DataFrame(dict(time=np.arange(500), value=np.random.randn(500).cumsum()))\n",
    "df.head()"
   ]
  },
  {
   "cell_type": "code",
   "execution_count": null,
   "metadata": {},
   "outputs": [],
   "source": [
    "sns.relplot(x='time', y='value', kind='line', data=df);"
   ]
  },
  {
   "cell_type": "code",
   "execution_count": null,
   "metadata": {},
   "outputs": [],
   "source": [
    "g = sns.relplot(x='time', y='value', kind='line', data=df)\n",
    "g.fig.autofmt_xdate()"
   ]
  },
  {
   "cell_type": "code",
   "execution_count": null,
   "metadata": {},
   "outputs": [],
   "source": [
    "# Next, we look at the fmri dataset and how we can use replot to produce a line plot of timepoint by signal. \n",
    "# Looking at the dataset, we can see for each timepoint we have multiple measurements.\n",
    "\n",
    "fmri = sns.load_dataset('fmri')\n",
    "fmri.head()"
   ]
  },
  {
   "cell_type": "code",
   "execution_count": null,
   "metadata": {},
   "outputs": [],
   "source": [
    "fmri[fmri['timepoint']==18].head()"
   ]
  },
  {
   "cell_type": "code",
   "execution_count": null,
   "metadata": {},
   "outputs": [],
   "source": [
    "fmri.groupby('timepoint').count()"
   ]
  },
  {
   "cell_type": "code",
   "execution_count": null,
   "metadata": {},
   "outputs": [],
   "source": [
    "fmri.groupby('timepoint').count().signal"
   ]
  },
  {
   "cell_type": "code",
   "execution_count": null,
   "metadata": {},
   "outputs": [],
   "source": [
    "fmri.groupby('timepoint').count()['signal']"
   ]
  },
  {
   "cell_type": "code",
   "execution_count": null,
   "metadata": {},
   "outputs": [],
   "source": [
    "# So for each timepoint, we have 56 values.\n",
    "# Now passing these values into relplot aggregates over the data with the line representing the mean of that timepoint \n",
    "# and a 95% confidence interval around that point.\n",
    "\n",
    "sns.relplot(x='timepoint', y='signal', kind='line', data=fmri);"
   ]
  },
  {
   "cell_type": "code",
   "execution_count": null,
   "metadata": {},
   "outputs": [],
   "source": [
    "# We can repress the confidence interval by passing the ci to be None as shown below:\n",
    "\n",
    "sns.relplot(x='timepoint', y='signal', ci=None, kind='line', data=fmri);"
   ]
  },
  {
   "cell_type": "code",
   "execution_count": null,
   "metadata": {},
   "outputs": [],
   "source": [
    "# We can change what the interval around the mean by passing sd to it which then calculates the standard deviation \n",
    "# around the mean.\n",
    "\n",
    "sns.relplot(x='timepoint', y='signal', kind='line', ci='sd', data=fmri);"
   ]
  },
  {
   "cell_type": "code",
   "execution_count": null,
   "metadata": {},
   "outputs": [],
   "source": [
    "# Like we saw before with the scatterplot, we can use the hue to pass in a third variable to group our data by, \n",
    "# in the below code we choose the event variable which splits our data in two.\n",
    "\n",
    "fmri.head()"
   ]
  },
  {
   "cell_type": "code",
   "execution_count": null,
   "metadata": {},
   "outputs": [],
   "source": [
    "fmri['event'].unique()"
   ]
  },
  {
   "cell_type": "code",
   "execution_count": null,
   "metadata": {},
   "outputs": [],
   "source": [
    "sns.relplot(x='timepoint', y='signal', hue='event', kind='line', data=fmri);"
   ]
  },
  {
   "cell_type": "code",
   "execution_count": null,
   "metadata": {},
   "outputs": [],
   "source": [
    "# We can expand on the previous example by setting the hue to be region and the style to be event. \n",
    "# In doing so, we have the different colours representing the regions and the line type representing the event. \n",
    "# This allows us to represent more variables in the line plot.\n",
    "\n",
    "fmri['region'].unique()"
   ]
  },
  {
   "cell_type": "code",
   "execution_count": null,
   "metadata": {},
   "outputs": [],
   "source": [
    "sns.relplot(x='timepoint', y='signal', hue='region', style='event', kind='line', data=fmri);"
   ]
  },
  {
   "cell_type": "code",
   "execution_count": null,
   "metadata": {},
   "outputs": [],
   "source": [
    "# Let us change the example and use a different dataset. \n",
    "# Here we load in the dots dataset.\n",
    "\n",
    "dots = sns.load_dataset('dots').query(\"align == 'dots'\")\n",
    "dots.head()"
   ]
  },
  {
   "cell_type": "code",
   "execution_count": null,
   "metadata": {},
   "outputs": [],
   "source": [
    "dots.tail()"
   ]
  },
  {
   "cell_type": "code",
   "execution_count": null,
   "metadata": {},
   "outputs": [],
   "source": [
    "dots['coherence'].unique()"
   ]
  },
  {
   "cell_type": "code",
   "execution_count": null,
   "metadata": {},
   "outputs": [],
   "source": [
    "dots['choice'].unique()"
   ]
  },
  {
   "cell_type": "code",
   "execution_count": null,
   "metadata": {},
   "outputs": [],
   "source": [
    "sns.relplot(x='time', y='firing_rate', hue='coherence', style='choice', kind='line', data=dots);"
   ]
  },
  {
   "cell_type": "code",
   "execution_count": null,
   "metadata": {},
   "outputs": [],
   "source": [
    "# In the plot shown in above, we use time and firing rate as our x and y variables.\n",
    "# We then use the coherence and choice variables to provide the hue and the styling. \n",
    "# Using both hue and style allows us to combine colour and style at each x and y combination. \n",
    "# So in essence we can display four variables on one plot. \n",
    "# It should be noted that the makeup of this dataset is particularly suited to doing this as we have six unique values for \n",
    "# coherence and two for choice resulting in 12 lines. \n",
    "# When considering using this type of plot, it is important to make sure that your dataset is suitable and that the plot is \n",
    "# a better representation of the data, as opposed to something that visually offers little.\n",
    "# So far, we have considered single plots but what if we want to compare the relationship between multiple variables on the \n",
    "# same plot. \n",
    "# Let us look at the tips dataset and the relationship between total bill and tip.\n",
    "\n",
    "sns.set(style=\"darkgrid\")\n",
    "tips = sns.load_dataset(\"tips\")\n",
    "tips.head()"
   ]
  },
  {
   "cell_type": "code",
   "execution_count": null,
   "metadata": {},
   "outputs": [],
   "source": [
    "tips['time'].unique()"
   ]
  },
  {
   "cell_type": "code",
   "execution_count": null,
   "metadata": {},
   "outputs": [],
   "source": [
    "tips['smoker'].unique()"
   ]
  },
  {
   "cell_type": "code",
   "execution_count": null,
   "metadata": {},
   "outputs": [],
   "source": [
    "sns.relplot(x='total_bill', y='tip', hue='smoker', col='time', data=tips);"
   ]
  },
  {
   "cell_type": "code",
   "execution_count": null,
   "metadata": {},
   "outputs": [],
   "source": [
    "# In this example, we have looked at the relationship between total bill and tip which has been covered before. \n",
    "# Now, looking at other variables within the dataset that we could use time and smoker to drill further into the relationship \n",
    "# between total bill and tips. \n",
    "# Setting the hue to be smoker breaks our data into those who are and who are not a smoker. \n",
    "# However, we can expand on this further by using the col argument. \n",
    "# In this case, we set col to time, which like with smoker contains only two categories, and results in our initial plot by hue\n",
    "# being replicated on the variable passed through col. \n",
    "# This is useful in showing us the relationship side-by-side.\n",
    "# We can expand upon the previous example by producing a multi plot using rows and columns. \n",
    "# Here we load the fmri dataset from seaborn.\n",
    "\n",
    "fmri = sns.load_dataset('fmri')\n",
    "fmri.head()"
   ]
  },
  {
   "cell_type": "code",
   "execution_count": null,
   "metadata": {},
   "outputs": [],
   "source": [
    "fmri.dtypes"
   ]
  },
  {
   "cell_type": "code",
   "execution_count": null,
   "metadata": {},
   "outputs": [],
   "source": [
    "fmri['event'].unique()"
   ]
  },
  {
   "cell_type": "code",
   "execution_count": null,
   "metadata": {},
   "outputs": [],
   "source": [
    "fmri['region'].unique()"
   ]
  },
  {
   "cell_type": "code",
   "execution_count": null,
   "metadata": {},
   "outputs": [],
   "source": [
    "fmri['subject'].unique()"
   ]
  },
  {
   "cell_type": "code",
   "execution_count": null,
   "metadata": {},
   "outputs": [],
   "source": [
    "sns.relplot(x='timepoint', y='signal', hue='subject', col='region', row='event',\n",
    "            kind='line', estimator=None, data=fmri);"
   ]
  },
  {
   "cell_type": "code",
   "execution_count": null,
   "metadata": {},
   "outputs": [],
   "source": [
    "sns.relplot(x='timepoint', y='signal', hue='subject', col='region', row='event', \n",
    "            height=4, kind='line', estimator=None, data=fmri);"
   ]
  },
  {
   "cell_type": "code",
   "execution_count": null,
   "metadata": {},
   "outputs": [],
   "source": [
    "# As usual, we examine the dataset using head.\n",
    "# However, in this example we use the 'dtypes; method to display the types of each column. \n",
    "# What this shows is that timepoint and signal are of types int64 and float64 respectively which make them ideal candidates \n",
    "# as our x and y variable. \n",
    "# Looking at the other variables, we see that both event and region have only two distinct values and the subject has 14 \n",
    "# different values. \n",
    "# So in putting together our plot subject is best suited to be the hue, and we can use event and region to be set as the row \n",
    "# and col variables. \n",
    "# In the code, we set the col as region and row as event. \n",
    "# The result of this is that the headers for our 2 by 2 plot contains the distinct combinations of the variables as shown above.\n",
    "# Now this plot is fine BUT you could argue that having 14 variables in the hue makes it hard to distinguish what’s going on. \n",
    "# We can quite easily reduce this down by looking at selecting a subset of data as shown below.\n",
    "\n",
    "fmri['subject'].isin(['s0','s1','s2']).head(10)"
   ]
  },
  {
   "cell_type": "code",
   "execution_count": null,
   "metadata": {},
   "outputs": [],
   "source": [
    "fmri_red = fmri[fmri['subject'].isin(['s0','s1','s2'])]\n",
    "fmri_red.head()"
   ]
  },
  {
   "cell_type": "code",
   "execution_count": null,
   "metadata": {},
   "outputs": [],
   "source": [
    "sns.relplot(x='timepoint', y='signal', hue='subject', col='region', row='event', \n",
    "            kind='line', height=3, estimator=None, data=fmri_red);"
   ]
  },
  {
   "cell_type": "code",
   "execution_count": null,
   "metadata": {},
   "outputs": [],
   "source": [
    "# If we only want to look at one variable passed through col, we can set a col_wrap which will have a max number of plots \n",
    "# side by side. \n",
    "# In this case, setting the value to 5 wraps the plots to 5 per line giving three rows to fit our 14 different subjects. \n",
    "# This gives us the effect of setting rows and columns using just a single variable as shown in below.\n",
    "\n",
    "sns.relplot(x='timepoint', y='signal', hue='event', style='event', \n",
    "            col='subject', col_wrap=5, height=3, aspect=0.75, linewidth=2.5, \n",
    "            kind='line', data=fmri.query(\"region == 'frontal'\"));"
   ]
  },
  {
   "cell_type": "code",
   "execution_count": null,
   "metadata": {},
   "outputs": [],
   "source": [
    "# We next consider plotting categorical data and start by looking at using the 'catplot' method with the tips dataset.\n",
    "\n",
    "tips = sns.load_dataset(\"tips\")\n",
    "tips.head()"
   ]
  },
  {
   "cell_type": "code",
   "execution_count": null,
   "metadata": {},
   "outputs": [],
   "source": [
    "tips.dtypes"
   ]
  },
  {
   "cell_type": "code",
   "execution_count": null,
   "metadata": {},
   "outputs": [],
   "source": [
    "tips['day'].unique()"
   ]
  },
  {
   "cell_type": "code",
   "execution_count": null,
   "metadata": {},
   "outputs": [],
   "source": [
    "sns.catplot(x='day', y='total_bill', data=tips);"
   ]
  },
  {
   "cell_type": "code",
   "execution_count": null,
   "metadata": {},
   "outputs": [],
   "source": [
    "# The code shown loads the seaborn dataset tips and we look at its content using the 'head' and 'dtypes' methods. \n",
    "# What we see is that there are some options for categorical data and we look at the individual values of the day column \n",
    "# which unsurprisingly contain some of the week of the year names (albeit abbreviated). \n",
    "# It is also worth noting that the type of this column is category. \n",
    "# We can then plot the values of the total bill split by the day of the week which is in the form of points grouped by the \n",
    "# day and also coloured to distinguish them with the resulting plot shown above.\n",
    "# Now, if we consider the data, we can see some shared values.\n",
    "\n",
    "tips[tips['day']=='Thur'].sort_values(by='total_bill').head(20)"
   ]
  },
  {
   "cell_type": "code",
   "execution_count": null,
   "metadata": {},
   "outputs": [],
   "source": [
    "# So, we can see that we have a shared value on Thursday for the total bill value of 13.00.\n",
    "# In the previous plot, our scatter does not take account of that so we need a way to deal with this. \n",
    "# Luckily, we have a setting that can be applied to change this. \n",
    "# By passing the kind variable and setting it to swarm applies an algorithm to prevent the overlapping of the variables \n",
    "# and this gives us a better representation of the distribution as shown below.\n",
    "# It should be noted that the default value of kind is strip which gives the plot shown in the previous example.\n",
    "\n",
    "sns.catplot(x='day', y='total_bill', kind='swarm', data=tips);"
   ]
  },
  {
   "cell_type": "code",
   "execution_count": null,
   "metadata": {},
   "outputs": [],
   "source": [
    "# Previously, we had shown how we could add a hue to a plot, to group it by that value and the same is true when we produce \n",
    "# a catplot. \n",
    "# Looking through the variable list, we can see that sex is another categorical variable that would work well passed to the\n",
    "# hue. \n",
    "# The difference that we see between this and the last plot is that the colour is now driven by the hue which is to be expected\n",
    "# as our other categorical variable is passed through the x variable. \n",
    "# This is shown in below.\n",
    "\n",
    "tips.dtypes"
   ]
  },
  {
   "cell_type": "code",
   "execution_count": null,
   "metadata": {},
   "outputs": [],
   "source": [
    "tips['sex'].unique()"
   ]
  },
  {
   "cell_type": "code",
   "execution_count": null,
   "metadata": {},
   "outputs": [],
   "source": [
    "sns.catplot(x='day', y='total_bill', hue='sex', kind='swarm', data=tips);"
   ]
  },
  {
   "cell_type": "code",
   "execution_count": null,
   "metadata": {},
   "outputs": [],
   "source": [
    "# So far we have dealt with categorical variables in the form of text data like sex or day, but what if the category could be \n",
    "# numerical. \n",
    "# In this next example, we will set the x value to be size which is an integer and what we see is that the value is treated as \n",
    "# a category in a similar way to what we have seen in the previous example. \n",
    "# In the code, you will also see that we have introduced a new DataFrame method query which works by passing a query to apply\n",
    "# on the DataFrame in the form of a string. \n",
    "# So here we have passed in the query size != 3 so what we are saying is that we want to get the data where size is not equal \n",
    "# to 3. \n",
    "# This could also have been written using Boolean series where we would look for tips[tips[‘size’]!=3]. \n",
    "# What should be noted is that catplot will order the x value appropriately based on the numerical values as shown below.\n",
    "\n",
    "sns.catplot(x='size', y='total_bill', kind='swarm', data=tips.query('size != 3'));"
   ]
  },
  {
   "cell_type": "code",
   "execution_count": null,
   "metadata": {},
   "outputs": [],
   "source": [
    "# The question of ordering a numerical value is relatively simple as you would expect seaborn to order it using the ascending \n",
    "# numerical value, but for a categorical variable, it is not quite as straight forward. \n",
    "# If we take the example of plotting smoker against tip how do we control the ordering of the smoker values which are yes \n",
    "# and no. \n",
    "# To do this, we can use the order argument and set it to be how we want the responses to be shown as demonstrated below.\n",
    "\n",
    "tips['smoker'].unique()"
   ]
  },
  {
   "cell_type": "code",
   "execution_count": null,
   "metadata": {},
   "outputs": [],
   "source": [
    "sns.catplot(x='smoker', y='tip', order=['No','Yes'], kind='swarm', data=tips);"
   ]
  },
  {
   "cell_type": "code",
   "execution_count": null,
   "metadata": {},
   "outputs": [],
   "source": [
    "# We can change the example by using the x axis as total bill and setting the y axis to be the categorical variable day \n",
    "# to invert the plot with the swarm being horizontal as opposed to vertical. \n",
    "# In this example, we also apply the hue and swarm which shows we can achieve the same result horizontally or vertically \n",
    "# as shown below.\n",
    "\n",
    "sns.catplot(x='total_bill', y='day', hue='time', kind='swarm', data=tips);"
   ]
  },
  {
   "cell_type": "code",
   "execution_count": null,
   "metadata": {},
   "outputs": [],
   "source": [
    "# The previous examples have all looked at scatterplots but we can produce different plots by changing what we pass as the \n",
    "# kind argument. \n",
    "# The first such example that will be shown is how we produce a box plot of our data. \n",
    "# To do this, we specify the kind to be box and that will move us from the default of a scatter plot to a box plot \n",
    "# representation of the data. \n",
    "# In the example below, we set the y axis to be the total bill and the x axis to be day.\n",
    "\n",
    "sns.catplot(x='day', y='total_bill', kind='box', data=tips);"
   ]
  },
  {
   "cell_type": "code",
   "execution_count": null,
   "metadata": {},
   "outputs": [],
   "source": [
    "# The result of this is a standard box plot but what we see is that data outside of the whiskers are shown as data points on \n",
    "# the plot so every point of data is represented on it as shown above.\n",
    "# As we have shown earlier with the scatterplot example, we can add a hue to our data which then gives us multiple box plots\n",
    "# per category using the colour to distinguish the levels of the hue, which we demonstrate below.\n",
    "\n",
    "sns.catplot(x='day', y='total_bill', hue='smoker', kind='box', data=tips);"
   ]
  },
  {
   "cell_type": "code",
   "execution_count": null,
   "metadata": {},
   "outputs": [],
   "source": [
    "# The next type of plot we consider is a boxen plot, this is produced where the kind argument is set to boxen. \n",
    "# The example below uses the diamond dataset and plots the variable colour against price. \n",
    "# This plot is similar to the box plot except for the fact that the data is grouped beyond the quartiles that a box plot \n",
    "# shows as shown below. \n",
    "# By doing this, we can get a better picture of the distribution of the data given the larger number of groups.\n",
    "\n",
    "diamonds = sns.load_dataset('diamonds')\n",
    "diamonds.head()"
   ]
  },
  {
   "cell_type": "code",
   "execution_count": null,
   "metadata": {},
   "outputs": [],
   "source": [
    "diamonds.dtypes"
   ]
  },
  {
   "cell_type": "code",
   "execution_count": null,
   "metadata": {},
   "outputs": [],
   "source": [
    "diamonds['color'].unique()"
   ]
  },
  {
   "cell_type": "code",
   "execution_count": null,
   "metadata": {},
   "outputs": [],
   "source": [
    "sns.catplot(x='color', y='price', kind='boxen', data=diamonds.sort_values('color'));"
   ]
  },
  {
   "cell_type": "code",
   "execution_count": null,
   "metadata": {},
   "outputs": [],
   "source": [
    "# The previous example of the boxen plot allowed us to get a better picture of the distribution with more groups than a box \n",
    "# plot.\n",
    "# However, our next example allows us to get the overview given by the box plot whilst also displaying the information of a \n",
    "# box plot. \n",
    "# To do this, we set the kind to violin which gives us a violin plot. \n",
    "# In our example, we use the common total bill and day values that we have used previously. \n",
    "# We apply a hue to the data using the variable time which has the unique values of Dinner and Lunch. \n",
    "# The plot calculates the kernel density estimate (KDE) with the box plot representation of the data inside it. \n",
    "# The KDE aspect of this plot is something that we will go into more detail. \n",
    "# A KDE looks to represent the data in much the same way as histogram summarising the distribution.\n",
    "# For a histogram, we would look to set the bin numbers to determine how the plot would look, now we cannot do this for the \n",
    "# KDE aspect of the violin plot instead we have to set a smoothing parameter. \n",
    "# In the example given, you can see that this is set to 0.15, this is in contrast to the default value 1. \n",
    "# The choice of this parameter is key to how your plot looks as over smoothing may remove aspects of the dataset. \n",
    "# The other argument that we pass here which we have not seen before is the cut parameter. \n",
    "# This is much more straightforward as it determines where we extend the plot when used with the smoothing value. \n",
    "# In this case, we set the value to 0 which means we truncate at the end of the data."
   ]
  },
  {
   "cell_type": "code",
   "execution_count": null,
   "metadata": {},
   "outputs": [],
   "source": [
    "# In the example, we can see that we do not have data points for each combination of day and time. \n",
    "# Therefore, for Thursday and Friday, we have two violins and for Saturday and Sunday we only have the one. \n",
    "# Another interesting consequence is how a single data point is dealt with as we have only one for Thursday Dinner. \n",
    "# In this case, we have a single line at the point 18.78 representing that total bill value.\n",
    "# If we did not want this, we could remove it from the data before plotting it. \n",
    "# The result of this is shown below.\n",
    "\n",
    "tips.head()"
   ]
  },
  {
   "cell_type": "code",
   "execution_count": null,
   "metadata": {},
   "outputs": [],
   "source": [
    "tips['time'].unique()"
   ]
  },
  {
   "cell_type": "code",
   "execution_count": null,
   "metadata": {},
   "outputs": [],
   "source": [
    "tips.groupby(by=['day','time']).count()"
   ]
  },
  {
   "cell_type": "code",
   "execution_count": null,
   "metadata": {},
   "outputs": [],
   "source": [
    "thursday = tips[(tips['day']=='Thur')]\n",
    "thursday.head()"
   ]
  },
  {
   "cell_type": "code",
   "execution_count": null,
   "metadata": {},
   "outputs": [],
   "source": [
    "thursday[thursday['time']=='Dinner']"
   ]
  },
  {
   "cell_type": "code",
   "execution_count": null,
   "metadata": {},
   "outputs": [],
   "source": [
    "tips[tips['total_bill']==18.78]"
   ]
  },
  {
   "cell_type": "code",
   "execution_count": null,
   "metadata": {},
   "outputs": [],
   "source": [
    "sns.catplot(x='total_bill', y='day', hue='time', kind='violin', bw_adjust=0.15, cut=0, data=tips);"
   ]
  },
  {
   "cell_type": "code",
   "execution_count": null,
   "metadata": {},
   "outputs": [],
   "source": [
    "# An interesting variation of this is to set the split value to True which when applied with a hue shows both sets of values \n",
    "# in the same violin. \n",
    "# So in this example, we have one violin per day as opposed to two that we might expect when we normally use hue. \n",
    "# By doing this, our box plot is done on the data as a whole with the split on the violin so you can compare the overall \n",
    "# distribution to the distribution of each category of the hue. \n",
    "# This example is also good to compare the effect of the smoothing parameter which is set to the default here compared to the \n",
    "# adjustment applied in the previous example. \n",
    "# The resulting plot is shown below.\n",
    "\n",
    "sns.catplot(x='day', y='total_bill', hue='sex', kind='violin', split=True, data=tips);"
   ]
  },
  {
   "cell_type": "code",
   "execution_count": null,
   "metadata": {},
   "outputs": [],
   "source": [
    "# Next we look at how we can capture variability within our dataset over categorical data using a bar plot. \n",
    "# To achieve this, we pass bar as the argument to kind which produces a bar plot based on our x and y variables which are \n",
    "# sex and survived with the hue class as shown below. \n",
    "# The default operation that the bar plot applies to the data is the mean and as such if we have multiple observations a \n",
    "# confidence interval is bootstrapped from the data and shown as a vertical line at the top of the bar.\n",
    "\n",
    "titanic = sns.load_dataset('titanic')\n",
    "titanic.head(10)"
   ]
  },
  {
   "cell_type": "code",
   "execution_count": null,
   "metadata": {},
   "outputs": [],
   "source": [
    "titanic.dtypes"
   ]
  },
  {
   "cell_type": "code",
   "execution_count": null,
   "metadata": {},
   "outputs": [],
   "source": [
    "sns.catplot(x='sex', y='survived', hue='class', kind='bar', data=titanic);"
   ]
  },
  {
   "cell_type": "code",
   "execution_count": null,
   "metadata": {},
   "outputs": [],
   "source": [
    "# If we are interested in the frequency and not the mean, we can pass count to the kind argument which gives us a \n",
    "# countplot as shown below. \n",
    "# Here we have not passed an x value and instead use the hue argument to group by class with the y value set to deck. \n",
    "# What happens here is that as we are looking to obtain the counts of the deck variable grouped by class which means \n",
    "# the output is the count per grouping which then becomes the x axis.\n",
    "\n",
    "sns.catplot(y='deck', hue='class', kind='count', palette='pastel', edgecolor='0.6', data=titanic);"
   ]
  },
  {
   "cell_type": "code",
   "execution_count": null,
   "metadata": {},
   "outputs": [],
   "source": [
    "# The examples we have looked at so far have concentrated on relationships between variables that are explicitly passed \n",
    "# to be plot. \n",
    "# If we take the example of the iris dataset, we can be much more loose and pass the data to the method to get it applied \n",
    "# across the dataset.\n",
    "# In this example, the data is of type float for four of the five columns and passing this into the catplot with the type \n",
    "# set as box results in box plots for these four variables of type float.\n",
    "# So, we can use seaborn to be more exploratory when producing plots of our datasets. \n",
    "# It should also be noted that we achieved the horizontal box plots by passing the orient argument set to h.\n",
    "\n",
    "iris.head()"
   ]
  },
  {
   "cell_type": "code",
   "execution_count": null,
   "metadata": {},
   "outputs": [],
   "source": [
    "iris.dtypes"
   ]
  },
  {
   "cell_type": "code",
   "execution_count": null,
   "metadata": {},
   "outputs": [],
   "source": [
    "sns.catplot(orient='h', kind='box', data=iris);"
   ]
  },
  {
   "cell_type": "code",
   "execution_count": null,
   "metadata": {},
   "outputs": [],
   "source": [
    "# Having shown how to apply hue on catplot, we can also use the col argument to create multiple plots. \n",
    "# This is demonstrated using the tips dataset and plotting a swarm plot of day against total bill with the hue being smoker, \n",
    "# but to extend this we add the col as time which gives us two plots one for time set to Lunch and one for time set to Dinner. \n",
    "# This is shown below.\n",
    "\n",
    "sns.catplot(x='day', y='total_bill', hue='smoker', col='time', aspect=0.6, kind='swarm', data=tips);"
   ]
  },
  {
   "cell_type": "code",
   "execution_count": null,
   "metadata": {},
   "outputs": [],
   "source": [
    "# Next, we look at plotting a single set of data as opposed to one value against another.\n",
    "# We call this a univariate distribution, and for this type of data, we may want to use a histogram. \n",
    "# To demonstrate this, we can simply generate some random data and then pass this into distplot to give us \n",
    "# a histogram with a KDE fit to our data.\n",
    "\n",
    "sns.set(color_codes=True)\n",
    "x = np.random.normal(size=100)\n",
    "sns.distplot(x);"
   ]
  },
  {
   "cell_type": "code",
   "execution_count": null,
   "metadata": {},
   "outputs": [],
   "source": [
    "# We can customise the histogram and next we look to remove the KDE by setting the kde option to False \n",
    "# and add a rugplot by setting the rug option to True.\n",
    "# A rugplot shows every single value of data as lines along the x axis giving us a representation of the data.\n",
    "\n",
    "sns.distplot(x, kde=False, rug=True);"
   ]
  },
  {
   "cell_type": "code",
   "execution_count": null,
   "metadata": {},
   "outputs": [],
   "source": [
    "# The previous histogram bin values have been the default values that distplot have used with the dataset. \n",
    "# If we want to specify the number of bins to use, we can just set the bin argument to the value that we want and the plot \n",
    "# will divide into the number of bins requested as shown below.\n",
    "\n",
    "x[0:10]"
   ]
  },
  {
   "cell_type": "code",
   "execution_count": null,
   "metadata": {},
   "outputs": [],
   "source": [
    "sns.distplot(x, bins=20, kde=False, rug=True);"
   ]
  },
  {
   "cell_type": "code",
   "execution_count": null,
   "metadata": {},
   "outputs": [],
   "source": [
    "# Now having covered scatterplots and histograms, we now look at method which plots both; by using the 'jointplot' method, \n",
    "# we get a scatterplot of x against y as well as the histograms for each variable in the x and y axis. \n",
    "# In our example, we create two random variables and put these into a DataFrame. \n",
    "# This DataFrame is then passed in as the data argument and we set x and y arguments to refer to the columns in our DataFrame \n",
    "# with the resultant plot shown below.\n",
    "\n",
    "x = np.random.normal(size=100)\n",
    "y = np.random.normal(size=100)\n",
    "df = pd.DataFrame({'x':x, 'y':y})\n",
    "df.head()"
   ]
  },
  {
   "cell_type": "code",
   "execution_count": null,
   "metadata": {},
   "outputs": [],
   "source": [
    "sns.jointplot(x='x', y='y', data=df);"
   ]
  },
  {
   "cell_type": "code",
   "execution_count": null,
   "metadata": {},
   "outputs": [],
   "source": [
    "# The last plot that we will consider in this chapter is the pairplot. \n",
    "# In the example shown, we simply pass in the iris DataFrame and the result is a plot which shows every value plotted\n",
    "# against every other one as a scatter plot with the distribution of each variable given as a histogram where the x and y \n",
    "# names are the same as shown below. \n",
    "# Note in the example, we have categorical data within the iris DataFrame yet the pairplot ignores this column.\n",
    "\n",
    "iris.head()"
   ]
  },
  {
   "cell_type": "code",
   "execution_count": null,
   "metadata": {},
   "outputs": [],
   "source": [
    "sns.pairplot(iris);"
   ]
  },
  {
   "cell_type": "code",
   "execution_count": null,
   "metadata": {},
   "outputs": [],
   "source": [
    "# In this chapter, we have looked at plotting in Python and seen how we can produce simple easy to use through to very \n",
    "# complicated customisable plots. \n",
    "# What this hopefully demonstrates is the power of Python when it comes to producing plots. \n",
    "# The examples shown should act as a reference for you to refer back to and give you a document of some of what can be \n",
    "# achieved in Python."
   ]
  }
 ],
 "metadata": {
  "kernelspec": {
   "display_name": "Python 3",
   "language": "python",
   "name": "python3"
  },
  "language_info": {
   "codemirror_mode": {
    "name": "ipython",
    "version": 3
   },
   "file_extension": ".py",
   "mimetype": "text/x-python",
   "name": "python",
   "nbconvert_exporter": "python",
   "pygments_lexer": "ipython3",
   "version": "3.8.5"
  }
 },
 "nbformat": 4,
 "nbformat_minor": 4
}
