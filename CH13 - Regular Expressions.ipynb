{
 "cells": [
  {
   "cell_type": "code",
   "execution_count": null,
   "metadata": {},
   "outputs": [],
   "source": [
    "# An extension to dealing with strings is the concept of regular expressions. \n",
    "# The broad concept is that we can do advanced searches beyond the simple ones.\n",
    "\n",
    "text = \"Hello in this is string\"\n",
    "\"Hello\" in text"
   ]
  },
  {
   "cell_type": "code",
   "execution_count": null,
   "metadata": {},
   "outputs": [],
   "source": [
    "# The first example looks at finding all the characters a to m within the string Rob Mastrodomenico. \n",
    "# Now to do this we pass a string containing a-m within list parenthesis and pass this into the 'findall' method \n",
    "# with the string of interest which has been called name. \n",
    "# The result from this is a list containing all the characters in a-m which appear in the string.\n",
    "\n",
    "import re\n",
    "\n",
    "name = 'Rob Mastrodomenico'\n",
    "x = re.findall(\"ob\",name)\n",
    "x"
   ]
  },
  {
   "cell_type": "code",
   "execution_count": null,
   "metadata": {},
   "outputs": [],
   "source": [
    "x = re.findall(\"ab\",name)\n",
    "x"
   ]
  },
  {
   "cell_type": "code",
   "execution_count": null,
   "metadata": {},
   "outputs": [],
   "source": [
    "x = re.findall(\"at\",name)\n",
    "x"
   ]
  },
  {
   "cell_type": "code",
   "execution_count": null,
   "metadata": {},
   "outputs": [],
   "source": [
    "x = re.findall(\"[a-m]\",name)\n",
    "x"
   ]
  },
  {
   "cell_type": "code",
   "execution_count": null,
   "metadata": {},
   "outputs": [],
   "source": [
    "# Next, we see how we can find the integer values 0–9 within a sequence. \n",
    "# We can do this in two ways; the first is by mimicking what we used in the previous example with the list convention \n",
    "# but also by using d which gives us all values that are between 0 and 9. \n",
    "# Both return a list of values that occur within the string.\n",
    "\n",
    "txt = 'Find all numerical values like 1, 2, 3'\n",
    "x = re.findall(\"[0-9]\",txt)\n",
    "x"
   ]
  },
  {
   "cell_type": "code",
   "execution_count": null,
   "metadata": {},
   "outputs": [],
   "source": [
    "x = re.findall(\"\\d\",txt)\n",
    "x"
   ]
  },
  {
   "cell_type": "code",
   "execution_count": null,
   "metadata": {},
   "outputs": [],
   "source": [
    "txt = 'Find all numerical values like 1, 2, 3, 3'\n",
    "x = re.findall(\"[0-9]\",txt)\n",
    "x"
   ]
  },
  {
   "cell_type": "code",
   "execution_count": null,
   "metadata": {},
   "outputs": [],
   "source": [
    "x = re.findall(\"\\d\",txt)\n",
    "x"
   ]
  },
  {
   "cell_type": "code",
   "execution_count": null,
   "metadata": {},
   "outputs": [],
   "source": [
    "# In next example, we use the standard text hello world and look for a specific pattern. \n",
    "# We can pass the string “he..o” into the findall method and what this does is search for a sequence which starts\n",
    "# with he and has any two characters and is followed by an o, which fits nicely with the word hello. \n",
    "# So in passing this in we get back the list containing the string hello. \n",
    "\n",
    "txt = \"hello world\"\n",
    "x = re.findall(\"he..o\",txt)\n",
    "x"
   ]
  },
  {
   "cell_type": "code",
   "execution_count": null,
   "metadata": {},
   "outputs": [],
   "source": [
    "x = re.findall(\"he.o\",txt)\n",
    "x"
   ]
  },
  {
   "cell_type": "code",
   "execution_count": null,
   "metadata": {},
   "outputs": [],
   "source": [
    "x = re.findall(\"he....o\",txt)\n",
    "x"
   ]
  },
  {
   "cell_type": "code",
   "execution_count": null,
   "metadata": {},
   "outputs": [],
   "source": [
    "x = re.findall(\"ho..o\",txt)\n",
    "x"
   ]
  },
  {
   "cell_type": "code",
   "execution_count": null,
   "metadata": {},
   "outputs": [],
   "source": [
    "# We can expand on this by changing the string to “hello helpo hesoo” in doing so we see that all these words are passed \n",
    "# back from the findall. \n",
    "# In using a different example like this, we can see how this could be applied across a bigger piece of text to see all \n",
    "# the words that match this sequence.\n",
    "\n",
    "txt = \"hello helpo hesoo\"\n",
    "x = re.findall(\"he..o\",txt)\n",
    "x"
   ]
  },
  {
   "cell_type": "code",
   "execution_count": null,
   "metadata": {},
   "outputs": [],
   "source": [
    "# Next, we look at how to search specifically on the start of the string. \n",
    "# To do so you use the ^ symbol prefixed to the string of interest, \n",
    "# in this case we look for a string that starts with the string start. \n",
    "# What the result of this gives is a list containing the word that is found \n",
    "# so in the first example we get back the list containing the string start \n",
    "# and in the second example we get an empty list.\n",
    "\n",
    "txt ='starts at the end'\n",
    "x = re.findall(\"^start\",txt)\n",
    "x"
   ]
  },
  {
   "cell_type": "code",
   "execution_count": null,
   "metadata": {},
   "outputs": [],
   "source": [
    "txt ='ends at the start'\n",
    "x = re.findall(\"^start\",txt)\n",
    "x"
   ]
  },
  {
   "cell_type": "code",
   "execution_count": null,
   "metadata": {},
   "outputs": [],
   "source": [
    "# We can achieve the same thing for looking at the last word in the \n",
    "# string by using ending the searched string with the $ sign. \n",
    "# In this example, we show what we get when searching for the last part of a given string \n",
    "# and in a similar way to previous example we return a list containing that string if it \n",
    "# does exist and an empty list if it doesn’t.\n",
    "\n",
    "txt = 'the last word is end'\n",
    "x = re.findall(\"end$\",txt)\n",
    "x"
   ]
  },
  {
   "cell_type": "code",
   "execution_count": null,
   "metadata": {},
   "outputs": [],
   "source": [
    "txt = 'the last word is end sometimes'\n",
    "x = re.findall(\"end$\",txt)\n",
    "x"
   ]
  },
  {
   "cell_type": "code",
   "execution_count": null,
   "metadata": {},
   "outputs": [],
   "source": [
    "# The last two examples look at finding something specific at the start or end of a given string.\n",
    "# In the next example we look at all instances of a given string with another string.\n",
    "# What we are looking to do here is find the occurrences of ai followed by 0 or more x values.\n",
    "# So the first example shows that there are four instances of the string ai within the string when we search for aix. \n",
    "# As in the previous examples if we don’t have any instances then we get returned an empty string.\n",
    "\n",
    "txt = \"The rain in Spain falls mainly in the plain!\"\n",
    "x = re.findall(\"aix*\",txt)\n",
    "x"
   ]
  },
  {
   "cell_type": "code",
   "execution_count": null,
   "metadata": {},
   "outputs": [],
   "source": [
    "txt = 'This isnt like the other'\n",
    "\n",
    "x = re.findall(\"aix*\",txt)\n",
    "x"
   ]
  },
  {
   "cell_type": "code",
   "execution_count": null,
   "metadata": {},
   "outputs": [],
   "source": [
    "# Expanding on the previous example you can find the number of instances of the string ai followed \n",
    "# by one or more x by adding the + symbol. \n",
    "# Applying that to the same string as before gives us the result of an empty string as we don’t have aix within it.\n",
    "\n",
    "txt = \"The rain in Spain falls mainly in the plain!\"\n",
    "x = re.findall(\"aix+\",txt)\n",
    "x"
   ]
  },
  {
   "cell_type": "code",
   "execution_count": null,
   "metadata": {},
   "outputs": [],
   "source": [
    "x = re.findall(\"ainl+\",txt)\n",
    "x"
   ]
  },
  {
   "cell_type": "code",
   "execution_count": null,
   "metadata": {},
   "outputs": [],
   "source": [
    "# If we are after a specified number of characters that we want to see we can use curly\n",
    "# brackets containing the number of instances we are interested in. \n",
    "# So in the next example we want to find moo within the string so we can do it as mo2 or moo, \n",
    "# with each returning a string containing the character we have searched for.\n",
    "\n",
    "txt = 'The cow said moo'\n",
    "x = re.findall(\"mo{2}\",txt)\n",
    "x"
   ]
  },
  {
   "cell_type": "code",
   "execution_count": null,
   "metadata": {},
   "outputs": [],
   "source": [
    "x = re.findall(\"mo{3}\",txt)\n",
    "x"
   ]
  },
  {
   "cell_type": "code",
   "execution_count": null,
   "metadata": {},
   "outputs": [],
   "source": [
    "x = re.findall(\"mo{1}\",txt)\n",
    "x"
   ]
  },
  {
   "cell_type": "code",
   "execution_count": null,
   "metadata": {},
   "outputs": [],
   "source": [
    "x = re.findall(\"moo\",txt)\n",
    "x"
   ]
  },
  {
   "cell_type": "code",
   "execution_count": null,
   "metadata": {},
   "outputs": [],
   "source": [
    "# If we want to find one or another value we can do so by using the | symbol between the two strings \n",
    "# that we are interested in searching for. \n",
    "# In the example that we show we are looking for the strings avengers or heroes in our string. \n",
    "# As we have the string Avengers with a capitalised A we only have an exact match on heroes. \n",
    "# The second example uses Avengers with a capital A and therefore as that is exactly matched within the \n",
    "# string we get back a list containing both strings. \n",
    "# The last example shows what happens if we have multiple instances of one of the words that we are searching \n",
    "# for giving us the number of instances in the order that we see them.\n",
    "\n",
    "txt = \"The Avengers are earths mightiest heroes\"\n",
    "x = re.findall(\"avengers|heroes\",txt)\n",
    "x"
   ]
  },
  {
   "cell_type": "code",
   "execution_count": null,
   "metadata": {},
   "outputs": [],
   "source": [
    "x = re.findall(\"Avengers|heroes\",txt)\n",
    "x"
   ]
  },
  {
   "cell_type": "code",
   "execution_count": null,
   "metadata": {},
   "outputs": [],
   "source": [
    "txt = \"The Avengers are earths mightiest heroes go Avengers\"\n",
    "x = re.findall(\"Avengers|heroes\",txt)\n",
    "x"
   ]
  },
  {
   "cell_type": "code",
   "execution_count": null,
   "metadata": {},
   "outputs": [],
   "source": [
    "# We can also use special sequences like the one below which returns the whitespace in a given string:\n",
    "# \\s Returns a match where the string contains a white space character \"\\s\"\n",
    "\n",
    "txt = \"Is there whitespace_1_2_3\"\n",
    "x = re.findall(\"\\s\",txt)\n",
    "x"
   ]
  },
  {
   "cell_type": "code",
   "execution_count": null,
   "metadata": {},
   "outputs": [],
   "source": [
    "# \\S Returns a match where the string DOES NOT contain a white space character \"\\S\"\n",
    "\n",
    "x = re.findall(\"\\S\",txt)\n",
    "x"
   ]
  },
  {
   "cell_type": "code",
   "execution_count": null,
   "metadata": {},
   "outputs": [],
   "source": [
    "# \\A: This matches if the characters defined are at the beginning of the string \"\\AIt\"\n",
    "\n",
    "x = re.findall(\"\\AIs\",txt)\n",
    "x"
   ]
  },
  {
   "cell_type": "code",
   "execution_count": null,
   "metadata": {},
   "outputs": [],
   "source": [
    "x = re.findall(\"\\Ath\",txt)\n",
    "x"
   ]
  },
  {
   "cell_type": "code",
   "execution_count": null,
   "metadata": {},
   "outputs": [],
   "source": [
    "# \\b: This matches if the characters defined are at the beginning or at the end of a word r\"\\bain\" r\"ain\\b\"\n",
    "\n",
    "txt = \"The rain in Spain falls mainly in the plain!\"\n",
    "x = re.findall(r\"\\bain\",txt)\n",
    "x"
   ]
  },
  {
   "cell_type": "code",
   "execution_count": null,
   "metadata": {},
   "outputs": [],
   "source": [
    "x = re.findall(r\"ain\\b\",txt)\n",
    "x"
   ]
  },
  {
   "cell_type": "code",
   "execution_count": null,
   "metadata": {},
   "outputs": [],
   "source": [
    "# \\B Returns a match where the specified characters are present, but NOT at the beginning (or at the end) \n",
    "# of a word (the \"r\" in the beginning is making sure that the string is being treated as a \"raw string\") \n",
    "# r\"\\Bain\" r\"ain\\B\"\n",
    "\n",
    "x = re.findall(r\"\\Bain\",txt)\n",
    "x"
   ]
  },
  {
   "cell_type": "code",
   "execution_count": null,
   "metadata": {},
   "outputs": [],
   "source": [
    "x = re.findall(r\"ain\\B\",txt)\n",
    "x"
   ]
  },
  {
   "cell_type": "code",
   "execution_count": null,
   "metadata": {},
   "outputs": [],
   "source": [
    "# \\d Returns a match where the string contains digits (numbers from 0-9) \"\\d\"\n",
    "\n",
    "txt = \"Is there whitespace_1_2_3\"\n",
    "x = re.findall(\"\\d\",txt)\n",
    "x"
   ]
  },
  {
   "cell_type": "code",
   "execution_count": null,
   "metadata": {},
   "outputs": [],
   "source": [
    "# \\D Returns a match where the string DOES NOT contain digits \"\\D\"\n",
    "\n",
    "x = re.findall(\"\\D\",txt)\n",
    "x"
   ]
  },
  {
   "cell_type": "code",
   "execution_count": null,
   "metadata": {},
   "outputs": [],
   "source": [
    "# \\w Returns a match where the string contains any word characters (characters from a to Z, \n",
    "# digits from 0-9, and the underscore _ character) \"\\w\"\n",
    "\n",
    "x = re.findall(\"\\w\",txt)\n",
    "x"
   ]
  },
  {
   "cell_type": "code",
   "execution_count": null,
   "metadata": {},
   "outputs": [],
   "source": [
    "# \\W Returns a match where the string DOES NOT contain any word characters \"\\W\"\n",
    "\n",
    "x = re.findall(\"\\W\",txt)\n",
    "x"
   ]
  },
  {
   "cell_type": "code",
   "execution_count": null,
   "metadata": {},
   "outputs": [],
   "source": [
    "# \\Z Returns a match if the specified characters are at the end of the string\n",
    "\n",
    "x = re.findall(\"2 3\\Z\",txt)\n",
    "x"
   ]
  },
  {
   "cell_type": "code",
   "execution_count": null,
   "metadata": {},
   "outputs": [],
   "source": [
    "# split method.\n",
    "\n",
    "txt = \"The rain in Spain\"\n",
    "x = re.split(\"\\s\",txt)\n",
    "x"
   ]
  },
  {
   "cell_type": "code",
   "execution_count": null,
   "metadata": {},
   "outputs": [],
   "source": [
    "# Expanding on this we can specify the number of times we want the split to be done by using the maxsplit argument. \n",
    "# The below examples set the value to 1, 2, and 3. In each example, we see that the number of splits increases, \n",
    "# so setting the value to 1 provides us with a list containing the results of a single split. \n",
    "# As this increases we get more and more splits included.\n",
    "\n",
    "x = re.split(\"\\s\", txt, maxsplit=1)\n",
    "x"
   ]
  },
  {
   "cell_type": "code",
   "execution_count": null,
   "metadata": {},
   "outputs": [],
   "source": [
    "x = re.split(\"\\s\", txt, maxsplit=2)\n",
    "x"
   ]
  },
  {
   "cell_type": "code",
   "execution_count": null,
   "metadata": {},
   "outputs": [],
   "source": [
    "x = re.split(\"\\s\", txt, maxsplit=3)\n",
    "x"
   ]
  },
  {
   "cell_type": "code",
   "execution_count": null,
   "metadata": {},
   "outputs": [],
   "source": [
    "# The next method we demonstrate is the 'sub' method which behaves in a similar way to replace on a string. \n",
    "# In the below example we replace the white space with the value 9:\n",
    "\n",
    "x = re.sub(\"\\s\", \"_\", txt)\n",
    "x"
   ]
  },
  {
   "cell_type": "code",
   "execution_count": null,
   "metadata": {},
   "outputs": [],
   "source": [
    "# As with the previous example of split we have an extra argument that can be used here namely count,  \n",
    "# and again we apply it with values 1, 2, and 3. \n",
    "# The result of this is the number of values that are replaced in the string with 1 giving only the \n",
    "# first space being replaced by _, 2 giving the first 2 spaces being replaced and so on.\n",
    "\n",
    "x = re.sub(\"\\s\", \"_\", txt, 1)\n",
    "x"
   ]
  },
  {
   "cell_type": "code",
   "execution_count": null,
   "metadata": {},
   "outputs": [],
   "source": [
    "x = re.sub(\"\\s\", \"_\", txt, 2)\n",
    "x"
   ]
  },
  {
   "cell_type": "code",
   "execution_count": null,
   "metadata": {},
   "outputs": [],
   "source": [
    "x = re.sub(\"\\s\", \"_\", txt, 3)\n",
    "x"
   ]
  },
  {
   "cell_type": "code",
   "execution_count": null,
   "metadata": {},
   "outputs": [],
   "source": [
    "# The last example that we look at is using the 'span' method from a search result. \n",
    "# Here, if we search for a set of characters in.\n",
    "\n",
    "x = re.search(\"ai\",txt)\n",
    "x"
   ]
  },
  {
   "cell_type": "code",
   "execution_count": null,
   "metadata": {},
   "outputs": [],
   "source": [
    "x.span()"
   ]
  }
 ],
 "metadata": {
  "kernelspec": {
   "display_name": "Python 3",
   "language": "python",
   "name": "python3"
  },
  "language_info": {
   "codemirror_mode": {
    "name": "ipython",
    "version": 3
   },
   "file_extension": ".py",
   "mimetype": "text/x-python",
   "name": "python",
   "nbconvert_exporter": "python",
   "pygments_lexer": "ipython3",
   "version": "3.8.5"
  }
 },
 "nbformat": 4,
 "nbformat_minor": 4
}
